{
 "cells": [
  {
   "cell_type": "code",
   "execution_count": 2,
   "metadata": {},
   "outputs": [],
   "source": [
    "import _dunsros as DR\n",
    "\n",
    "import numpy as np\n",
    "import pandas as pd\n",
    "import matplotlib.pyplot as plt\n",
    "import seaborn as sns\n",
    "import itertools\n",
    "from tqdm import tqdm\n",
    "import sklearn.metrics as skm\n",
    "\n",
    "from kan import *\n",
    "import torch\n",
    "import torch.nn as nn\n",
    "import torch.nn.functional as F\n",
    "import torchmetrics as tm\n",
    "\n",
    "device = torch.device('cuda' if torch.cuda.is_available() else 'cpu')"
   ]
  },
  {
   "cell_type": "code",
   "execution_count": 2,
   "metadata": {},
   "outputs": [],
   "source": [
    "# условно константы\n",
    "k_og = 178                      #газовый фактор м.**3/ст.м.**3\n",
    "bo = 1.197                      #объемный коэффициент нефти\n",
    "bw = 1                          #объемный коэффициент воды\n",
    "bg = 9.1 * 1e-3                 #объемный коэффициент газа\n",
    "rhow = 1 * 1e3                  #плотность воды\n",
    "mug = 0.016 * 1e-3              #вязкость газа\n",
    "\n",
    "# условно переменные\n",
    "T = 50                          #температура гр.Ц.\n",
    "d = 0.154                       #диаметр трубы\n",
    "theta = 90                      #угол наклона скважины\n",
    "q0 = 1000                       #дебит нефти н.у.\n",
    "qg0 = 1 * 1e3                   #дебит газа н.у.\n",
    "rs = 5                          #газовый фактор — коэффициент растворимости газа в нефти (конденсации) или коэффициент выделения газа из нефти (выкипания)\n",
    "rho0 = 800                      #плотность нефти\n",
    "rhog = 700                      #плотность газа\n",
    "muo = 0.97 * 1e-3               #вязкость нефти\n",
    "epsilon = 18.288 * 1e-6         #шероховатость стенки трубы\n",
    "sigmao = 8.41 * 1e-3            #коэффициент поверхностного натяжения нефти\n",
    "# wc = 1 - qg0 / q0 / k_og        #коэффициент обводненности\n",
    "wc = 0.99\n",
    "p = 100                         #давление (где?)\n",
    "\n",
    "\n",
    "\n",
    "# расчетные величины (кроме обводненности, которую удобно использовать как входную переменную)\n",
    "qo = q0 * (1 - wc) * bo                                 #объем нефти в пластовых условиях\n",
    "ql = ((1 - wc) * bo + wc * bw) * qo                     #объем жидкости в пластовых условиях\n",
    "qg = (qg0 - q0 * rs * (1 - wc)) * bg                    #объем газа в пластовых условиях\n",
    "rho_lrc = rho0 * (1 - wc) / bo + rhow * wc / bw         #плотность жидкой фазы\n",
    "rho_grc = rhog / rs                                     #плотность газа\n",
    "\n",
    "delta_qg = 1000\n",
    "\n",
    "sec_p_day = 24 * 60 * 60                                #переведем все в систему СИ\n",
    "ql = ql / sec_p_day\n",
    "qg = (qo * rs * bg * (1 - wc) + delta_qg)  / sec_p_day\n",
    "\n",
    "args_params = {\n",
    "        \"d\": d,                         #диаметр в метрах\n",
    "        \"theta_deg\": theta,             #угол\n",
    "        \"ql_rc_m3day\": ql,              #дебит жидкости\n",
    "        \"qg_rc_m3day\": qg,              #расход газа\n",
    "        \"rho_lrc_kgm3\": rho_lrc,        #плотность жидкой фазы\n",
    "        \"rho_grc_kgm3\": rho_grc,        #плотность газа\n",
    "        \"p\": p,                         #давление (где?)\n",
    "        \"T\" : T,                        #температура смеси\n",
    "        \"wc\": wc,                       #коэффициент заводнения\n",
    "        \"sigmao\": sigmao,               #коэффициент поверхностного натяжения нефти\n",
    "        \"muo\": muo,                     #вязкость нефти\n",
    "}\n",
    "\n",
    "calibr_C_grav = 1                       #коэффициент калибровки гравитационной компоненты градиента\n",
    "calibr_C_fric = 1                       #коэффициент калибровки фрикционной компоненты градиента\n",
    "\n",
    "args_grav_grad = {\n",
    "        \"theta_deg\": theta,\n",
    "        \"c_calibr_grav\": calibr_C_grav,\n",
    "}\n",
    "\n",
    "args_fric_grad = {\n",
    "        \"eps_m\": epsilon,\n",
    "        \"mug_rc_cp\": mug,\n",
    "        \"c_calibr_fric\": calibr_C_fric,\n",
    "        \"rho_lrc_kgm3\": rho_lrc,\n",
    "        \"rho_grc_kgm3\": rho_grc,\n",
    "        \"T\" : T,\n",
    "        \"wc\": wc,\n",
    "        \"sigmao\": sigmao,\n",
    "        \"muo\" : muo,\n",
    "}"
   ]
  },
  {
   "cell_type": "code",
   "execution_count": 473,
   "metadata": {},
   "outputs": [
    {
     "data": {
      "text/plain": [
       "(0.9980338732696588, 0.011993515579116437)"
      ]
     },
     "execution_count": 473,
     "metadata": {},
     "output_type": "execute_result"
    }
   ],
   "source": [
    "qo /sec_p_day / ql, ql / qg"
   ]
  },
  {
   "cell_type": "code",
   "execution_count": 474,
   "metadata": {},
   "outputs": [
    {
     "data": {
      "text/plain": [
       "(5929.930112992178, 5929.838640256922, 0.09147273525571284)"
      ]
     },
     "execution_count": 474,
     "metadata": {},
     "output_type": "execute_result"
    }
   ],
   "source": [
    "# протестируем работоспособность класса DunsRos()\n",
    "dr_corr = DR.DunsRos()\n",
    "dr_corr.calc_params(**args_params)  #класс подразумевает предварительный рассчет параметров данным методом, иначе работать не будет\n",
    "dr_corr.calc_grav(**args_grav_grad) + dr_corr.calc_fric(**args_fric_grad), dr_corr.calc_grav(**args_grav_grad), dr_corr.calc_fric(**args_fric_grad)"
   ]
  },
  {
   "cell_type": "code",
   "execution_count": 475,
   "metadata": {},
   "outputs": [
    {
     "data": {
      "text/plain": [
       "(0.542170869852323, 0.011851375917416931, True)"
      ]
     },
     "execution_count": 475,
     "metadata": {},
     "output_type": "execute_result"
    }
   ],
   "source": [
    "dr_corr.hl, dr_corr.ll, dr_corr.hl > dr_corr.ll"
   ]
  },
  {
   "cell_type": "code",
   "execution_count": 3,
   "metadata": {},
   "outputs": [],
   "source": [
    "# создадим функцию для вычисления градиента\n",
    "def calc_DP_DZ(\n",
    "        T: float,                       #температура смеси\n",
    "        d: float,                       #диаметр в метрах\n",
    "        theta: float,                   #угол\n",
    "        q0: float,                        \n",
    "        delta_qg: float,\n",
    "        rs: float,                        \n",
    "        rho0: float,                    #плотность нефти\n",
    "        rhog: float,                    #плотность газа\n",
    "        muo: float,                       \n",
    "        epsilon : float,                #шероховатость стенки трубы\n",
    "        sigmao: float,                  #коэффициент поверхностного натяжения нефти\n",
    "        wc: float,                      #коэффициент заводнени\n",
    "        p: float,\n",
    "):\n",
    "    \n",
    "    mug = 0.016 * 1e-3                                      #вязкость газа\n",
    "    qo = q0 * (1 - wc) * bo                                 #объем нефти в пластовых условиях\n",
    "    ql = ((1 - wc) * bo + wc * bw) * qo                     #объем жидкости в пластовых условиях\n",
    "    qg = qo * rs * bg * (1 - wc) + delta_qg                 #объем газа в пластовых условиях\n",
    "    rho_lrc = rho0 * (1 - wc) / bo + rhow * wc / bw         #плотность жидкой фазы\n",
    "    rho_grc = rhog / rs                                     #плотность газа (?) \n",
    "    \n",
    "    sec_p_day = 24 * 60 * 60                                #переведем все в систему СИ\n",
    "    ql = ql / sec_p_day\n",
    "    qg = qg  / sec_p_day\n",
    "    \n",
    "    args_params = {\n",
    "        \"d\": d,                         #диаметр в метрах\n",
    "        \"theta_deg\": theta,             #угол\n",
    "        \"ql_rc_m3day\": ql,              #дебит жидкости\n",
    "        \"qg_rc_m3day\": qg,              #расход газа\n",
    "        \"rho_lrc_kgm3\": rho_lrc,        #плотность жидкой фазы\n",
    "        \"rho_grc_kgm3\": rho_grc,        #плотность газа\n",
    "        \"p\": p,                         #давление (где?)\n",
    "        \"T\" : T,                        #температура смеси\n",
    "        \"wc\": wc,                       #коэффициент заводнения\n",
    "        \"sigmao\": sigmao,               #коэффициент поверхностного натяжения нефти\n",
    "        \"muo\": muo,                     #вязкость нефти\n",
    "        }\n",
    "    \n",
    "    calibr_C_grav = 1                   #коэффициент калибровки гравитационной компоненты градиента\n",
    "    calibr_C_fric = 1                   #коэффициент калибровки фрикционной компоненты градиента\n",
    "    \n",
    "    args_grav_grad = {\n",
    "        \"theta_deg\": theta,\n",
    "        \"c_calibr_grav\": calibr_C_grav,\n",
    "        }\n",
    "    \n",
    "    args_fric_grad = {\n",
    "        \"eps_m\": epsilon,\n",
    "        \"mug_rc_cp\": mug,\n",
    "        \"c_calibr_fric\": calibr_C_fric,\n",
    "        \"rho_lrc_kgm3\": rho_lrc,\n",
    "        \"rho_grc_kgm3\": rho_grc,\n",
    "        \"T\" : T,\n",
    "        \"wc\": wc,\n",
    "        \"sigmao\": sigmao,\n",
    "        \"muo\" : muo,\n",
    "        }\n",
    "    \n",
    "    dr_corr = DR.DunsRos()\n",
    "    dr_corr.calc_params(**args_params)\n",
    "    mode = dr_corr.fp\n",
    "    hl = dr_corr.hl\n",
    "    ll = dr_corr.ll\n",
    "    grav = dr_corr.calc_grav(**args_grav_grad)\n",
    "    fric = dr_corr.calc_fric(**args_fric_grad)\n",
    "    return mode, grav, fric, hl, ll\n"
   ]
  },
  {
   "cell_type": "code",
   "execution_count": 477,
   "metadata": {},
   "outputs": [
    {
     "data": {
      "text/plain": [
       "(0,\n",
       " 4690.72431867794,\n",
       " 36.53531214518597,\n",
       " 0.6364447961138429,\n",
       " 0.5737108503710783)"
      ]
     },
     "execution_count": 477,
     "metadata": {},
     "output_type": "execute_result"
    }
   ],
   "source": [
    "T = 10                          #температура гр.Ц.\n",
    "d = 0.154                       #диаметр трубы\n",
    "theta = 90                      #угол наклона скважины\n",
    "q0 = 1000                       #дебит нефти н.у.\n",
    "delta_qg = 1000\n",
    "rs = 5                          #газовый фактор — коэффициент растворимости газа в нефти (конденсации) или коэффициент выделения газа из нефти (выкипания)\n",
    "rho0 = 800                      #плотность нефти\n",
    "rhog = 700                      #плотность газа\n",
    "muo = 0.97 * 1e-3               #вязкость нефти\n",
    "epsilon = 18.288 * 1e-6         #шероховатость стенки трубы\n",
    "sigmao = 8.41 * 1e-3            #коэффициент поверхностного натяжения нефти\n",
    "wc = 0.009\n",
    "\n",
    "calc_DP_DZ(T, d, theta, q0, delta_qg, rs, rho0, rhog, muo, epsilon, sigmao, wc, 1)"
   ]
  },
  {
   "cell_type": "code",
   "execution_count": 22,
   "metadata": {},
   "outputs": [],
   "source": [
    "count = 5\n",
    "count_min = 3\n",
    "\n",
    "# Набираем диапазоны выбранных переменных для перебора. Диапазоны короткие, т.к. при переборе будет count**13 значений (у нас 13 входных параметров)\n",
    "T = np.linspace(10, 100, count_min)                    #температура гр.Ц.\n",
    "d = np.linspace(0.11, 0.32, count)                     #диаметры труб\n",
    "theta = np.linspace(10, 90, count_min)                  #уголы наклона\n",
    "q0 = np.linspace(5, 1000, count)                       #дебит нефти п.у. м**3/с\n",
    "delta_qg = np.linspace(0, 1000, count)                 #дельта к дебиту нефти, чтобы не получить отрицательные значения по расходу газа (для корректного рассчета коррелляции)\n",
    "rs = np.linspace(5, 30, count)                         #коэффициент растворимости газа в нефти (конденсации) или коэффициент выделения газа из нефти (выкипания)\n",
    "rho0 = np.linspace(780, 900, count_min)                #плотность нефти\n",
    "rhog = np.linspace(700, 1300, count)                   #плотность газа\n",
    "muo = np.linspace(1.5 * 1e-3, 150 * 1e-3, count)       #вязкость нефти\n",
    "epsilon = np.linspace(15 * 1e-6, 300 * 1e-6, count)    #шероховатость стенки трубы\n",
    "sigmao = np.linspace(10 * 1e-3, 30 * 1e-3, count_min)  #коэффициент поверхностного натяжения нефти\n",
    "wc = np.linspace(0.05,0.98,count)                      #коэффициент обводненности\n",
    "p = np.linspace(10,100,count)                          #давление (где?)"
   ]
  },
  {
   "cell_type": "code",
   "execution_count": 69,
   "metadata": {},
   "outputs": [
    {
     "data": {
      "text/plain": [
       "31640625"
      ]
     },
     "execution_count": 69,
     "metadata": {},
     "output_type": "execute_result"
    }
   ],
   "source": [
    "iters_count = 0\n",
    "for T_i, d_i, theta_i, q0_i, delta_qg_i, rs_i, rho0_i, rhog_i, muo_i, epsilon_i, sigmao_i, wc_i in itertools.product(T, d, theta, q0, delta_qg, rs, rho0, rhog, muo, epsilon, sigmao, wc): iters_count += 1\n",
    "iters_count"
   ]
  },
  {
   "cell_type": "markdown",
   "metadata": {},
   "source": [
    "Нагенерим теперь датасет для обучения"
   ]
  },
  {
   "cell_type": "code",
   "execution_count": 24,
   "metadata": {},
   "outputs": [
    {
     "name": "stderr",
     "output_type": "stream",
     "text": [
      "100%|██████████| 31640625/31640625 [1:55:29<00:00, 4565.82it/s]  \n"
     ]
    }
   ],
   "source": [
    "iters_count = 31640625\n",
    "data_dict = []\n",
    "data_fp_2_3_dict = []\n",
    "with tqdm(total=iters_count) as pbar:\n",
    "    for T_i, d_i, theta_i, q0_i, delta_qg_i, rs_i, rho0_i, rhog_i, muo_i, epsilon_i, sigmao_i, wc_i in itertools.product(T, d, theta, q0, delta_qg, rs, rho0, rhog, muo, epsilon, sigmao, wc):\n",
    "        pbar.update(1)\n",
    "        mode, grav, fric, hl, ll = calc_DP_DZ(T_i, d_i, theta_i, q0_i, delta_qg_i, rs_i, rho0_i, rhog_i, muo_i, epsilon_i, sigmao_i, wc_i, 1)\n",
    "        if (grav > 0 and fric > 0 and hl > ll) and (mode == 0 or mode == 1):\n",
    "            DP_DZ = grav + fric\n",
    "            data_dict.append({'T' : T_i, \n",
    "                              'd' : d_i,\n",
    "                              'theta' : theta_i,\n",
    "                              'q0' : q0_i,\n",
    "                              'delta_qg' : delta_qg_i,\n",
    "                              'rs' : rs_i,\n",
    "                              'rho0' : rho0_i,\n",
    "                              'rhog' : rhog_i,\n",
    "                              'muo' : muo_i,\n",
    "                              'epsilon' : epsilon_i,\n",
    "                              'sigmao' : sigmao_i,\n",
    "                              'wc' : wc_i,\n",
    "                              'DP_DZ' : DP_DZ,\n",
    "                              'mode': mode,\n",
    "                              })\n",
    "        elif (grav > 0 and fric > 0 and hl > ll) and (mode == 2 or mode == 3):\n",
    "            for p_i in p:\n",
    "                mode, grav, fric, hl, ll = calc_DP_DZ(T_i, d_i, theta_i, q0_i, delta_qg_i, rs_i, rho0_i, rhog_i, muo_i, epsilon_i, sigmao_i, wc_i, p_i)\n",
    "                DP_DZ = grav + fric\n",
    "                data_fp_2_3_dict.append({'T' : T_i, \n",
    "                                        'd' : d_i,\n",
    "                                        'theta' : theta_i,\n",
    "                                        'q0' : q0_i,\n",
    "                                        'delta_qg' : delta_qg_i,\n",
    "                                        'rs' : rs_i,\n",
    "                                        'rho0' : rho0_i,\n",
    "                                        'rhog' : rhog_i,\n",
    "                                        'muo' : muo_i,\n",
    "                                        'epsilon' : epsilon_i,\n",
    "                                        'sigmao' : sigmao_i,\n",
    "                                        'wc' : wc_i,\n",
    "                                        'p' : p_i,                                        \n",
    "                                        'DP_DZ' : DP_DZ,\n",
    "                                        'mode': mode,\n",
    "                                        })\n"
   ]
  },
  {
   "cell_type": "markdown",
   "metadata": {},
   "source": [
    "Теперь нужно нагенерить данных для валидаци. Их мы будем вычислять для промежуточных значений аргументов."
   ]
  },
  {
   "cell_type": "code",
   "execution_count": null,
   "metadata": {},
   "outputs": [],
   "source": [
    "count = 2\n",
    "\n",
    "# Набираем диапазоны выбранных переменных для перебора. Диапазоны короткие, т.к. при переборе будет count**13 значений (у нас 13 входных параметров)\n",
    "T = 60                    #температура гр.Ц.\n",
    "d = np.linspace(0.15, 0.25, count)                     #диаметры труб\n",
    "theta = 80                  #уголы наклона\n",
    "q0 = np.linspace(100, 700, count)                       #дебит нефти п.у. м**3/с\n",
    "delta_qg = np.linspace(0, 1000, count)                 #дельта к дебиту нефти, чтобы не получить отрицательные значения по расходу газа (для корректного рассчета коррелляции)\n",
    "rs = np.linspace(5, 30, count)                         #коэффициент растворимости газа в нефти (конденсации) или коэффициент выделения газа из нефти (выкипания)\n",
    "rho0 = np.linspace(780, 900, count_min)                #плотность нефти\n",
    "rhog = np.linspace(700, 1300, count)                   #плотность газа\n",
    "muo = np.linspace(1.5 * 1e-3, 150 * 1e-3, count)       #вязкость нефти\n",
    "epsilon = np.linspace(15 * 1e-6, 300 * 1e-6, count)    #шероховатость стенки трубы\n",
    "sigmao = np.linspace(10 * 1e-3, 30 * 1e-3, count_min)  #коэффициент поверхностного натяжения нефти\n",
    "wc = np.linspace(0.05,0.98,count)                      #коэффициент обводненности\n",
    "p = np.linspace(10,100,count)                          #давление (где?)"
   ]
  },
  {
   "cell_type": "code",
   "execution_count": null,
   "metadata": {},
   "outputs": [],
   "source": [
    "data = pd.DataFrame(data_dict)\n",
    "# data_2_3 = pd.DataFrame(data_fp_2_3_dict)\n",
    "data.to_csv('data.csv')\n",
    "# data_2_3.to_csv('data_2_3.csv')"
   ]
  },
  {
   "cell_type": "code",
   "execution_count": 27,
   "metadata": {},
   "outputs": [
    {
     "data": {
      "text/html": [
       "<div>\n",
       "<style scoped>\n",
       "    .dataframe tbody tr th:only-of-type {\n",
       "        vertical-align: middle;\n",
       "    }\n",
       "\n",
       "    .dataframe tbody tr th {\n",
       "        vertical-align: top;\n",
       "    }\n",
       "\n",
       "    .dataframe thead th {\n",
       "        text-align: right;\n",
       "    }\n",
       "</style>\n",
       "<table border=\"1\" class=\"dataframe\">\n",
       "  <thead>\n",
       "    <tr style=\"text-align: right;\">\n",
       "      <th></th>\n",
       "      <th>T</th>\n",
       "      <th>d</th>\n",
       "      <th>theta</th>\n",
       "      <th>q0</th>\n",
       "      <th>delta_qg</th>\n",
       "      <th>rs</th>\n",
       "      <th>rho0</th>\n",
       "      <th>rhog</th>\n",
       "      <th>muo</th>\n",
       "      <th>epsilon</th>\n",
       "      <th>sigmao</th>\n",
       "      <th>wc</th>\n",
       "      <th>DP_DZ</th>\n",
       "      <th>mode</th>\n",
       "    </tr>\n",
       "  </thead>\n",
       "  <tbody>\n",
       "    <tr>\n",
       "      <th>0</th>\n",
       "      <td>10.0</td>\n",
       "      <td>0.11</td>\n",
       "      <td>10.0</td>\n",
       "      <td>5.0</td>\n",
       "      <td>0.0</td>\n",
       "      <td>5.0</td>\n",
       "      <td>780.0</td>\n",
       "      <td>700.0</td>\n",
       "      <td>0.0015</td>\n",
       "      <td>0.000015</td>\n",
       "      <td>0.01</td>\n",
       "      <td>0.0500</td>\n",
       "      <td>1138.069945</td>\n",
       "      <td>0</td>\n",
       "    </tr>\n",
       "    <tr>\n",
       "      <th>1</th>\n",
       "      <td>10.0</td>\n",
       "      <td>0.11</td>\n",
       "      <td>10.0</td>\n",
       "      <td>5.0</td>\n",
       "      <td>0.0</td>\n",
       "      <td>5.0</td>\n",
       "      <td>780.0</td>\n",
       "      <td>700.0</td>\n",
       "      <td>0.0015</td>\n",
       "      <td>0.000015</td>\n",
       "      <td>0.01</td>\n",
       "      <td>0.2825</td>\n",
       "      <td>1276.746966</td>\n",
       "      <td>0</td>\n",
       "    </tr>\n",
       "    <tr>\n",
       "      <th>2</th>\n",
       "      <td>10.0</td>\n",
       "      <td>0.11</td>\n",
       "      <td>10.0</td>\n",
       "      <td>5.0</td>\n",
       "      <td>0.0</td>\n",
       "      <td>5.0</td>\n",
       "      <td>780.0</td>\n",
       "      <td>700.0</td>\n",
       "      <td>0.0015</td>\n",
       "      <td>0.000015</td>\n",
       "      <td>0.01</td>\n",
       "      <td>0.5150</td>\n",
       "      <td>1415.209229</td>\n",
       "      <td>0</td>\n",
       "    </tr>\n",
       "    <tr>\n",
       "      <th>3</th>\n",
       "      <td>10.0</td>\n",
       "      <td>0.11</td>\n",
       "      <td>10.0</td>\n",
       "      <td>5.0</td>\n",
       "      <td>0.0</td>\n",
       "      <td>5.0</td>\n",
       "      <td>780.0</td>\n",
       "      <td>700.0</td>\n",
       "      <td>0.0015</td>\n",
       "      <td>0.000015</td>\n",
       "      <td>0.01</td>\n",
       "      <td>0.7475</td>\n",
       "      <td>1553.510025</td>\n",
       "      <td>0</td>\n",
       "    </tr>\n",
       "    <tr>\n",
       "      <th>4</th>\n",
       "      <td>10.0</td>\n",
       "      <td>0.11</td>\n",
       "      <td>10.0</td>\n",
       "      <td>5.0</td>\n",
       "      <td>0.0</td>\n",
       "      <td>5.0</td>\n",
       "      <td>780.0</td>\n",
       "      <td>700.0</td>\n",
       "      <td>0.0015</td>\n",
       "      <td>0.000015</td>\n",
       "      <td>0.01</td>\n",
       "      <td>0.9800</td>\n",
       "      <td>1691.618803</td>\n",
       "      <td>0</td>\n",
       "    </tr>\n",
       "    <tr>\n",
       "      <th>5</th>\n",
       "      <td>10.0</td>\n",
       "      <td>0.11</td>\n",
       "      <td>10.0</td>\n",
       "      <td>5.0</td>\n",
       "      <td>0.0</td>\n",
       "      <td>5.0</td>\n",
       "      <td>780.0</td>\n",
       "      <td>700.0</td>\n",
       "      <td>0.0015</td>\n",
       "      <td>0.000015</td>\n",
       "      <td>0.02</td>\n",
       "      <td>0.0500</td>\n",
       "      <td>1138.267172</td>\n",
       "      <td>0</td>\n",
       "    </tr>\n",
       "    <tr>\n",
       "      <th>6</th>\n",
       "      <td>10.0</td>\n",
       "      <td>0.11</td>\n",
       "      <td>10.0</td>\n",
       "      <td>5.0</td>\n",
       "      <td>0.0</td>\n",
       "      <td>5.0</td>\n",
       "      <td>780.0</td>\n",
       "      <td>700.0</td>\n",
       "      <td>0.0015</td>\n",
       "      <td>0.000015</td>\n",
       "      <td>0.02</td>\n",
       "      <td>0.2825</td>\n",
       "      <td>1276.797217</td>\n",
       "      <td>0</td>\n",
       "    </tr>\n",
       "    <tr>\n",
       "      <th>7</th>\n",
       "      <td>10.0</td>\n",
       "      <td>0.11</td>\n",
       "      <td>10.0</td>\n",
       "      <td>5.0</td>\n",
       "      <td>0.0</td>\n",
       "      <td>5.0</td>\n",
       "      <td>780.0</td>\n",
       "      <td>700.0</td>\n",
       "      <td>0.0015</td>\n",
       "      <td>0.000015</td>\n",
       "      <td>0.02</td>\n",
       "      <td>0.5150</td>\n",
       "      <td>1415.221027</td>\n",
       "      <td>0</td>\n",
       "    </tr>\n",
       "    <tr>\n",
       "      <th>8</th>\n",
       "      <td>10.0</td>\n",
       "      <td>0.11</td>\n",
       "      <td>10.0</td>\n",
       "      <td>5.0</td>\n",
       "      <td>0.0</td>\n",
       "      <td>5.0</td>\n",
       "      <td>780.0</td>\n",
       "      <td>700.0</td>\n",
       "      <td>0.0015</td>\n",
       "      <td>0.000015</td>\n",
       "      <td>0.02</td>\n",
       "      <td>0.7475</td>\n",
       "      <td>1553.511426</td>\n",
       "      <td>0</td>\n",
       "    </tr>\n",
       "    <tr>\n",
       "      <th>9</th>\n",
       "      <td>10.0</td>\n",
       "      <td>0.11</td>\n",
       "      <td>10.0</td>\n",
       "      <td>5.0</td>\n",
       "      <td>0.0</td>\n",
       "      <td>5.0</td>\n",
       "      <td>780.0</td>\n",
       "      <td>700.0</td>\n",
       "      <td>0.0015</td>\n",
       "      <td>0.000015</td>\n",
       "      <td>0.02</td>\n",
       "      <td>0.9800</td>\n",
       "      <td>1691.618804</td>\n",
       "      <td>0</td>\n",
       "    </tr>\n",
       "  </tbody>\n",
       "</table>\n",
       "</div>"
      ],
      "text/plain": [
       "      T     d  theta   q0  delta_qg   rs   rho0   rhog     muo   epsilon  \\\n",
       "0  10.0  0.11   10.0  5.0       0.0  5.0  780.0  700.0  0.0015  0.000015   \n",
       "1  10.0  0.11   10.0  5.0       0.0  5.0  780.0  700.0  0.0015  0.000015   \n",
       "2  10.0  0.11   10.0  5.0       0.0  5.0  780.0  700.0  0.0015  0.000015   \n",
       "3  10.0  0.11   10.0  5.0       0.0  5.0  780.0  700.0  0.0015  0.000015   \n",
       "4  10.0  0.11   10.0  5.0       0.0  5.0  780.0  700.0  0.0015  0.000015   \n",
       "5  10.0  0.11   10.0  5.0       0.0  5.0  780.0  700.0  0.0015  0.000015   \n",
       "6  10.0  0.11   10.0  5.0       0.0  5.0  780.0  700.0  0.0015  0.000015   \n",
       "7  10.0  0.11   10.0  5.0       0.0  5.0  780.0  700.0  0.0015  0.000015   \n",
       "8  10.0  0.11   10.0  5.0       0.0  5.0  780.0  700.0  0.0015  0.000015   \n",
       "9  10.0  0.11   10.0  5.0       0.0  5.0  780.0  700.0  0.0015  0.000015   \n",
       "\n",
       "   sigmao      wc        DP_DZ  mode  \n",
       "0    0.01  0.0500  1138.069945     0  \n",
       "1    0.01  0.2825  1276.746966     0  \n",
       "2    0.01  0.5150  1415.209229     0  \n",
       "3    0.01  0.7475  1553.510025     0  \n",
       "4    0.01  0.9800  1691.618803     0  \n",
       "5    0.02  0.0500  1138.267172     0  \n",
       "6    0.02  0.2825  1276.797217     0  \n",
       "7    0.02  0.5150  1415.221027     0  \n",
       "8    0.02  0.7475  1553.511426     0  \n",
       "9    0.02  0.9800  1691.618804     0  "
      ]
     },
     "execution_count": 27,
     "metadata": {},
     "output_type": "execute_result"
    }
   ],
   "source": [
    "data.head(10)"
   ]
  },
  {
   "cell_type": "code",
   "execution_count": 28,
   "metadata": {},
   "outputs": [
    {
     "data": {
      "text/plain": [
       "(427.0378927128137, 9761.318266811797)"
      ]
     },
     "execution_count": 28,
     "metadata": {},
     "output_type": "execute_result"
    }
   ],
   "source": [
    "data['DP_DZ'].min(), data['DP_DZ'].max()"
   ]
  },
  {
   "cell_type": "code",
   "execution_count": 29,
   "metadata": {},
   "outputs": [
    {
     "data": {
      "text/plain": [
       "(9365925, 21388200)"
      ]
     },
     "execution_count": 29,
     "metadata": {},
     "output_type": "execute_result"
    }
   ],
   "source": [
    "data[data['mode'] == 1].count()['mode'], data[data['mode'] == 0].count()['mode']"
   ]
  },
  {
   "cell_type": "code",
   "execution_count": 10,
   "metadata": {},
   "outputs": [
    {
     "name": "stdout",
     "output_type": "stream",
     "text": [
      "<class 'pandas.core.frame.DataFrame'>\n",
      "RangeIndex: 30754125 entries, 0 to 30754124\n",
      "Data columns (total 15 columns):\n",
      " #   Column      Non-Null Count     Dtype  \n",
      "---  ------      --------------     -----  \n",
      " 0   Unnamed: 0  30754125 non-null  int64  \n",
      " 1   T           30754125 non-null  float64\n",
      " 2   d           30754125 non-null  float64\n",
      " 3   theta       30754125 non-null  float64\n",
      " 4   q0          30754125 non-null  float64\n",
      " 5   delta_qg    30754125 non-null  float64\n",
      " 6   rs          30754125 non-null  float64\n",
      " 7   rho0        30754125 non-null  float64\n",
      " 8   rhog        30754125 non-null  float64\n",
      " 9   muo         30754125 non-null  float64\n",
      " 10  epsilon     30754125 non-null  float64\n",
      " 11  sigmao      30754125 non-null  float64\n",
      " 12  wc          30754125 non-null  float64\n",
      " 13  DP_DZ       30754125 non-null  float64\n",
      " 14  mode        30754125 non-null  int64  \n",
      "dtypes: float64(13), int64(2)\n",
      "memory usage: 3.4 GB\n"
     ]
    }
   ],
   "source": [
    "data.info(show_counts = True)"
   ]
  },
  {
   "cell_type": "code",
   "execution_count": 9,
   "metadata": {},
   "outputs": [
    {
     "data": {
      "text/plain": [
       "0"
      ]
     },
     "execution_count": 9,
     "metadata": {},
     "output_type": "execute_result"
    }
   ],
   "source": [
    "len(data.index)-len(data.drop_duplicates().index)"
   ]
  },
  {
   "cell_type": "code",
   "execution_count": 6,
   "metadata": {},
   "outputs": [
    {
     "data": {
      "text/plain": [
       "T           0\n",
       "d           0\n",
       "theta       0\n",
       "q0          0\n",
       "delta_qg    0\n",
       "rs          0\n",
       "rho0        0\n",
       "rhog        0\n",
       "muo         0\n",
       "epsilon     0\n",
       "sigmao      0\n",
       "wc          0\n",
       "DP_DZ       0\n",
       "dtype: int64"
      ]
     },
     "execution_count": 6,
     "metadata": {},
     "output_type": "execute_result"
    }
   ],
   "source": [
    "data.isna().sum()"
   ]
  },
  {
   "cell_type": "code",
   "execution_count": 33,
   "metadata": {},
   "outputs": [
    {
     "data": {
      "text/plain": [
       "0"
      ]
     },
     "execution_count": 33,
     "metadata": {},
     "output_type": "execute_result"
    }
   ],
   "source": [
    "data[data['DP_DZ'] == 0].count()['DP_DZ']"
   ]
  },
  {
   "cell_type": "markdown",
   "metadata": {},
   "source": [
    "Попробуем разобраться, почему мы наблюдаем только пузырьковый и пробковый режимы. \n",
    "Для этого нужно посмотреть при каких параметрах n_gv > n_tr_m\n",
    "где n_gv = self.vsg * (rho_lrc_kgm3 / (9.81 * sigma_l_nm)) ** 0.25, а n_tr_m = 75 + 84 * n_lv**0.75, где в свою очередь\n",
    "self.vsl * (rho_lrc_kgm3 / (9.81 * sigma_l_nm)) ** 0.25,\n",
    "а обе vs* прямопропорциональны дебиту жидкости (газа) и обратнопропорциональны площади сечения трубы"
   ]
  },
  {
   "cell_type": "code",
   "execution_count": 280,
   "metadata": {},
   "outputs": [],
   "source": [
    "d = 0.011                         #диаметр в метрах\n",
    "theta_deg = 90             #угол\n",
    "ql_rc_m3day = 80 / sec_p_day              #дебит жидкости\n",
    "qg_rc_m3day = 1000 / sec_p_day              #расход газа\n",
    "rho_lrc_kgm3 = 900        #плотность жидкой фазы\n",
    "rho_grc_kgm3 = 140        #плотность газа\n",
    "p = 1                         #давление (где?)\n",
    "sigmao = 0.00841               #коэффициент поверхностного натяжения нефти\n",
    "muo = 0.97 * 1e-3                     #вязкость нефти\n",
    "T = 100\n",
    "wc = 0.9\n",
    "\n",
    "\n",
    "\n",
    "args_params = {\n",
    "        \"d\": d,                         #диаметр в метрах\n",
    "        \"theta_deg\": theta_deg,             #угол\n",
    "        \"ql_rc_m3day\": ql_rc_m3day,              #дебит жидкости\n",
    "        \"qg_rc_m3day\": qg_rc_m3day,              #расход газа\n",
    "        \"rho_lrc_kgm3\": rho_lrc_kgm3,        #плотность жидкой фазы\n",
    "        \"rho_grc_kgm3\": rho_grc_kgm3,        #плотность газа\n",
    "        \"p\": p,                         #давление (где?)\n",
    "        \"T\" : T,                        #температура смеси\n",
    "        \"wc\": wc,                       #коэффициент заводнения\n",
    "        \"sigmao\": sigmao,               #коэффициент поверхностного натяжения нефти\n",
    "        \"muo\": muo,                     #вязкость нефти\n",
    "        }\n",
    "\n",
    "dr_corr = DR.DunsRos()\n",
    "dr_corr.calc_params(**args_params)\n"
   ]
  },
  {
   "cell_type": "code",
   "execution_count": 277,
   "metadata": {},
   "outputs": [
    {
     "data": {
      "text/plain": [
       "(802.6655329082911, 121.7898248331002)"
      ]
     },
     "execution_count": 277,
     "metadata": {},
     "output_type": "execute_result"
    }
   ],
   "source": [
    "n_gv = dr_corr.vsg * (rho_lrc / (9.81 * (sigmao * (1 - wc) + dr_corr.dr_const[\"sigmaw\"](T) * wc))) ** 0.25\n",
    "n_gv, dr_corr.vsg"
   ]
  },
  {
   "cell_type": "code",
   "execution_count": 278,
   "metadata": {},
   "outputs": [
    {
     "data": {
      "text/plain": [
       "(604.4847163583545, 9.743185986648017)"
      ]
     },
     "execution_count": 278,
     "metadata": {},
     "output_type": "execute_result"
    }
   ],
   "source": [
    "n_tr_m = 75 + 84 * ((dr_corr.vsl * (rho_lrc / (9.81 * (sigmao * (1 - wc) + dr_corr.dr_const[\"sigmaw\"](T) * wc)))) ** 0.25) ** 0.75\n",
    "n_tr_m, dr_corr.vsl"
   ]
  },
  {
   "cell_type": "markdown",
   "metadata": {},
   "source": [
    "Таким образом эмульсионный режим возможен в данной корреляции либо в газовой скважине(но при этом градиент получается отрицательным), \n",
    "либо в при малых диаметрах трубы (~10 см), но также при налиичии большого количества попутного газа. Эти цифры нереалистичны, поэтому опустим. Окей, вернемся к нашим данным."
   ]
  },
  {
   "cell_type": "code",
   "execution_count": 97,
   "metadata": {},
   "outputs": [],
   "source": [
    "data = pd.read_csv('data.csv')\n",
    "data.drop({'Unnamed: 0', 'mode'}, axis=1, inplace=True)"
   ]
  },
  {
   "cell_type": "code",
   "execution_count": 98,
   "metadata": {},
   "outputs": [],
   "source": [
    "labels = pd.DataFrame(data['DP_DZ'])"
   ]
  },
  {
   "cell_type": "code",
   "execution_count": 99,
   "metadata": {},
   "outputs": [],
   "source": [
    "data.drop('DP_DZ', axis=1, inplace=True)"
   ]
  },
  {
   "cell_type": "code",
   "execution_count": 100,
   "metadata": {},
   "outputs": [
    {
     "data": {
      "text/html": [
       "<div>\n",
       "<style scoped>\n",
       "    .dataframe tbody tr th:only-of-type {\n",
       "        vertical-align: middle;\n",
       "    }\n",
       "\n",
       "    .dataframe tbody tr th {\n",
       "        vertical-align: top;\n",
       "    }\n",
       "\n",
       "    .dataframe thead th {\n",
       "        text-align: right;\n",
       "    }\n",
       "</style>\n",
       "<table border=\"1\" class=\"dataframe\">\n",
       "  <thead>\n",
       "    <tr style=\"text-align: right;\">\n",
       "      <th></th>\n",
       "      <th>T</th>\n",
       "      <th>d</th>\n",
       "      <th>theta</th>\n",
       "      <th>q0</th>\n",
       "      <th>delta_qg</th>\n",
       "      <th>rs</th>\n",
       "      <th>rho0</th>\n",
       "      <th>rhog</th>\n",
       "      <th>muo</th>\n",
       "      <th>epsilon</th>\n",
       "      <th>sigmao</th>\n",
       "      <th>wc</th>\n",
       "    </tr>\n",
       "  </thead>\n",
       "  <tbody>\n",
       "    <tr>\n",
       "      <th>0</th>\n",
       "      <td>10.0</td>\n",
       "      <td>0.11</td>\n",
       "      <td>10.0</td>\n",
       "      <td>5.0</td>\n",
       "      <td>0.0</td>\n",
       "      <td>5.0</td>\n",
       "      <td>780.0</td>\n",
       "      <td>700.0</td>\n",
       "      <td>0.0015</td>\n",
       "      <td>0.000015</td>\n",
       "      <td>0.01</td>\n",
       "      <td>0.0500</td>\n",
       "    </tr>\n",
       "    <tr>\n",
       "      <th>1</th>\n",
       "      <td>10.0</td>\n",
       "      <td>0.11</td>\n",
       "      <td>10.0</td>\n",
       "      <td>5.0</td>\n",
       "      <td>0.0</td>\n",
       "      <td>5.0</td>\n",
       "      <td>780.0</td>\n",
       "      <td>700.0</td>\n",
       "      <td>0.0015</td>\n",
       "      <td>0.000015</td>\n",
       "      <td>0.01</td>\n",
       "      <td>0.2825</td>\n",
       "    </tr>\n",
       "    <tr>\n",
       "      <th>2</th>\n",
       "      <td>10.0</td>\n",
       "      <td>0.11</td>\n",
       "      <td>10.0</td>\n",
       "      <td>5.0</td>\n",
       "      <td>0.0</td>\n",
       "      <td>5.0</td>\n",
       "      <td>780.0</td>\n",
       "      <td>700.0</td>\n",
       "      <td>0.0015</td>\n",
       "      <td>0.000015</td>\n",
       "      <td>0.01</td>\n",
       "      <td>0.5150</td>\n",
       "    </tr>\n",
       "    <tr>\n",
       "      <th>3</th>\n",
       "      <td>10.0</td>\n",
       "      <td>0.11</td>\n",
       "      <td>10.0</td>\n",
       "      <td>5.0</td>\n",
       "      <td>0.0</td>\n",
       "      <td>5.0</td>\n",
       "      <td>780.0</td>\n",
       "      <td>700.0</td>\n",
       "      <td>0.0015</td>\n",
       "      <td>0.000015</td>\n",
       "      <td>0.01</td>\n",
       "      <td>0.7475</td>\n",
       "    </tr>\n",
       "    <tr>\n",
       "      <th>4</th>\n",
       "      <td>10.0</td>\n",
       "      <td>0.11</td>\n",
       "      <td>10.0</td>\n",
       "      <td>5.0</td>\n",
       "      <td>0.0</td>\n",
       "      <td>5.0</td>\n",
       "      <td>780.0</td>\n",
       "      <td>700.0</td>\n",
       "      <td>0.0015</td>\n",
       "      <td>0.000015</td>\n",
       "      <td>0.01</td>\n",
       "      <td>0.9800</td>\n",
       "    </tr>\n",
       "    <tr>\n",
       "      <th>...</th>\n",
       "      <td>...</td>\n",
       "      <td>...</td>\n",
       "      <td>...</td>\n",
       "      <td>...</td>\n",
       "      <td>...</td>\n",
       "      <td>...</td>\n",
       "      <td>...</td>\n",
       "      <td>...</td>\n",
       "      <td>...</td>\n",
       "      <td>...</td>\n",
       "      <td>...</td>\n",
       "      <td>...</td>\n",
       "    </tr>\n",
       "    <tr>\n",
       "      <th>30754120</th>\n",
       "      <td>100.0</td>\n",
       "      <td>0.32</td>\n",
       "      <td>90.0</td>\n",
       "      <td>1000.0</td>\n",
       "      <td>1000.0</td>\n",
       "      <td>30.0</td>\n",
       "      <td>900.0</td>\n",
       "      <td>1300.0</td>\n",
       "      <td>0.1500</td>\n",
       "      <td>0.000300</td>\n",
       "      <td>0.03</td>\n",
       "      <td>0.0500</td>\n",
       "    </tr>\n",
       "    <tr>\n",
       "      <th>30754121</th>\n",
       "      <td>100.0</td>\n",
       "      <td>0.32</td>\n",
       "      <td>90.0</td>\n",
       "      <td>1000.0</td>\n",
       "      <td>1000.0</td>\n",
       "      <td>30.0</td>\n",
       "      <td>900.0</td>\n",
       "      <td>1300.0</td>\n",
       "      <td>0.1500</td>\n",
       "      <td>0.000300</td>\n",
       "      <td>0.03</td>\n",
       "      <td>0.2825</td>\n",
       "    </tr>\n",
       "    <tr>\n",
       "      <th>30754122</th>\n",
       "      <td>100.0</td>\n",
       "      <td>0.32</td>\n",
       "      <td>90.0</td>\n",
       "      <td>1000.0</td>\n",
       "      <td>1000.0</td>\n",
       "      <td>30.0</td>\n",
       "      <td>900.0</td>\n",
       "      <td>1300.0</td>\n",
       "      <td>0.1500</td>\n",
       "      <td>0.000300</td>\n",
       "      <td>0.03</td>\n",
       "      <td>0.5150</td>\n",
       "    </tr>\n",
       "    <tr>\n",
       "      <th>30754123</th>\n",
       "      <td>100.0</td>\n",
       "      <td>0.32</td>\n",
       "      <td>90.0</td>\n",
       "      <td>1000.0</td>\n",
       "      <td>1000.0</td>\n",
       "      <td>30.0</td>\n",
       "      <td>900.0</td>\n",
       "      <td>1300.0</td>\n",
       "      <td>0.1500</td>\n",
       "      <td>0.000300</td>\n",
       "      <td>0.03</td>\n",
       "      <td>0.7475</td>\n",
       "    </tr>\n",
       "    <tr>\n",
       "      <th>30754124</th>\n",
       "      <td>100.0</td>\n",
       "      <td>0.32</td>\n",
       "      <td>90.0</td>\n",
       "      <td>1000.0</td>\n",
       "      <td>1000.0</td>\n",
       "      <td>30.0</td>\n",
       "      <td>900.0</td>\n",
       "      <td>1300.0</td>\n",
       "      <td>0.1500</td>\n",
       "      <td>0.000300</td>\n",
       "      <td>0.03</td>\n",
       "      <td>0.9800</td>\n",
       "    </tr>\n",
       "  </tbody>\n",
       "</table>\n",
       "<p>30754125 rows × 12 columns</p>\n",
       "</div>"
      ],
      "text/plain": [
       "              T     d  theta      q0  delta_qg    rs   rho0    rhog     muo  \\\n",
       "0          10.0  0.11   10.0     5.0       0.0   5.0  780.0   700.0  0.0015   \n",
       "1          10.0  0.11   10.0     5.0       0.0   5.0  780.0   700.0  0.0015   \n",
       "2          10.0  0.11   10.0     5.0       0.0   5.0  780.0   700.0  0.0015   \n",
       "3          10.0  0.11   10.0     5.0       0.0   5.0  780.0   700.0  0.0015   \n",
       "4          10.0  0.11   10.0     5.0       0.0   5.0  780.0   700.0  0.0015   \n",
       "...         ...   ...    ...     ...       ...   ...    ...     ...     ...   \n",
       "30754120  100.0  0.32   90.0  1000.0    1000.0  30.0  900.0  1300.0  0.1500   \n",
       "30754121  100.0  0.32   90.0  1000.0    1000.0  30.0  900.0  1300.0  0.1500   \n",
       "30754122  100.0  0.32   90.0  1000.0    1000.0  30.0  900.0  1300.0  0.1500   \n",
       "30754123  100.0  0.32   90.0  1000.0    1000.0  30.0  900.0  1300.0  0.1500   \n",
       "30754124  100.0  0.32   90.0  1000.0    1000.0  30.0  900.0  1300.0  0.1500   \n",
       "\n",
       "           epsilon  sigmao      wc  \n",
       "0         0.000015    0.01  0.0500  \n",
       "1         0.000015    0.01  0.2825  \n",
       "2         0.000015    0.01  0.5150  \n",
       "3         0.000015    0.01  0.7475  \n",
       "4         0.000015    0.01  0.9800  \n",
       "...            ...     ...     ...  \n",
       "30754120  0.000300    0.03  0.0500  \n",
       "30754121  0.000300    0.03  0.2825  \n",
       "30754122  0.000300    0.03  0.5150  \n",
       "30754123  0.000300    0.03  0.7475  \n",
       "30754124  0.000300    0.03  0.9800  \n",
       "\n",
       "[30754125 rows x 12 columns]"
      ]
     },
     "execution_count": 100,
     "metadata": {},
     "output_type": "execute_result"
    }
   ],
   "source": [
    "data"
   ]
  },
  {
   "cell_type": "code",
   "execution_count": 101,
   "metadata": {},
   "outputs": [
    {
     "data": {
      "text/html": [
       "<div>\n",
       "<style scoped>\n",
       "    .dataframe tbody tr th:only-of-type {\n",
       "        vertical-align: middle;\n",
       "    }\n",
       "\n",
       "    .dataframe tbody tr th {\n",
       "        vertical-align: top;\n",
       "    }\n",
       "\n",
       "    .dataframe thead th {\n",
       "        text-align: right;\n",
       "    }\n",
       "</style>\n",
       "<table border=\"1\" class=\"dataframe\">\n",
       "  <thead>\n",
       "    <tr style=\"text-align: right;\">\n",
       "      <th></th>\n",
       "      <th>DP_DZ</th>\n",
       "    </tr>\n",
       "  </thead>\n",
       "  <tbody>\n",
       "    <tr>\n",
       "      <th>0</th>\n",
       "      <td>1138.069945</td>\n",
       "    </tr>\n",
       "    <tr>\n",
       "      <th>1</th>\n",
       "      <td>1276.746966</td>\n",
       "    </tr>\n",
       "    <tr>\n",
       "      <th>2</th>\n",
       "      <td>1415.209229</td>\n",
       "    </tr>\n",
       "    <tr>\n",
       "      <th>3</th>\n",
       "      <td>1553.510025</td>\n",
       "    </tr>\n",
       "    <tr>\n",
       "      <th>4</th>\n",
       "      <td>1691.618803</td>\n",
       "    </tr>\n",
       "    <tr>\n",
       "      <th>...</th>\n",
       "      <td>...</td>\n",
       "    </tr>\n",
       "    <tr>\n",
       "      <th>30754120</th>\n",
       "      <td>5181.882493</td>\n",
       "    </tr>\n",
       "    <tr>\n",
       "      <th>30754121</th>\n",
       "      <td>5469.962419</td>\n",
       "    </tr>\n",
       "    <tr>\n",
       "      <th>30754122</th>\n",
       "      <td>5684.114433</td>\n",
       "    </tr>\n",
       "    <tr>\n",
       "      <th>30754123</th>\n",
       "      <td>5832.330066</td>\n",
       "    </tr>\n",
       "    <tr>\n",
       "      <th>30754124</th>\n",
       "      <td>8613.159359</td>\n",
       "    </tr>\n",
       "  </tbody>\n",
       "</table>\n",
       "<p>30754125 rows × 1 columns</p>\n",
       "</div>"
      ],
      "text/plain": [
       "                DP_DZ\n",
       "0         1138.069945\n",
       "1         1276.746966\n",
       "2         1415.209229\n",
       "3         1553.510025\n",
       "4         1691.618803\n",
       "...               ...\n",
       "30754120  5181.882493\n",
       "30754121  5469.962419\n",
       "30754122  5684.114433\n",
       "30754123  5832.330066\n",
       "30754124  8613.159359\n",
       "\n",
       "[30754125 rows x 1 columns]"
      ]
     },
     "execution_count": 101,
     "metadata": {},
     "output_type": "execute_result"
    }
   ],
   "source": [
    "labels"
   ]
  },
  {
   "cell_type": "markdown",
   "metadata": {},
   "source": [
    "Было бы крайне недурно нормализовать признаки, потому что сейчас они отличаются на несколько порядков"
   ]
  },
  {
   "cell_type": "code",
   "execution_count": 14,
   "metadata": {},
   "outputs": [],
   "source": [
    "data['T'] = data['T'] * 1e1\n",
    "data['d'] = data['d'] * 1e4\n",
    "data['theta'] = data['theta'] * 1e1\n",
    "data['rs'] = data['rs'] * 1e2\n",
    "data['muo'] = data['muo'] * 1e4\n",
    "data['epsilon'] = data['epsilon'] * 1e7\n",
    "data['sigmao'] = data['sigmao'] * 1e5\n",
    "data['wc'] = data['wc'] * 1e3"
   ]
  },
  {
   "cell_type": "code",
   "execution_count": 18,
   "metadata": {},
   "outputs": [
    {
     "data": {
      "text/html": [
       "<div>\n",
       "<style scoped>\n",
       "    .dataframe tbody tr th:only-of-type {\n",
       "        vertical-align: middle;\n",
       "    }\n",
       "\n",
       "    .dataframe tbody tr th {\n",
       "        vertical-align: top;\n",
       "    }\n",
       "\n",
       "    .dataframe thead th {\n",
       "        text-align: right;\n",
       "    }\n",
       "</style>\n",
       "<table border=\"1\" class=\"dataframe\">\n",
       "  <thead>\n",
       "    <tr style=\"text-align: right;\">\n",
       "      <th></th>\n",
       "      <th>T</th>\n",
       "      <th>d</th>\n",
       "      <th>theta</th>\n",
       "      <th>q0</th>\n",
       "      <th>delta_qg</th>\n",
       "      <th>rs</th>\n",
       "      <th>rho0</th>\n",
       "      <th>rhog</th>\n",
       "      <th>muo</th>\n",
       "      <th>epsilon</th>\n",
       "      <th>sigmao</th>\n",
       "      <th>wc</th>\n",
       "    </tr>\n",
       "  </thead>\n",
       "  <tbody>\n",
       "    <tr>\n",
       "      <th>0</th>\n",
       "      <td>100.0</td>\n",
       "      <td>1100.0</td>\n",
       "      <td>100.0</td>\n",
       "      <td>5.0</td>\n",
       "      <td>0.0</td>\n",
       "      <td>500.0</td>\n",
       "      <td>780.0</td>\n",
       "      <td>700.0</td>\n",
       "      <td>15.0</td>\n",
       "      <td>150.0</td>\n",
       "      <td>1000.0</td>\n",
       "      <td>50.0</td>\n",
       "    </tr>\n",
       "    <tr>\n",
       "      <th>1</th>\n",
       "      <td>100.0</td>\n",
       "      <td>1100.0</td>\n",
       "      <td>100.0</td>\n",
       "      <td>5.0</td>\n",
       "      <td>0.0</td>\n",
       "      <td>500.0</td>\n",
       "      <td>780.0</td>\n",
       "      <td>700.0</td>\n",
       "      <td>15.0</td>\n",
       "      <td>150.0</td>\n",
       "      <td>1000.0</td>\n",
       "      <td>282.5</td>\n",
       "    </tr>\n",
       "    <tr>\n",
       "      <th>2</th>\n",
       "      <td>100.0</td>\n",
       "      <td>1100.0</td>\n",
       "      <td>100.0</td>\n",
       "      <td>5.0</td>\n",
       "      <td>0.0</td>\n",
       "      <td>500.0</td>\n",
       "      <td>780.0</td>\n",
       "      <td>700.0</td>\n",
       "      <td>15.0</td>\n",
       "      <td>150.0</td>\n",
       "      <td>1000.0</td>\n",
       "      <td>515.0</td>\n",
       "    </tr>\n",
       "    <tr>\n",
       "      <th>3</th>\n",
       "      <td>100.0</td>\n",
       "      <td>1100.0</td>\n",
       "      <td>100.0</td>\n",
       "      <td>5.0</td>\n",
       "      <td>0.0</td>\n",
       "      <td>500.0</td>\n",
       "      <td>780.0</td>\n",
       "      <td>700.0</td>\n",
       "      <td>15.0</td>\n",
       "      <td>150.0</td>\n",
       "      <td>1000.0</td>\n",
       "      <td>747.5</td>\n",
       "    </tr>\n",
       "    <tr>\n",
       "      <th>4</th>\n",
       "      <td>100.0</td>\n",
       "      <td>1100.0</td>\n",
       "      <td>100.0</td>\n",
       "      <td>5.0</td>\n",
       "      <td>0.0</td>\n",
       "      <td>500.0</td>\n",
       "      <td>780.0</td>\n",
       "      <td>700.0</td>\n",
       "      <td>15.0</td>\n",
       "      <td>150.0</td>\n",
       "      <td>1000.0</td>\n",
       "      <td>980.0</td>\n",
       "    </tr>\n",
       "    <tr>\n",
       "      <th>...</th>\n",
       "      <td>...</td>\n",
       "      <td>...</td>\n",
       "      <td>...</td>\n",
       "      <td>...</td>\n",
       "      <td>...</td>\n",
       "      <td>...</td>\n",
       "      <td>...</td>\n",
       "      <td>...</td>\n",
       "      <td>...</td>\n",
       "      <td>...</td>\n",
       "      <td>...</td>\n",
       "      <td>...</td>\n",
       "    </tr>\n",
       "    <tr>\n",
       "      <th>30754120</th>\n",
       "      <td>1000.0</td>\n",
       "      <td>3200.0</td>\n",
       "      <td>900.0</td>\n",
       "      <td>1000.0</td>\n",
       "      <td>1000.0</td>\n",
       "      <td>3000.0</td>\n",
       "      <td>900.0</td>\n",
       "      <td>1300.0</td>\n",
       "      <td>1500.0</td>\n",
       "      <td>3000.0</td>\n",
       "      <td>3000.0</td>\n",
       "      <td>50.0</td>\n",
       "    </tr>\n",
       "    <tr>\n",
       "      <th>30754121</th>\n",
       "      <td>1000.0</td>\n",
       "      <td>3200.0</td>\n",
       "      <td>900.0</td>\n",
       "      <td>1000.0</td>\n",
       "      <td>1000.0</td>\n",
       "      <td>3000.0</td>\n",
       "      <td>900.0</td>\n",
       "      <td>1300.0</td>\n",
       "      <td>1500.0</td>\n",
       "      <td>3000.0</td>\n",
       "      <td>3000.0</td>\n",
       "      <td>282.5</td>\n",
       "    </tr>\n",
       "    <tr>\n",
       "      <th>30754122</th>\n",
       "      <td>1000.0</td>\n",
       "      <td>3200.0</td>\n",
       "      <td>900.0</td>\n",
       "      <td>1000.0</td>\n",
       "      <td>1000.0</td>\n",
       "      <td>3000.0</td>\n",
       "      <td>900.0</td>\n",
       "      <td>1300.0</td>\n",
       "      <td>1500.0</td>\n",
       "      <td>3000.0</td>\n",
       "      <td>3000.0</td>\n",
       "      <td>515.0</td>\n",
       "    </tr>\n",
       "    <tr>\n",
       "      <th>30754123</th>\n",
       "      <td>1000.0</td>\n",
       "      <td>3200.0</td>\n",
       "      <td>900.0</td>\n",
       "      <td>1000.0</td>\n",
       "      <td>1000.0</td>\n",
       "      <td>3000.0</td>\n",
       "      <td>900.0</td>\n",
       "      <td>1300.0</td>\n",
       "      <td>1500.0</td>\n",
       "      <td>3000.0</td>\n",
       "      <td>3000.0</td>\n",
       "      <td>747.5</td>\n",
       "    </tr>\n",
       "    <tr>\n",
       "      <th>30754124</th>\n",
       "      <td>1000.0</td>\n",
       "      <td>3200.0</td>\n",
       "      <td>900.0</td>\n",
       "      <td>1000.0</td>\n",
       "      <td>1000.0</td>\n",
       "      <td>3000.0</td>\n",
       "      <td>900.0</td>\n",
       "      <td>1300.0</td>\n",
       "      <td>1500.0</td>\n",
       "      <td>3000.0</td>\n",
       "      <td>3000.0</td>\n",
       "      <td>980.0</td>\n",
       "    </tr>\n",
       "  </tbody>\n",
       "</table>\n",
       "<p>30754125 rows × 12 columns</p>\n",
       "</div>"
      ],
      "text/plain": [
       "               T       d  theta      q0  delta_qg      rs   rho0    rhog  \\\n",
       "0          100.0  1100.0  100.0     5.0       0.0   500.0  780.0   700.0   \n",
       "1          100.0  1100.0  100.0     5.0       0.0   500.0  780.0   700.0   \n",
       "2          100.0  1100.0  100.0     5.0       0.0   500.0  780.0   700.0   \n",
       "3          100.0  1100.0  100.0     5.0       0.0   500.0  780.0   700.0   \n",
       "4          100.0  1100.0  100.0     5.0       0.0   500.0  780.0   700.0   \n",
       "...          ...     ...    ...     ...       ...     ...    ...     ...   \n",
       "30754120  1000.0  3200.0  900.0  1000.0    1000.0  3000.0  900.0  1300.0   \n",
       "30754121  1000.0  3200.0  900.0  1000.0    1000.0  3000.0  900.0  1300.0   \n",
       "30754122  1000.0  3200.0  900.0  1000.0    1000.0  3000.0  900.0  1300.0   \n",
       "30754123  1000.0  3200.0  900.0  1000.0    1000.0  3000.0  900.0  1300.0   \n",
       "30754124  1000.0  3200.0  900.0  1000.0    1000.0  3000.0  900.0  1300.0   \n",
       "\n",
       "             muo  epsilon  sigmao     wc  \n",
       "0           15.0    150.0  1000.0   50.0  \n",
       "1           15.0    150.0  1000.0  282.5  \n",
       "2           15.0    150.0  1000.0  515.0  \n",
       "3           15.0    150.0  1000.0  747.5  \n",
       "4           15.0    150.0  1000.0  980.0  \n",
       "...          ...      ...     ...    ...  \n",
       "30754120  1500.0   3000.0  3000.0   50.0  \n",
       "30754121  1500.0   3000.0  3000.0  282.5  \n",
       "30754122  1500.0   3000.0  3000.0  515.0  \n",
       "30754123  1500.0   3000.0  3000.0  747.5  \n",
       "30754124  1500.0   3000.0  3000.0  980.0  \n",
       "\n",
       "[30754125 rows x 12 columns]"
      ]
     },
     "execution_count": 18,
     "metadata": {},
     "output_type": "execute_result"
    }
   ],
   "source": [
    "data"
   ]
  },
  {
   "cell_type": "code",
   "execution_count": null,
   "metadata": {},
   "outputs": [],
   "source": [
    "# T = torch.tensor(data['T'].values, requires_grad=True)\n",
    "# d = torch.tensor(data['d'].values, requires_grad=True)\n",
    "# theta = torch.tensor(data['theta'].values, requires_grad=True)\n",
    "# q0 = torch.tensor(data['q0'].values, requires_grad=True)\n",
    "# delta_qg = torch.tensor(data['delta_qg'].values, requires_grad=True)\n",
    "# rs = torch.tensor(data['rs'].values, requires_grad=True)\n",
    "# rho0 = torch.tensor(data['rho0'].values, requires_grad=True)\n",
    "# rhog = torch.tensor(data['rhog'].values, requires_grad=True)\n",
    "# muo = torch.tensor(data['muo'].values, requires_grad=True)\n",
    "# epsilon = torch.tensor(data['epsilon'].values, requires_grad=True)\n",
    "# wc = torch.tensor(data['wc'].values, requires_grad=True)"
   ]
  },
  {
   "cell_type": "code",
   "execution_count": null,
   "metadata": {},
   "outputs": [],
   "source": [
    "#соберем датасет в формате PyKAN\n",
    "dataset = create_dataset_from_data(torch.tensor(data.values, dtype=torch.float32), torch.tensor(labels.values, dtype=torch.long))"
   ]
  },
  {
   "cell_type": "code",
   "execution_count": 22,
   "metadata": {},
   "outputs": [
    {
     "name": "stdout",
     "output_type": "stream",
     "text": [
      "checkpoint directory created: ./model\n",
      "saving model version 0.0\n"
     ]
    }
   ],
   "source": [
    "G = 5\n",
    "k = 3\n",
    "\n",
    "\"\"\"\n",
    "Здесь необходимо сказать несолько слов о выбранных ширинах слоев. В соответствии с теоремой К-А для апроксимации ф-ии N-переменных\n",
    "требуется (2N+1)N одномерных функций. Однако, здесь идет речь не о функциях какого-то конкретного вида, поэтому будет некорректно приближать\n",
    "нашу многомерную функцию (2N+1)N сплайнами специфичной конфигурации. Даже не смотря на то, что фактически каждый сплайн — это нелинейная\n",
    "суперпозиция k линейных функций. Кроме того в ряде работ, указывается, что однослойные нейросети в общем (и К-А — в частности) не очень хороши\n",
    "для аппроксимации многомерных функций. Поэтому я предварительно хочу попробовать аппроксимировать функцию градиента сеткой с 2 слоями шириной\n",
    "(2N+1)N и N узлов соответственно. Далее будем \"плясать\" от резуальтатов. \n",
    "\"\"\"\n",
    "\n",
    "W = len(data.columns)\n",
    "width = [W, ((2 * W + 1) * W), W, 1]\n",
    "model = KAN(width=width, device=device)"
   ]
  },
  {
   "cell_type": "code",
   "execution_count": null,
   "metadata": {},
   "outputs": [
    {
     "name": "stderr",
     "output_type": "stream",
     "text": [
      "description:   0%|                                                           | 0/20 [00:00<?, ?it/s]"
     ]
    },
    {
     "ename": "",
     "evalue": "",
     "output_type": "error",
     "traceback": [
      "\u001b[1;31mThe Kernel crashed while executing code in the current cell or a previous cell. \n",
      "\u001b[1;31mPlease review the code in the cell(s) to identify a possible cause of the failure. \n",
      "\u001b[1;31mClick <a href='https://aka.ms/vscodeJupyterKernelCrash'>here</a> for more info. \n",
      "\u001b[1;31mView Jupyter <a href='command:jupyter.viewOutput'>log</a> for further details."
     ]
    }
   ],
   "source": [
    "model.fit(dataset, opt=\"SGD\", lr=0.001, steps=20, update_grid=False, singularity_avoiding=True)"
   ]
  },
  {
   "cell_type": "markdown",
   "metadata": {},
   "source": [
    "Модель крашится при любых параметрах. Попробуем что-нибудь поменять. Например, размероность модели."
   ]
  },
  {
   "cell_type": "markdown",
   "metadata": {},
   "source": [
    "Отфильтровать dataframe по словарю у меня не вышло..."
   ]
  },
  {
   "cell_type": "code",
   "execution_count": 102,
   "metadata": {},
   "outputs": [],
   "source": [
    "param_str = 'T == 55 & d == 0.215 & theta == 90 & q0 == 253.75 & delta_qg == 250 & rs == 17.5 & rho0 == 840. & rhog == 700. & muo == 0.07575 & epsilon == 0.000015 & sigmao > 0.01 & sigmao < 0.03'"
   ]
  },
  {
   "cell_type": "markdown",
   "metadata": {},
   "source": [
    "Почему-то фильтр по sigmao == 0.02 выдает пустой dataframe. Мистика."
   ]
  },
  {
   "cell_type": "code",
   "execution_count": 118,
   "metadata": {},
   "outputs": [
    {
     "data": {
      "text/html": [
       "<div>\n",
       "<style scoped>\n",
       "    .dataframe tbody tr th:only-of-type {\n",
       "        vertical-align: middle;\n",
       "    }\n",
       "\n",
       "    .dataframe tbody tr th {\n",
       "        vertical-align: top;\n",
       "    }\n",
       "\n",
       "    .dataframe thead th {\n",
       "        text-align: right;\n",
       "    }\n",
       "</style>\n",
       "<table border=\"1\" class=\"dataframe\">\n",
       "  <thead>\n",
       "    <tr style=\"text-align: right;\">\n",
       "      <th></th>\n",
       "      <th>wc</th>\n",
       "    </tr>\n",
       "  </thead>\n",
       "  <tbody>\n",
       "    <tr>\n",
       "      <th>15898055</th>\n",
       "      <td>50.0</td>\n",
       "    </tr>\n",
       "    <tr>\n",
       "      <th>15898056</th>\n",
       "      <td>282.5</td>\n",
       "    </tr>\n",
       "    <tr>\n",
       "      <th>15898057</th>\n",
       "      <td>515.0</td>\n",
       "    </tr>\n",
       "    <tr>\n",
       "      <th>15898058</th>\n",
       "      <td>747.5</td>\n",
       "    </tr>\n",
       "    <tr>\n",
       "      <th>15898059</th>\n",
       "      <td>980.0</td>\n",
       "    </tr>\n",
       "  </tbody>\n",
       "</table>\n",
       "</div>"
      ],
      "text/plain": [
       "             wc\n",
       "15898055   50.0\n",
       "15898056  282.5\n",
       "15898057  515.0\n",
       "15898058  747.5\n",
       "15898059  980.0"
      ]
     },
     "execution_count": 118,
     "metadata": {},
     "output_type": "execute_result"
    }
   ],
   "source": [
    "data_small = data.query(param_str)\n",
    "data_small = pd.DataFrame(data_small['wc'] * 1e3)\n",
    "data_small"
   ]
  },
  {
   "cell_type": "code",
   "execution_count": 114,
   "metadata": {},
   "outputs": [
    {
     "data": {
      "text/html": [
       "<div>\n",
       "<style scoped>\n",
       "    .dataframe tbody tr th:only-of-type {\n",
       "        vertical-align: middle;\n",
       "    }\n",
       "\n",
       "    .dataframe tbody tr th {\n",
       "        vertical-align: top;\n",
       "    }\n",
       "\n",
       "    .dataframe thead th {\n",
       "        text-align: right;\n",
       "    }\n",
       "</style>\n",
       "<table border=\"1\" class=\"dataframe\">\n",
       "  <thead>\n",
       "    <tr style=\"text-align: right;\">\n",
       "      <th></th>\n",
       "      <th>DP_DZ</th>\n",
       "    </tr>\n",
       "  </thead>\n",
       "  <tbody>\n",
       "    <tr>\n",
       "      <th>15898055</th>\n",
       "      <td>5345.992180</td>\n",
       "    </tr>\n",
       "    <tr>\n",
       "      <th>15898056</th>\n",
       "      <td>5824.309893</td>\n",
       "    </tr>\n",
       "    <tr>\n",
       "      <th>15898057</th>\n",
       "      <td>6251.537246</td>\n",
       "    </tr>\n",
       "    <tr>\n",
       "      <th>15898058</th>\n",
       "      <td>6620.132121</td>\n",
       "    </tr>\n",
       "    <tr>\n",
       "      <th>15898059</th>\n",
       "      <td>6928.509104</td>\n",
       "    </tr>\n",
       "  </tbody>\n",
       "</table>\n",
       "</div>"
      ],
      "text/plain": [
       "                DP_DZ\n",
       "15898055  5345.992180\n",
       "15898056  5824.309893\n",
       "15898057  6251.537246\n",
       "15898058  6620.132121\n",
       "15898059  6928.509104"
      ]
     },
     "execution_count": 114,
     "metadata": {},
     "output_type": "execute_result"
    }
   ],
   "source": [
    "labels_small = labels[labels.index.isin(list(data_small.index.values))]\n",
    "labels_small"
   ]
  },
  {
   "cell_type": "code",
   "execution_count": 119,
   "metadata": {},
   "outputs": [],
   "source": [
    "tensor_data = torch.tensor(data_small.values, dtype=torch.float32)\n",
    "tensor_labels = torch.tensor(labels_small.values, dtype=torch.long)"
   ]
  },
  {
   "cell_type": "code",
   "execution_count": null,
   "metadata": {},
   "outputs": [
    {
     "name": "stdout",
     "output_type": "stream",
     "text": [
      "checkpoint directory created: ./model\n",
      "saving model version 0.0\n"
     ]
    }
   ],
   "source": [
    "dataset = create_dataset_from_data(tensor_data, tensor_labels)\n",
    "model = KAN([1,3,1], grid=4, k=3, seed=0)"
   ]
  },
  {
   "cell_type": "code",
   "execution_count": 189,
   "metadata": {},
   "outputs": [
    {
     "name": "stderr",
     "output_type": "stream",
     "text": [
      "| train_loss: 4.88e-04 | test_loss: 4.52e+03 | reg: 7.86e+01 | : 100%|█| 20/20 [00:01<00:00, 16.70it"
     ]
    },
    {
     "name": "stdout",
     "output_type": "stream",
     "text": [
      "saving model version 0.1\n"
     ]
    },
    {
     "name": "stderr",
     "output_type": "stream",
     "text": [
      "\n"
     ]
    },
    {
     "data": {
      "text/plain": [
       "{'train_loss': [array(2405.0833, dtype=float32),\n",
       "  array(472.16888, dtype=float32),\n",
       "  array(313.1248, dtype=float32),\n",
       "  array(174.6182, dtype=float32),\n",
       "  array(65.27563, dtype=float32),\n",
       "  array(329.73438, dtype=float32),\n",
       "  array(0.13741215, dtype=float32),\n",
       "  array(0.00054592, dtype=float32),\n",
       "  array(0.00054592, dtype=float32),\n",
       "  array(0.00054592, dtype=float32),\n",
       "  array(2300.9011, dtype=float32),\n",
       "  array(548.97394, dtype=float32),\n",
       "  array(0.00073242, dtype=float32),\n",
       "  array(0.00073242, dtype=float32),\n",
       "  array(0.00073242, dtype=float32),\n",
       "  array(0.00048828, dtype=float32),\n",
       "  array(0.00048828, dtype=float32),\n",
       "  array(0.00048828, dtype=float32),\n",
       "  array(0.00048828, dtype=float32),\n",
       "  array(0.00048828, dtype=float32)],\n",
       " 'test_loss': [array(2368.1924, dtype=float32),\n",
       "  array(393.35156, dtype=float32),\n",
       "  array(364.98486, dtype=float32),\n",
       "  array(367.9707, dtype=float32),\n",
       "  array(153.29297, dtype=float32),\n",
       "  array(13999.449, dtype=float32),\n",
       "  array(10737.5, dtype=float32),\n",
       "  array(10737.523, dtype=float32),\n",
       "  array(10737.523, dtype=float32),\n",
       "  array(10737.523, dtype=float32),\n",
       "  array(7914.3066, dtype=float32),\n",
       "  array(1009.96484, dtype=float32),\n",
       "  array(1946.0742, dtype=float32),\n",
       "  array(1946.0742, dtype=float32),\n",
       "  array(1946.0742, dtype=float32),\n",
       "  array(4520.4307, dtype=float32),\n",
       "  array(4520.4307, dtype=float32),\n",
       "  array(4520.4307, dtype=float32),\n",
       "  array(4520.4307, dtype=float32),\n",
       "  array(4520.4307, dtype=float32)],\n",
       " 'reg': [array(0., dtype=float32),\n",
       "  array(0., dtype=float32),\n",
       "  array(0., dtype=float32),\n",
       "  array(0., dtype=float32),\n",
       "  array(0., dtype=float32),\n",
       "  array(0., dtype=float32),\n",
       "  array(0., dtype=float32),\n",
       "  array(0., dtype=float32),\n",
       "  array(0., dtype=float32),\n",
       "  array(0., dtype=float32),\n",
       "  array(0., dtype=float32),\n",
       "  array(0., dtype=float32),\n",
       "  array(0., dtype=float32),\n",
       "  array(0., dtype=float32),\n",
       "  array(0., dtype=float32),\n",
       "  array(0., dtype=float32),\n",
       "  array(0., dtype=float32),\n",
       "  array(0., dtype=float32),\n",
       "  array(0., dtype=float32),\n",
       "  array(78.60716, dtype=float32)]}"
      ]
     },
     "execution_count": 189,
     "metadata": {},
     "output_type": "execute_result"
    }
   ],
   "source": [
    "model.fit(dataset, steps = 20)"
   ]
  },
  {
   "cell_type": "markdown",
   "metadata": {},
   "source": [
    "KAN не работает по-прежнему. Хорошо, хоть не крашится. \n",
    "Попробуем все-таки нагенерить датасет размером поболее, но возьмем при этом 2 переменных. Остальные параметры зафиксируем."
   ]
  },
  {
   "cell_type": "code",
   "execution_count": 7,
   "metadata": {},
   "outputs": [
    {
     "data": {
      "text/plain": [
       "5732.444427473592"
      ]
     },
     "execution_count": 7,
     "metadata": {},
     "output_type": "execute_result"
    }
   ],
   "source": [
    "count = 9\n",
    "d = np.linspace(0.05, 0.5, count)\n",
    "wc = np.linspace(0, 0.99, count)\n",
    "constants = {'T' : 55,\n",
    "              'theta' : 90,\n",
    "              'q0' : 253.75,\n",
    "              'delta_qg' : 250.,\n",
    "              'rs' : 17.5,\n",
    "              'rho0' : 840.,\n",
    "              'rhog' : 700.,\n",
    "              'muo' : 0.07575,\n",
    "              'epsilon' : 0.000015,\n",
    "              'sigmao' : 0.02,\n",
    "              'p' : 1\n",
    "            }\n",
    "mode, grav, fric, hl, ll = calc_DP_DZ(**constants, wc=0.3, d = 0.2)\n",
    "grav + fric"
   ]
  },
  {
   "cell_type": "markdown",
   "metadata": {},
   "source": [
    "Нагенерим новый датафрейм"
   ]
  },
  {
   "cell_type": "code",
   "execution_count": 8,
   "metadata": {},
   "outputs": [
    {
     "name": "stderr",
     "output_type": "stream",
     "text": [
      "100%|██████████| 81/81 [00:00<00:00, 2843.48it/s]\n"
     ]
    }
   ],
   "source": [
    "iters_count = count ** 2\n",
    "data_dict = []\n",
    "data_fp_2_3_dict = []\n",
    "with tqdm(total=iters_count) as pbar:\n",
    "    for d_i, wc_i in itertools.product(d, wc):\n",
    "        pbar.update(1)\n",
    "        mode, grav, fric, hl, ll = calc_DP_DZ(**constants, wc = wc_i, d = d_i)\n",
    "        if (grav > 0 and fric > 0 and hl > ll) and (mode == 0 or mode == 1):\n",
    "            DP_DZ = grav + fric\n",
    "            data_dict.append({'d' : d_i,\n",
    "                              'wc' : wc_i,\n",
    "                              'DP_DZ' : DP_DZ,\n",
    "                              'mode': mode,\n",
    "                              })"
   ]
  },
  {
   "cell_type": "code",
   "execution_count": 9,
   "metadata": {},
   "outputs": [],
   "source": [
    "data = pd.DataFrame(data_dict)"
   ]
  },
  {
   "cell_type": "code",
   "execution_count": 10,
   "metadata": {},
   "outputs": [
    {
     "data": {
      "text/html": [
       "<div>\n",
       "<style scoped>\n",
       "    .dataframe tbody tr th:only-of-type {\n",
       "        vertical-align: middle;\n",
       "    }\n",
       "\n",
       "    .dataframe tbody tr th {\n",
       "        vertical-align: top;\n",
       "    }\n",
       "\n",
       "    .dataframe thead th {\n",
       "        text-align: right;\n",
       "    }\n",
       "</style>\n",
       "<table border=\"1\" class=\"dataframe\">\n",
       "  <thead>\n",
       "    <tr style=\"text-align: right;\">\n",
       "      <th></th>\n",
       "      <th>d</th>\n",
       "      <th>wc</th>\n",
       "      <th>DP_DZ</th>\n",
       "      <th>mode</th>\n",
       "    </tr>\n",
       "  </thead>\n",
       "  <tbody>\n",
       "    <tr>\n",
       "      <th>0</th>\n",
       "      <td>0.05</td>\n",
       "      <td>0.00000</td>\n",
       "      <td>5218.559872</td>\n",
       "      <td>0</td>\n",
       "    </tr>\n",
       "    <tr>\n",
       "      <th>1</th>\n",
       "      <td>0.05</td>\n",
       "      <td>0.12375</td>\n",
       "      <td>5115.157373</td>\n",
       "      <td>0</td>\n",
       "    </tr>\n",
       "    <tr>\n",
       "      <th>2</th>\n",
       "      <td>0.05</td>\n",
       "      <td>0.24750</td>\n",
       "      <td>4650.019686</td>\n",
       "      <td>1</td>\n",
       "    </tr>\n",
       "    <tr>\n",
       "      <th>3</th>\n",
       "      <td>0.05</td>\n",
       "      <td>0.37125</td>\n",
       "      <td>4444.149860</td>\n",
       "      <td>1</td>\n",
       "    </tr>\n",
       "    <tr>\n",
       "      <th>4</th>\n",
       "      <td>0.05</td>\n",
       "      <td>0.49500</td>\n",
       "      <td>4189.899341</td>\n",
       "      <td>1</td>\n",
       "    </tr>\n",
       "    <tr>\n",
       "      <th>...</th>\n",
       "      <td>...</td>\n",
       "      <td>...</td>\n",
       "      <td>...</td>\n",
       "      <td>...</td>\n",
       "    </tr>\n",
       "    <tr>\n",
       "      <th>76</th>\n",
       "      <td>0.50</td>\n",
       "      <td>0.49500</td>\n",
       "      <td>7745.389304</td>\n",
       "      <td>0</td>\n",
       "    </tr>\n",
       "    <tr>\n",
       "      <th>77</th>\n",
       "      <td>0.50</td>\n",
       "      <td>0.61875</td>\n",
       "      <td>8094.844928</td>\n",
       "      <td>0</td>\n",
       "    </tr>\n",
       "    <tr>\n",
       "      <th>78</th>\n",
       "      <td>0.50</td>\n",
       "      <td>0.74250</td>\n",
       "      <td>8440.771167</td>\n",
       "      <td>0</td>\n",
       "    </tr>\n",
       "    <tr>\n",
       "      <th>79</th>\n",
       "      <td>0.50</td>\n",
       "      <td>0.86625</td>\n",
       "      <td>8782.953737</td>\n",
       "      <td>0</td>\n",
       "    </tr>\n",
       "    <tr>\n",
       "      <th>80</th>\n",
       "      <td>0.50</td>\n",
       "      <td>0.99000</td>\n",
       "      <td>9121.100933</td>\n",
       "      <td>0</td>\n",
       "    </tr>\n",
       "  </tbody>\n",
       "</table>\n",
       "<p>81 rows × 4 columns</p>\n",
       "</div>"
      ],
      "text/plain": [
       "       d       wc        DP_DZ  mode\n",
       "0   0.05  0.00000  5218.559872     0\n",
       "1   0.05  0.12375  5115.157373     0\n",
       "2   0.05  0.24750  4650.019686     1\n",
       "3   0.05  0.37125  4444.149860     1\n",
       "4   0.05  0.49500  4189.899341     1\n",
       "..   ...      ...          ...   ...\n",
       "76  0.50  0.49500  7745.389304     0\n",
       "77  0.50  0.61875  8094.844928     0\n",
       "78  0.50  0.74250  8440.771167     0\n",
       "79  0.50  0.86625  8782.953737     0\n",
       "80  0.50  0.99000  9121.100933     0\n",
       "\n",
       "[81 rows x 4 columns]"
      ]
     },
     "execution_count": 10,
     "metadata": {},
     "output_type": "execute_result"
    }
   ],
   "source": [
    "data"
   ]
  },
  {
   "cell_type": "code",
   "execution_count": 77,
   "metadata": {},
   "outputs": [],
   "source": [
    "labels_tensor = torch.tensor(np.float32(pd.DataFrame(data['DP_DZ']).values))\n",
    "data_tensor = torch.tensor(np.float32(pd.DataFrame(data[['d', 'wc']]).values))\n",
    "dataset = create_dataset_from_data(data_tensor, labels_tensor)"
   ]
  },
  {
   "cell_type": "markdown",
   "metadata": {},
   "source": [
    "Преобразование в float32 нужно чтобы избежать ошибок в дальнейшем — это глюк PyKAN"
   ]
  },
  {
   "cell_type": "code",
   "execution_count": null,
   "metadata": {},
   "outputs": [
    {
     "name": "stdout",
     "output_type": "stream",
     "text": [
      "checkpoint directory created: ./model\n",
      "saving model version 0.0\n"
     ]
    },
    {
     "name": "stderr",
     "output_type": "stream",
     "text": [
      "| train_loss: 6.48e-01 | test_loss: 9.79e+01 | reg: 3.18e+02 | : 100%|█| 200/200 [00:18<00:00, 10.68\n"
     ]
    },
    {
     "name": "stdout",
     "output_type": "stream",
     "text": [
      "saving model version 0.1\n"
     ]
    },
    {
     "data": {
      "text/plain": [
       "{'train_loss': [array(2316.8816, dtype=float32),\n",
       "  array(869.74927, dtype=float32),\n",
       "  array(679.2965, dtype=float32),\n",
       "  array(609.75415, dtype=float32),\n",
       "  array(585.3566, dtype=float32),\n",
       "  array(332.47156, dtype=float32),\n",
       "  array(227.2229, dtype=float32),\n",
       "  array(178.64035, dtype=float32),\n",
       "  array(125.24476, dtype=float32),\n",
       "  array(69.52582, dtype=float32),\n",
       "  array(52.225327, dtype=float32),\n",
       "  array(42.91168, dtype=float32),\n",
       "  array(35.902992, dtype=float32),\n",
       "  array(31.427864, dtype=float32),\n",
       "  array(29.320732, dtype=float32),\n",
       "  array(25.520473, dtype=float32),\n",
       "  array(21.79561, dtype=float32),\n",
       "  array(20.235815, dtype=float32),\n",
       "  array(18.000568, dtype=float32),\n",
       "  array(15.41265, dtype=float32),\n",
       "  array(13.053596, dtype=float32),\n",
       "  array(12.329128, dtype=float32),\n",
       "  array(11.462358, dtype=float32),\n",
       "  array(10.470761, dtype=float32),\n",
       "  array(9.744957, dtype=float32),\n",
       "  array(8.8879595, dtype=float32),\n",
       "  array(8.588346, dtype=float32),\n",
       "  array(7.8815727, dtype=float32),\n",
       "  array(7.267301, dtype=float32),\n",
       "  array(6.8007684, dtype=float32),\n",
       "  array(6.843145, dtype=float32),\n",
       "  array(6.3564277, dtype=float32),\n",
       "  array(5.836802, dtype=float32),\n",
       "  array(5.4442406, dtype=float32),\n",
       "  array(4.973754, dtype=float32),\n",
       "  array(4.6830554, dtype=float32),\n",
       "  array(4.3092713, dtype=float32),\n",
       "  array(4.038368, dtype=float32),\n",
       "  array(3.845892, dtype=float32),\n",
       "  array(3.669081, dtype=float32),\n",
       "  array(3.560233, dtype=float32),\n",
       "  array(3.4877024, dtype=float32),\n",
       "  array(3.3642447, dtype=float32),\n",
       "  array(3.239422, dtype=float32),\n",
       "  array(3.1666691, dtype=float32),\n",
       "  array(3.2024229, dtype=float32),\n",
       "  array(3.1136527, dtype=float32),\n",
       "  array(3.0660365, dtype=float32),\n",
       "  array(2.9865813, dtype=float32),\n",
       "  array(2.8984876, dtype=float32),\n",
       "  array(2.8093789, dtype=float32),\n",
       "  array(2.6956642, dtype=float32),\n",
       "  array(2.6006904, dtype=float32),\n",
       "  array(2.513652, dtype=float32),\n",
       "  array(2.3700085, dtype=float32),\n",
       "  array(2.2228274, dtype=float32),\n",
       "  array(2.1521113, dtype=float32),\n",
       "  array(2.0124571, dtype=float32),\n",
       "  array(1.9181252, dtype=float32),\n",
       "  array(1.8359798, dtype=float32),\n",
       "  array(1.7711473, dtype=float32),\n",
       "  array(1.6902295, dtype=float32),\n",
       "  array(1.6242907, dtype=float32),\n",
       "  array(1.5423464, dtype=float32),\n",
       "  array(1.50193, dtype=float32),\n",
       "  array(1.4813813, dtype=float32),\n",
       "  array(1.4654474, dtype=float32),\n",
       "  array(1.4380009, dtype=float32),\n",
       "  array(1.4212784, dtype=float32),\n",
       "  array(1.3949392, dtype=float32),\n",
       "  array(1.375052, dtype=float32),\n",
       "  array(1.360385, dtype=float32),\n",
       "  array(1.3404112, dtype=float32),\n",
       "  array(1.327868, dtype=float32),\n",
       "  array(1.3090051, dtype=float32),\n",
       "  array(1.309005, dtype=float32),\n",
       "  array(1.3090051, dtype=float32),\n",
       "  array(1.2957774, dtype=float32),\n",
       "  array(1.2819798, dtype=float32),\n",
       "  array(1.2638195, dtype=float32),\n",
       "  array(1.2411507, dtype=float32),\n",
       "  array(1.2311683, dtype=float32),\n",
       "  array(1.1972684, dtype=float32),\n",
       "  array(1.1768914, dtype=float32),\n",
       "  array(1.1531317, dtype=float32),\n",
       "  array(1.1297375, dtype=float32),\n",
       "  array(1.1194317, dtype=float32),\n",
       "  array(1.0950344, dtype=float32),\n",
       "  array(1.0513016, dtype=float32),\n",
       "  array(1.0217363, dtype=float32),\n",
       "  array(0.9845314, dtype=float32),\n",
       "  array(0.96406716, dtype=float32),\n",
       "  array(0.9309901, dtype=float32),\n",
       "  array(0.8945696, dtype=float32),\n",
       "  array(0.8759532, dtype=float32),\n",
       "  array(0.8508356, dtype=float32),\n",
       "  array(0.8371797, dtype=float32),\n",
       "  array(0.81544983, dtype=float32),\n",
       "  array(0.7985569, dtype=float32),\n",
       "  array(0.78996146, dtype=float32),\n",
       "  array(0.7786168, dtype=float32),\n",
       "  array(0.77001905, dtype=float32),\n",
       "  array(0.7483012, dtype=float32),\n",
       "  array(0.72854036, dtype=float32),\n",
       "  array(0.7209136, dtype=float32),\n",
       "  array(0.72090566, dtype=float32),\n",
       "  array(0.7209136, dtype=float32),\n",
       "  array(0.720884, dtype=float32),\n",
       "  array(0.720884, dtype=float32),\n",
       "  array(0.720884, dtype=float32),\n",
       "  array(0.72086704, dtype=float32),\n",
       "  array(0.72088295, dtype=float32),\n",
       "  array(0.720883, dtype=float32),\n",
       "  array(0.7208841, dtype=float32),\n",
       "  array(0.720884, dtype=float32),\n",
       "  array(0.720884, dtype=float32),\n",
       "  array(0.7208841, dtype=float32),\n",
       "  array(0.720884, dtype=float32),\n",
       "  array(0.720884, dtype=float32),\n",
       "  array(0.720884, dtype=float32),\n",
       "  array(0.720884, dtype=float32),\n",
       "  array(0.72088397, dtype=float32),\n",
       "  array(0.720884, dtype=float32),\n",
       "  array(0.720884, dtype=float32),\n",
       "  array(0.720884, dtype=float32),\n",
       "  array(0.720884, dtype=float32),\n",
       "  array(0.720883, dtype=float32),\n",
       "  array(0.720884, dtype=float32),\n",
       "  array(0.72088397, dtype=float32),\n",
       "  array(0.72088397, dtype=float32),\n",
       "  array(0.7208841, dtype=float32),\n",
       "  array(0.7208841, dtype=float32),\n",
       "  array(0.720884, dtype=float32),\n",
       "  array(0.72088397, dtype=float32),\n",
       "  array(0.720884, dtype=float32),\n",
       "  array(0.7208841, dtype=float32),\n",
       "  array(0.720884, dtype=float32),\n",
       "  array(0.7208841, dtype=float32),\n",
       "  array(0.720884, dtype=float32),\n",
       "  array(0.720884, dtype=float32),\n",
       "  array(0.720884, dtype=float32),\n",
       "  array(0.720884, dtype=float32),\n",
       "  array(0.720884, dtype=float32),\n",
       "  array(0.7208841, dtype=float32),\n",
       "  array(0.72088397, dtype=float32),\n",
       "  array(0.720884, dtype=float32),\n",
       "  array(0.72088295, dtype=float32),\n",
       "  array(0.720884, dtype=float32),\n",
       "  array(0.720884, dtype=float32),\n",
       "  array(0.72088397, dtype=float32),\n",
       "  array(0.720884, dtype=float32),\n",
       "  array(0.720884, dtype=float32),\n",
       "  array(0.72088397, dtype=float32),\n",
       "  array(0.720884, dtype=float32),\n",
       "  array(0.720884, dtype=float32),\n",
       "  array(0.71742135, dtype=float32),\n",
       "  array(0.70489746, dtype=float32),\n",
       "  array(0.69512445, dtype=float32),\n",
       "  array(0.6867796, dtype=float32),\n",
       "  array(0.6854994, dtype=float32),\n",
       "  array(0.6758173, dtype=float32),\n",
       "  array(0.66496176, dtype=float32),\n",
       "  array(0.66159207, dtype=float32),\n",
       "  array(0.65922207, dtype=float32),\n",
       "  array(0.65357316, dtype=float32),\n",
       "  array(0.6479013, dtype=float32),\n",
       "  array(0.6479013, dtype=float32),\n",
       "  array(0.647743, dtype=float32),\n",
       "  array(0.6477405, dtype=float32),\n",
       "  array(0.6477429, dtype=float32),\n",
       "  array(0.647743, dtype=float32),\n",
       "  array(0.64773965, dtype=float32),\n",
       "  array(0.647743, dtype=float32),\n",
       "  array(0.647743, dtype=float32),\n",
       "  array(0.64772916, dtype=float32),\n",
       "  array(0.64774626, dtype=float32),\n",
       "  array(0.6477706, dtype=float32),\n",
       "  array(0.647743, dtype=float32),\n",
       "  array(0.6477383, dtype=float32),\n",
       "  array(0.647743, dtype=float32),\n",
       "  array(0.647743, dtype=float32),\n",
       "  array(0.6477429, dtype=float32),\n",
       "  array(0.64775974, dtype=float32),\n",
       "  array(0.647743, dtype=float32),\n",
       "  array(0.6477437, dtype=float32),\n",
       "  array(0.64775485, dtype=float32),\n",
       "  array(0.6477695, dtype=float32),\n",
       "  array(0.647743, dtype=float32),\n",
       "  array(0.647743, dtype=float32),\n",
       "  array(0.6477706, dtype=float32),\n",
       "  array(0.647743, dtype=float32),\n",
       "  array(0.6477437, dtype=float32),\n",
       "  array(0.647743, dtype=float32),\n",
       "  array(0.64773834, dtype=float32),\n",
       "  array(0.647743, dtype=float32),\n",
       "  array(0.64773834, dtype=float32),\n",
       "  array(0.6477419, dtype=float32),\n",
       "  array(0.6477412, dtype=float32),\n",
       "  array(0.6477419, dtype=float32),\n",
       "  array(0.64771205, dtype=float32)],\n",
       " 'test_loss': [array(3163.5789, dtype=float32),\n",
       "  array(1092.4241, dtype=float32),\n",
       "  array(926.5589, dtype=float32),\n",
       "  array(644.35297, dtype=float32),\n",
       "  array(682.0092, dtype=float32),\n",
       "  array(397.8918, dtype=float32),\n",
       "  array(345.1376, dtype=float32),\n",
       "  array(357.57892, dtype=float32),\n",
       "  array(287.3126, dtype=float32),\n",
       "  array(192.01521, dtype=float32),\n",
       "  array(173.54701, dtype=float32),\n",
       "  array(147.91284, dtype=float32),\n",
       "  array(125.36925, dtype=float32),\n",
       "  array(110.37003, dtype=float32),\n",
       "  array(104.94068, dtype=float32),\n",
       "  array(111.92078, dtype=float32),\n",
       "  array(110.51199, dtype=float32),\n",
       "  array(108.65758, dtype=float32),\n",
       "  array(108.47009, dtype=float32),\n",
       "  array(114.00744, dtype=float32),\n",
       "  array(115.076706, dtype=float32),\n",
       "  array(116.13887, dtype=float32),\n",
       "  array(115.137375, dtype=float32),\n",
       "  array(114.48577, dtype=float32),\n",
       "  array(113.426704, dtype=float32),\n",
       "  array(114.47149, dtype=float32),\n",
       "  array(114.25819, dtype=float32),\n",
       "  array(114.64431, dtype=float32),\n",
       "  array(114.471085, dtype=float32),\n",
       "  array(114.83159, dtype=float32),\n",
       "  array(115.354805, dtype=float32),\n",
       "  array(115.30391, dtype=float32),\n",
       "  array(116.84225, dtype=float32),\n",
       "  array(117.3524, dtype=float32),\n",
       "  array(117.27471, dtype=float32),\n",
       "  array(117.77262, dtype=float32),\n",
       "  array(117.42431, dtype=float32),\n",
       "  array(117.51196, dtype=float32),\n",
       "  array(116.84892, dtype=float32),\n",
       "  array(116.44439, dtype=float32),\n",
       "  array(115.32793, dtype=float32),\n",
       "  array(115.15437, dtype=float32),\n",
       "  array(113.80326, dtype=float32),\n",
       "  array(112.72762, dtype=float32),\n",
       "  array(111.24491, dtype=float32),\n",
       "  array(111.17479, dtype=float32),\n",
       "  array(109.51005, dtype=float32),\n",
       "  array(108.46519, dtype=float32),\n",
       "  array(107.12133, dtype=float32),\n",
       "  array(106.62881, dtype=float32),\n",
       "  array(104.99714, dtype=float32),\n",
       "  array(104.23644, dtype=float32),\n",
       "  array(103.34574, dtype=float32),\n",
       "  array(102.408646, dtype=float32),\n",
       "  array(101.59063, dtype=float32),\n",
       "  array(100.21302, dtype=float32),\n",
       "  array(99.838615, dtype=float32),\n",
       "  array(99.47238, dtype=float32),\n",
       "  array(99.331436, dtype=float32),\n",
       "  array(99.12407, dtype=float32),\n",
       "  array(98.872246, dtype=float32),\n",
       "  array(98.64881, dtype=float32),\n",
       "  array(98.66831, dtype=float32),\n",
       "  array(98.536446, dtype=float32),\n",
       "  array(98.54651, dtype=float32),\n",
       "  array(98.54279, dtype=float32),\n",
       "  array(98.60351, dtype=float32),\n",
       "  array(98.62802, dtype=float32),\n",
       "  array(98.6112, dtype=float32),\n",
       "  array(98.57416, dtype=float32),\n",
       "  array(98.39216, dtype=float32),\n",
       "  array(98.243095, dtype=float32),\n",
       "  array(98.072556, dtype=float32),\n",
       "  array(98.09906, dtype=float32),\n",
       "  array(98.06682, dtype=float32),\n",
       "  array(98.06682, dtype=float32),\n",
       "  array(98.066826, dtype=float32),\n",
       "  array(97.92212, dtype=float32),\n",
       "  array(97.82084, dtype=float32),\n",
       "  array(97.746826, dtype=float32),\n",
       "  array(97.65045, dtype=float32),\n",
       "  array(97.65546, dtype=float32),\n",
       "  array(97.74914, dtype=float32),\n",
       "  array(97.91392, dtype=float32),\n",
       "  array(98.03673, dtype=float32),\n",
       "  array(98.19537, dtype=float32),\n",
       "  array(98.238, dtype=float32),\n",
       "  array(98.10187, dtype=float32),\n",
       "  array(97.995384, dtype=float32),\n",
       "  array(98.18209, dtype=float32),\n",
       "  array(98.23884, dtype=float32),\n",
       "  array(98.27596, dtype=float32),\n",
       "  array(98.31306, dtype=float32),\n",
       "  array(98.11858, dtype=float32),\n",
       "  array(98.007935, dtype=float32),\n",
       "  array(97.7883, dtype=float32),\n",
       "  array(97.59542, dtype=float32),\n",
       "  array(97.280205, dtype=float32),\n",
       "  array(97.18844, dtype=float32),\n",
       "  array(97.24422, dtype=float32),\n",
       "  array(97.27948, dtype=float32),\n",
       "  array(97.28912, dtype=float32),\n",
       "  array(97.24438, dtype=float32),\n",
       "  array(97.182, dtype=float32),\n",
       "  array(97.17335, dtype=float32),\n",
       "  array(97.17335, dtype=float32),\n",
       "  array(97.173355, dtype=float32),\n",
       "  array(97.172874, dtype=float32),\n",
       "  array(97.17288, dtype=float32),\n",
       "  array(97.172874, dtype=float32),\n",
       "  array(97.172874, dtype=float32),\n",
       "  array(97.172874, dtype=float32),\n",
       "  array(97.17287, dtype=float32),\n",
       "  array(97.172874, dtype=float32),\n",
       "  array(97.172874, dtype=float32),\n",
       "  array(97.17287, dtype=float32),\n",
       "  array(97.172874, dtype=float32),\n",
       "  array(97.172874, dtype=float32),\n",
       "  array(97.172874, dtype=float32),\n",
       "  array(97.172874, dtype=float32),\n",
       "  array(97.17288, dtype=float32),\n",
       "  array(97.17287, dtype=float32),\n",
       "  array(97.17287, dtype=float32),\n",
       "  array(97.172874, dtype=float32),\n",
       "  array(97.17287, dtype=float32),\n",
       "  array(97.17287, dtype=float32),\n",
       "  array(97.17287, dtype=float32),\n",
       "  array(97.17287, dtype=float32),\n",
       "  array(97.17287, dtype=float32),\n",
       "  array(97.17288, dtype=float32),\n",
       "  array(97.17287, dtype=float32),\n",
       "  array(97.172874, dtype=float32),\n",
       "  array(97.172874, dtype=float32),\n",
       "  array(97.172874, dtype=float32),\n",
       "  array(97.17287, dtype=float32),\n",
       "  array(97.172874, dtype=float32),\n",
       "  array(97.172874, dtype=float32),\n",
       "  array(97.172874, dtype=float32),\n",
       "  array(97.172874, dtype=float32),\n",
       "  array(97.17288, dtype=float32),\n",
       "  array(97.172874, dtype=float32),\n",
       "  array(97.172874, dtype=float32),\n",
       "  array(97.17288, dtype=float32),\n",
       "  array(97.17287, dtype=float32),\n",
       "  array(97.17287, dtype=float32),\n",
       "  array(97.172874, dtype=float32),\n",
       "  array(97.17287, dtype=float32),\n",
       "  array(97.17287, dtype=float32),\n",
       "  array(97.17288, dtype=float32),\n",
       "  array(97.172874, dtype=float32),\n",
       "  array(97.17287, dtype=float32),\n",
       "  array(97.17288, dtype=float32),\n",
       "  array(97.172874, dtype=float32),\n",
       "  array(97.17287, dtype=float32),\n",
       "  array(97.172874, dtype=float32),\n",
       "  array(97.182274, dtype=float32),\n",
       "  array(97.22677, dtype=float32),\n",
       "  array(97.335075, dtype=float32),\n",
       "  array(97.423134, dtype=float32),\n",
       "  array(97.45542, dtype=float32),\n",
       "  array(97.52206, dtype=float32),\n",
       "  array(97.628716, dtype=float32),\n",
       "  array(97.67101, dtype=float32),\n",
       "  array(97.66994, dtype=float32),\n",
       "  array(97.75995, dtype=float32),\n",
       "  array(97.872, dtype=float32),\n",
       "  array(97.872, dtype=float32),\n",
       "  array(97.87064, dtype=float32),\n",
       "  array(97.870636, dtype=float32),\n",
       "  array(97.87064, dtype=float32),\n",
       "  array(97.87064, dtype=float32),\n",
       "  array(97.87064, dtype=float32),\n",
       "  array(97.87064, dtype=float32),\n",
       "  array(97.87065, dtype=float32),\n",
       "  array(97.87065, dtype=float32),\n",
       "  array(97.87064, dtype=float32),\n",
       "  array(97.87064, dtype=float32),\n",
       "  array(97.87065, dtype=float32),\n",
       "  array(97.87064, dtype=float32),\n",
       "  array(97.87064, dtype=float32),\n",
       "  array(97.87064, dtype=float32),\n",
       "  array(97.87065, dtype=float32),\n",
       "  array(97.87064, dtype=float32),\n",
       "  array(97.870636, dtype=float32),\n",
       "  array(97.87065, dtype=float32),\n",
       "  array(97.87064, dtype=float32),\n",
       "  array(97.870636, dtype=float32),\n",
       "  array(97.87064, dtype=float32),\n",
       "  array(97.87064, dtype=float32),\n",
       "  array(97.870636, dtype=float32),\n",
       "  array(97.87064, dtype=float32),\n",
       "  array(97.87065, dtype=float32),\n",
       "  array(97.87064, dtype=float32),\n",
       "  array(97.87064, dtype=float32),\n",
       "  array(97.87064, dtype=float32),\n",
       "  array(97.87064, dtype=float32),\n",
       "  array(97.87064, dtype=float32),\n",
       "  array(97.87064, dtype=float32),\n",
       "  array(97.870636, dtype=float32),\n",
       "  array(97.87064, dtype=float32)],\n",
       " 'reg': [array(0., dtype=float32),\n",
       "  array(0., dtype=float32),\n",
       "  array(0., dtype=float32),\n",
       "  array(0., dtype=float32),\n",
       "  array(0., dtype=float32),\n",
       "  array(0., dtype=float32),\n",
       "  array(0., dtype=float32),\n",
       "  array(0., dtype=float32),\n",
       "  array(0., dtype=float32),\n",
       "  array(0., dtype=float32),\n",
       "  array(0., dtype=float32),\n",
       "  array(0., dtype=float32),\n",
       "  array(0., dtype=float32),\n",
       "  array(0., dtype=float32),\n",
       "  array(0., dtype=float32),\n",
       "  array(0., dtype=float32),\n",
       "  array(0., dtype=float32),\n",
       "  array(0., dtype=float32),\n",
       "  array(0., dtype=float32),\n",
       "  array(0., dtype=float32),\n",
       "  array(0., dtype=float32),\n",
       "  array(0., dtype=float32),\n",
       "  array(0., dtype=float32),\n",
       "  array(0., dtype=float32),\n",
       "  array(0., dtype=float32),\n",
       "  array(0., dtype=float32),\n",
       "  array(0., dtype=float32),\n",
       "  array(0., dtype=float32),\n",
       "  array(0., dtype=float32),\n",
       "  array(0., dtype=float32),\n",
       "  array(0., dtype=float32),\n",
       "  array(0., dtype=float32),\n",
       "  array(0., dtype=float32),\n",
       "  array(0., dtype=float32),\n",
       "  array(0., dtype=float32),\n",
       "  array(0., dtype=float32),\n",
       "  array(0., dtype=float32),\n",
       "  array(0., dtype=float32),\n",
       "  array(0., dtype=float32),\n",
       "  array(0., dtype=float32),\n",
       "  array(0., dtype=float32),\n",
       "  array(0., dtype=float32),\n",
       "  array(0., dtype=float32),\n",
       "  array(0., dtype=float32),\n",
       "  array(0., dtype=float32),\n",
       "  array(0., dtype=float32),\n",
       "  array(0., dtype=float32),\n",
       "  array(0., dtype=float32),\n",
       "  array(0., dtype=float32),\n",
       "  array(0., dtype=float32),\n",
       "  array(0., dtype=float32),\n",
       "  array(0., dtype=float32),\n",
       "  array(0., dtype=float32),\n",
       "  array(0., dtype=float32),\n",
       "  array(0., dtype=float32),\n",
       "  array(0., dtype=float32),\n",
       "  array(0., dtype=float32),\n",
       "  array(0., dtype=float32),\n",
       "  array(0., dtype=float32),\n",
       "  array(0., dtype=float32),\n",
       "  array(0., dtype=float32),\n",
       "  array(0., dtype=float32),\n",
       "  array(0., dtype=float32),\n",
       "  array(0., dtype=float32),\n",
       "  array(0., dtype=float32),\n",
       "  array(0., dtype=float32),\n",
       "  array(0., dtype=float32),\n",
       "  array(0., dtype=float32),\n",
       "  array(0., dtype=float32),\n",
       "  array(0., dtype=float32),\n",
       "  array(0., dtype=float32),\n",
       "  array(0., dtype=float32),\n",
       "  array(0., dtype=float32),\n",
       "  array(0., dtype=float32),\n",
       "  array(0., dtype=float32),\n",
       "  array(0., dtype=float32),\n",
       "  array(0., dtype=float32),\n",
       "  array(0., dtype=float32),\n",
       "  array(0., dtype=float32),\n",
       "  array(0., dtype=float32),\n",
       "  array(0., dtype=float32),\n",
       "  array(0., dtype=float32),\n",
       "  array(0., dtype=float32),\n",
       "  array(0., dtype=float32),\n",
       "  array(0., dtype=float32),\n",
       "  array(0., dtype=float32),\n",
       "  array(0., dtype=float32),\n",
       "  array(0., dtype=float32),\n",
       "  array(0., dtype=float32),\n",
       "  array(0., dtype=float32),\n",
       "  array(0., dtype=float32),\n",
       "  array(0., dtype=float32),\n",
       "  array(0., dtype=float32),\n",
       "  array(0., dtype=float32),\n",
       "  array(0., dtype=float32),\n",
       "  array(0., dtype=float32),\n",
       "  array(0., dtype=float32),\n",
       "  array(0., dtype=float32),\n",
       "  array(0., dtype=float32),\n",
       "  array(0., dtype=float32),\n",
       "  array(0., dtype=float32),\n",
       "  array(0., dtype=float32),\n",
       "  array(0., dtype=float32),\n",
       "  array(0., dtype=float32),\n",
       "  array(0., dtype=float32),\n",
       "  array(0., dtype=float32),\n",
       "  array(0., dtype=float32),\n",
       "  array(0., dtype=float32),\n",
       "  array(0., dtype=float32),\n",
       "  array(0., dtype=float32),\n",
       "  array(0., dtype=float32),\n",
       "  array(0., dtype=float32),\n",
       "  array(0., dtype=float32),\n",
       "  array(0., dtype=float32),\n",
       "  array(0., dtype=float32),\n",
       "  array(0., dtype=float32),\n",
       "  array(0., dtype=float32),\n",
       "  array(0., dtype=float32),\n",
       "  array(0., dtype=float32),\n",
       "  array(0., dtype=float32),\n",
       "  array(0., dtype=float32),\n",
       "  array(0., dtype=float32),\n",
       "  array(0., dtype=float32),\n",
       "  array(0., dtype=float32),\n",
       "  array(0., dtype=float32),\n",
       "  array(0., dtype=float32),\n",
       "  array(0., dtype=float32),\n",
       "  array(0., dtype=float32),\n",
       "  array(0., dtype=float32),\n",
       "  array(0., dtype=float32),\n",
       "  array(0., dtype=float32),\n",
       "  array(0., dtype=float32),\n",
       "  array(0., dtype=float32),\n",
       "  array(0., dtype=float32),\n",
       "  array(0., dtype=float32),\n",
       "  array(0., dtype=float32),\n",
       "  array(0., dtype=float32),\n",
       "  array(0., dtype=float32),\n",
       "  array(0., dtype=float32),\n",
       "  array(0., dtype=float32),\n",
       "  array(0., dtype=float32),\n",
       "  array(0., dtype=float32),\n",
       "  array(0., dtype=float32),\n",
       "  array(0., dtype=float32),\n",
       "  array(0., dtype=float32),\n",
       "  array(0., dtype=float32),\n",
       "  array(0., dtype=float32),\n",
       "  array(0., dtype=float32),\n",
       "  array(0., dtype=float32),\n",
       "  array(0., dtype=float32),\n",
       "  array(0., dtype=float32),\n",
       "  array(0., dtype=float32),\n",
       "  array(0., dtype=float32),\n",
       "  array(0., dtype=float32),\n",
       "  array(0., dtype=float32),\n",
       "  array(0., dtype=float32),\n",
       "  array(0., dtype=float32),\n",
       "  array(0., dtype=float32),\n",
       "  array(0., dtype=float32),\n",
       "  array(0., dtype=float32),\n",
       "  array(0., dtype=float32),\n",
       "  array(0., dtype=float32),\n",
       "  array(0., dtype=float32),\n",
       "  array(0., dtype=float32),\n",
       "  array(0., dtype=float32),\n",
       "  array(0., dtype=float32),\n",
       "  array(0., dtype=float32),\n",
       "  array(0., dtype=float32),\n",
       "  array(0., dtype=float32),\n",
       "  array(0., dtype=float32),\n",
       "  array(0., dtype=float32),\n",
       "  array(0., dtype=float32),\n",
       "  array(0., dtype=float32),\n",
       "  array(0., dtype=float32),\n",
       "  array(0., dtype=float32),\n",
       "  array(0., dtype=float32),\n",
       "  array(0., dtype=float32),\n",
       "  array(0., dtype=float32),\n",
       "  array(0., dtype=float32),\n",
       "  array(0., dtype=float32),\n",
       "  array(0., dtype=float32),\n",
       "  array(0., dtype=float32),\n",
       "  array(0., dtype=float32),\n",
       "  array(0., dtype=float32),\n",
       "  array(0., dtype=float32),\n",
       "  array(0., dtype=float32),\n",
       "  array(0., dtype=float32),\n",
       "  array(0., dtype=float32),\n",
       "  array(0., dtype=float32),\n",
       "  array(0., dtype=float32),\n",
       "  array(0., dtype=float32),\n",
       "  array(0., dtype=float32),\n",
       "  array(0., dtype=float32),\n",
       "  array(0., dtype=float32),\n",
       "  array(0., dtype=float32),\n",
       "  array(0., dtype=float32),\n",
       "  array(0., dtype=float32),\n",
       "  array(0., dtype=float32),\n",
       "  array(0., dtype=float32),\n",
       "  array(318.08246, dtype=float32)]}"
      ]
     },
     "execution_count": 142,
     "metadata": {},
     "output_type": "execute_result"
    }
   ],
   "source": [
    "model = KAN([2,5,8,1], grid=5, k=3, seed=0)\n",
    "model.fit(dataset, steps = 200)"
   ]
  },
  {
   "cell_type": "code",
   "execution_count": 144,
   "metadata": {},
   "outputs": [
    {
     "name": "stdout",
     "output_type": "stream",
     "text": [
      "saving model version 0.2\n"
     ]
    }
   ],
   "source": [
    "model = model.prune_node(threshold=1e-2)"
   ]
  },
  {
   "cell_type": "code",
   "execution_count": 145,
   "metadata": {},
   "outputs": [
    {
     "data": {
      "image/png": "[encoded data removed]",
      "text/plain": [
       "<Figure size 500x600 with 66 Axes>"
      ]
     },
     "metadata": {},
     "output_type": "display_data"
    }
   ],
   "source": [
    "model.plot()"
   ]
  },
  {
   "cell_type": "markdown",
   "metadata": {},
   "source": [
    "Теперь работает. Попробуем потестить."
   ]
  },
  {
   "cell_type": "code",
   "execution_count": 146,
   "metadata": {},
   "outputs": [],
   "source": [
    "test_dataset = [[0.7,0.07],[0.125,0.2], [0.18,0.3], [0.25,0.4], [0.35,0.55], [0.4,0.68], [0.47,0.8]]\n",
    "test_tensor = torch.tensor(np.float32(test_dataset))"
   ]
  },
  {
   "cell_type": "code",
   "execution_count": 175,
   "metadata": {},
   "outputs": [],
   "source": [
    "DP_DZ_KAN = model(test_tensor).tolist()"
   ]
  },
  {
   "cell_type": "code",
   "execution_count": 178,
   "metadata": {},
   "outputs": [
    {
     "data": {
      "text/plain": [
       "[[243.92420959472656],\n",
       " [5064.79833984375],\n",
       " [5549.89453125],\n",
       " [6390.91064453125],\n",
       " [7412.962890625],\n",
       " [7950.32666015625],\n",
       " [8601.78125]]"
      ]
     },
     "execution_count": 178,
     "metadata": {},
     "output_type": "execute_result"
    }
   ],
   "source": [
    "DP_DZ_KAN"
   ]
  },
  {
   "cell_type": "code",
   "execution_count": 162,
   "metadata": {},
   "outputs": [],
   "source": [
    "test_df = pd.DataFrame(test_dataset, columns=['d', 'wc'])\n",
    "DP_DZ_dict = []\n",
    "for i in range(len(test_df)):\n",
    "    mode, grav, fric, hl, ll = calc_DP_DZ(**constants, wc = test_df['wc'][i], d = test_df['d'][i])\n",
    "    DP_DZ_dict.append(grav + fric)"
   ]
  },
  {
   "cell_type": "code",
   "execution_count": 163,
   "metadata": {},
   "outputs": [
    {
     "data": {
      "text/plain": [
       "[6774.556921850855,\n",
       " 4960.173674017015,\n",
       " 5559.216379972291,\n",
       " 6350.002509378962,\n",
       " 7380.608566755912,\n",
       " 7956.017411945444,\n",
       " 8521.721501053862]"
      ]
     },
     "execution_count": 163,
     "metadata": {},
     "output_type": "execute_result"
    }
   ],
   "source": [
    "DP_DZ_dict"
   ]
  },
  {
   "cell_type": "code",
   "execution_count": 188,
   "metadata": {},
   "outputs": [
    {
     "data": {
      "text/plain": [
       "0.14395711754197854"
      ]
     },
     "execution_count": 188,
     "metadata": {},
     "output_type": "execute_result"
    }
   ],
   "source": [
    "skm.mean_absolute_percentage_error(DP_DZ_dict, DP_DZ_KAN)"
   ]
  },
  {
   "cell_type": "markdown",
   "metadata": {},
   "source": [
    "Не сказать, чтобы очень хреново, но явно не укладывается в 0.01% ошибки по тех. заданию. Если посчитать ошибку для всех значений кроме первого, то получим:"
   ]
  },
  {
   "cell_type": "code",
   "execution_count": 190,
   "metadata": {},
   "outputs": [
    {
     "data": {
      "text/plain": [
       "0.00728429181950924"
      ]
     },
     "execution_count": 190,
     "metadata": {},
     "output_type": "execute_result"
    }
   ],
   "source": [
    "skm.mean_absolute_percentage_error(DP_DZ_dict[1:], DP_DZ_KAN[1:])"
   ]
  },
  {
   "cell_type": "markdown",
   "metadata": {},
   "source": [
    "То есть если не брать крайние значения, то оценка укладывается в 1%. \n",
    "Предлагается теперь увеличить размерность задачи. Например, до 4."
   ]
  },
  {
   "cell_type": "code",
   "execution_count": 442,
   "metadata": {},
   "outputs": [
    {
     "name": "stderr",
     "output_type": "stream",
     "text": [
      "100%|██████████| 6561/6561 [00:01<00:00, 3713.07it/s]\n"
     ]
    }
   ],
   "source": [
    "count = 9\n",
    "sec_p_day = 24 * 60 * 60   \n",
    "\n",
    "d = np.linspace(0.05, 0.5, count)\n",
    "wc = np.linspace(0, 0.99, count)\n",
    "delta_qg = np.linspace(0, 1000, count) / sec_p_day\n",
    "q0 = np.linspace(5, 700, count) / sec_p_day\n",
    "\n",
    "\n",
    "constants = {'T' : 50,\n",
    "            'rho0' : 840.,\n",
    "            'rhog' : 700.,\n",
    "            'muo' : 0.07575,\n",
    "            'epsilon' : 0.000015,\n",
    "            'sigmao' : 0.02,\n",
    "            'theta' : 90,\n",
    "            'rs' : 20,\n",
    "            'p' : 1,\n",
    "            }\n",
    "\n",
    "iters_count = count ** 4\n",
    "data_dict = []\n",
    "with tqdm(total=iters_count) as pbar:\n",
    "    for d_i, wc_i, delta_qg_i, q0_i in itertools.product(d, wc, delta_qg, q0):\n",
    "        pbar.update(1)\n",
    "        mode, grav, fric, hl, ll = calc_DP_DZ(**constants, wc = wc_i, d = d_i, delta_qg = delta_qg_i, q0 = q0_i)\n",
    "        if (grav > 0 and fric > 0 and hl > ll) and (mode == 0 or mode == 1):\n",
    "            DP_DZ = grav + fric\n",
    "            data_dict.append({'d' : d_i,\n",
    "                              'wc' : wc_i,\n",
    "                              'delta_qg' : delta_qg_i,\n",
    "                              'q0' : q0_i,\n",
    "                              'DP_DZ' : DP_DZ,\n",
    "                              })"
   ]
  },
  {
   "cell_type": "code",
   "execution_count": 443,
   "metadata": {},
   "outputs": [],
   "source": [
    "data = pd.DataFrame(data_dict)"
   ]
  },
  {
   "cell_type": "code",
   "execution_count": 444,
   "metadata": {},
   "outputs": [
    {
     "data": {
      "text/html": [
       "<div>\n",
       "<style scoped>\n",
       "    .dataframe tbody tr th:only-of-type {\n",
       "        vertical-align: middle;\n",
       "    }\n",
       "\n",
       "    .dataframe tbody tr th {\n",
       "        vertical-align: top;\n",
       "    }\n",
       "\n",
       "    .dataframe thead th {\n",
       "        text-align: right;\n",
       "    }\n",
       "</style>\n",
       "<table border=\"1\" class=\"dataframe\">\n",
       "  <thead>\n",
       "    <tr style=\"text-align: right;\">\n",
       "      <th></th>\n",
       "      <th>d</th>\n",
       "      <th>wc</th>\n",
       "      <th>delta_qg</th>\n",
       "      <th>q0</th>\n",
       "      <th>DP_DZ</th>\n",
       "    </tr>\n",
       "  </thead>\n",
       "  <tbody>\n",
       "    <tr>\n",
       "      <th>0</th>\n",
       "      <td>0.05</td>\n",
       "      <td>0.00</td>\n",
       "      <td>0.0</td>\n",
       "      <td>0.000058</td>\n",
       "      <td>6884.207635</td>\n",
       "    </tr>\n",
       "    <tr>\n",
       "      <th>1</th>\n",
       "      <td>0.05</td>\n",
       "      <td>0.00</td>\n",
       "      <td>0.0</td>\n",
       "      <td>0.001063</td>\n",
       "      <td>6884.157399</td>\n",
       "    </tr>\n",
       "    <tr>\n",
       "      <th>2</th>\n",
       "      <td>0.05</td>\n",
       "      <td>0.00</td>\n",
       "      <td>0.0</td>\n",
       "      <td>0.002069</td>\n",
       "      <td>6884.107172</td>\n",
       "    </tr>\n",
       "    <tr>\n",
       "      <th>3</th>\n",
       "      <td>0.05</td>\n",
       "      <td>0.00</td>\n",
       "      <td>0.0</td>\n",
       "      <td>0.003074</td>\n",
       "      <td>6884.056954</td>\n",
       "    </tr>\n",
       "    <tr>\n",
       "      <th>4</th>\n",
       "      <td>0.05</td>\n",
       "      <td>0.00</td>\n",
       "      <td>0.0</td>\n",
       "      <td>0.004080</td>\n",
       "      <td>6884.006742</td>\n",
       "    </tr>\n",
       "    <tr>\n",
       "      <th>...</th>\n",
       "      <td>...</td>\n",
       "      <td>...</td>\n",
       "      <td>...</td>\n",
       "      <td>...</td>\n",
       "      <td>...</td>\n",
       "    </tr>\n",
       "    <tr>\n",
       "      <th>3414</th>\n",
       "      <td>0.50</td>\n",
       "      <td>0.99</td>\n",
       "      <td>0.0</td>\n",
       "      <td>0.004080</td>\n",
       "      <td>9780.742105</td>\n",
       "    </tr>\n",
       "    <tr>\n",
       "      <th>3415</th>\n",
       "      <td>0.50</td>\n",
       "      <td>0.99</td>\n",
       "      <td>0.0</td>\n",
       "      <td>0.005085</td>\n",
       "      <td>9780.742105</td>\n",
       "    </tr>\n",
       "    <tr>\n",
       "      <th>3416</th>\n",
       "      <td>0.50</td>\n",
       "      <td>0.99</td>\n",
       "      <td>0.0</td>\n",
       "      <td>0.006091</td>\n",
       "      <td>9780.742105</td>\n",
       "    </tr>\n",
       "    <tr>\n",
       "      <th>3417</th>\n",
       "      <td>0.50</td>\n",
       "      <td>0.99</td>\n",
       "      <td>0.0</td>\n",
       "      <td>0.007096</td>\n",
       "      <td>9780.742105</td>\n",
       "    </tr>\n",
       "    <tr>\n",
       "      <th>3418</th>\n",
       "      <td>0.50</td>\n",
       "      <td>0.99</td>\n",
       "      <td>0.0</td>\n",
       "      <td>0.008102</td>\n",
       "      <td>9780.742105</td>\n",
       "    </tr>\n",
       "  </tbody>\n",
       "</table>\n",
       "<p>3419 rows × 5 columns</p>\n",
       "</div>"
      ],
      "text/plain": [
       "         d    wc  delta_qg        q0        DP_DZ\n",
       "0     0.05  0.00       0.0  0.000058  6884.207635\n",
       "1     0.05  0.00       0.0  0.001063  6884.157399\n",
       "2     0.05  0.00       0.0  0.002069  6884.107172\n",
       "3     0.05  0.00       0.0  0.003074  6884.056954\n",
       "4     0.05  0.00       0.0  0.004080  6884.006742\n",
       "...    ...   ...       ...       ...          ...\n",
       "3414  0.50  0.99       0.0  0.004080  9780.742105\n",
       "3415  0.50  0.99       0.0  0.005085  9780.742105\n",
       "3416  0.50  0.99       0.0  0.006091  9780.742105\n",
       "3417  0.50  0.99       0.0  0.007096  9780.742105\n",
       "3418  0.50  0.99       0.0  0.008102  9780.742105\n",
       "\n",
       "[3419 rows x 5 columns]"
      ]
     },
     "execution_count": 444,
     "metadata": {},
     "output_type": "execute_result"
    }
   ],
   "source": [
    "data"
   ]
  },
  {
   "cell_type": "code",
   "execution_count": 445,
   "metadata": {},
   "outputs": [],
   "source": [
    "data['delta_qg'] = data['delta_qg'] * 1e2\n",
    "data['q0'] = data['q0'] * 1e2"
   ]
  },
  {
   "cell_type": "code",
   "execution_count": 446,
   "metadata": {},
   "outputs": [
    {
     "data": {
      "text/html": [
       "<div>\n",
       "<style scoped>\n",
       "    .dataframe tbody tr th:only-of-type {\n",
       "        vertical-align: middle;\n",
       "    }\n",
       "\n",
       "    .dataframe tbody tr th {\n",
       "        vertical-align: top;\n",
       "    }\n",
       "\n",
       "    .dataframe thead th {\n",
       "        text-align: right;\n",
       "    }\n",
       "</style>\n",
       "<table border=\"1\" class=\"dataframe\">\n",
       "  <thead>\n",
       "    <tr style=\"text-align: right;\">\n",
       "      <th></th>\n",
       "      <th>d</th>\n",
       "      <th>wc</th>\n",
       "      <th>delta_qg</th>\n",
       "      <th>q0</th>\n",
       "      <th>DP_DZ</th>\n",
       "    </tr>\n",
       "  </thead>\n",
       "  <tbody>\n",
       "    <tr>\n",
       "      <th>0</th>\n",
       "      <td>0.05</td>\n",
       "      <td>0.00</td>\n",
       "      <td>0.0</td>\n",
       "      <td>0.005787</td>\n",
       "      <td>6884.207635</td>\n",
       "    </tr>\n",
       "    <tr>\n",
       "      <th>1</th>\n",
       "      <td>0.05</td>\n",
       "      <td>0.00</td>\n",
       "      <td>0.0</td>\n",
       "      <td>0.106337</td>\n",
       "      <td>6884.157399</td>\n",
       "    </tr>\n",
       "    <tr>\n",
       "      <th>2</th>\n",
       "      <td>0.05</td>\n",
       "      <td>0.00</td>\n",
       "      <td>0.0</td>\n",
       "      <td>0.206887</td>\n",
       "      <td>6884.107172</td>\n",
       "    </tr>\n",
       "    <tr>\n",
       "      <th>3</th>\n",
       "      <td>0.05</td>\n",
       "      <td>0.00</td>\n",
       "      <td>0.0</td>\n",
       "      <td>0.307436</td>\n",
       "      <td>6884.056954</td>\n",
       "    </tr>\n",
       "    <tr>\n",
       "      <th>4</th>\n",
       "      <td>0.05</td>\n",
       "      <td>0.00</td>\n",
       "      <td>0.0</td>\n",
       "      <td>0.407986</td>\n",
       "      <td>6884.006742</td>\n",
       "    </tr>\n",
       "    <tr>\n",
       "      <th>...</th>\n",
       "      <td>...</td>\n",
       "      <td>...</td>\n",
       "      <td>...</td>\n",
       "      <td>...</td>\n",
       "      <td>...</td>\n",
       "    </tr>\n",
       "    <tr>\n",
       "      <th>3414</th>\n",
       "      <td>0.50</td>\n",
       "      <td>0.99</td>\n",
       "      <td>0.0</td>\n",
       "      <td>0.407986</td>\n",
       "      <td>9780.742105</td>\n",
       "    </tr>\n",
       "    <tr>\n",
       "      <th>3415</th>\n",
       "      <td>0.50</td>\n",
       "      <td>0.99</td>\n",
       "      <td>0.0</td>\n",
       "      <td>0.508536</td>\n",
       "      <td>9780.742105</td>\n",
       "    </tr>\n",
       "    <tr>\n",
       "      <th>3416</th>\n",
       "      <td>0.50</td>\n",
       "      <td>0.99</td>\n",
       "      <td>0.0</td>\n",
       "      <td>0.609086</td>\n",
       "      <td>9780.742105</td>\n",
       "    </tr>\n",
       "    <tr>\n",
       "      <th>3417</th>\n",
       "      <td>0.50</td>\n",
       "      <td>0.99</td>\n",
       "      <td>0.0</td>\n",
       "      <td>0.709635</td>\n",
       "      <td>9780.742105</td>\n",
       "    </tr>\n",
       "    <tr>\n",
       "      <th>3418</th>\n",
       "      <td>0.50</td>\n",
       "      <td>0.99</td>\n",
       "      <td>0.0</td>\n",
       "      <td>0.810185</td>\n",
       "      <td>9780.742105</td>\n",
       "    </tr>\n",
       "  </tbody>\n",
       "</table>\n",
       "<p>3419 rows × 5 columns</p>\n",
       "</div>"
      ],
      "text/plain": [
       "         d    wc  delta_qg        q0        DP_DZ\n",
       "0     0.05  0.00       0.0  0.005787  6884.207635\n",
       "1     0.05  0.00       0.0  0.106337  6884.157399\n",
       "2     0.05  0.00       0.0  0.206887  6884.107172\n",
       "3     0.05  0.00       0.0  0.307436  6884.056954\n",
       "4     0.05  0.00       0.0  0.407986  6884.006742\n",
       "...    ...   ...       ...       ...          ...\n",
       "3414  0.50  0.99       0.0  0.407986  9780.742105\n",
       "3415  0.50  0.99       0.0  0.508536  9780.742105\n",
       "3416  0.50  0.99       0.0  0.609086  9780.742105\n",
       "3417  0.50  0.99       0.0  0.709635  9780.742105\n",
       "3418  0.50  0.99       0.0  0.810185  9780.742105\n",
       "\n",
       "[3419 rows x 5 columns]"
      ]
     },
     "execution_count": 446,
     "metadata": {},
     "output_type": "execute_result"
    }
   ],
   "source": [
    "data"
   ]
  },
  {
   "cell_type": "code",
   "execution_count": 447,
   "metadata": {},
   "outputs": [],
   "source": [
    "torch.set_default_dtype(torch.float32)\n",
    "labels_tensor = torch.tensor(np.float32(pd.DataFrame(data['DP_DZ']).values))\n",
    "data_tensor = torch.tensor(np.float32(pd.DataFrame(data[['d', 'wc', 'delta_qg', 'q0']]).values))\n",
    "dataset = create_dataset_from_data(data_tensor, labels_tensor)"
   ]
  },
  {
   "cell_type": "code",
   "execution_count": 448,
   "metadata": {},
   "outputs": [
    {
     "name": "stdout",
     "output_type": "stream",
     "text": [
      "checkpoint directory created: ./model\n",
      "saving model version 0.0\n"
     ]
    },
    {
     "name": "stderr",
     "output_type": "stream",
     "text": [
      "| train_loss: 5.81e+00 | test_loss: 5.68e+00 | reg: 2.61e+02 | : 100%|█| 20/20 [01:36<00:00,  4.82s/"
     ]
    },
    {
     "name": "stdout",
     "output_type": "stream",
     "text": [
      "saving model version 0.1\n"
     ]
    },
    {
     "name": "stderr",
     "output_type": "stream",
     "text": [
      "\n"
     ]
    },
    {
     "data": {
      "text/plain": [
       "{'train_loss': [array(625.05365, dtype=float32),\n",
       "  array(59.76347, dtype=float32),\n",
       "  array(25.053137, dtype=float32),\n",
       "  array(15.847317, dtype=float32),\n",
       "  array(13.126058, dtype=float32),\n",
       "  array(134.56905, dtype=float32),\n",
       "  array(30.831303, dtype=float32),\n",
       "  array(7.182985, dtype=float32),\n",
       "  array(4.6112113, dtype=float32),\n",
       "  array(3.0203633, dtype=float32),\n",
       "  array(36.29572, dtype=float32),\n",
       "  array(16.246689, dtype=float32),\n",
       "  array(9.132013, dtype=float32),\n",
       "  array(5.79318, dtype=float32),\n",
       "  array(2.2650616, dtype=float32),\n",
       "  array(69.20208, dtype=float32),\n",
       "  array(21.815065, dtype=float32),\n",
       "  array(12.893964, dtype=float32),\n",
       "  array(7.9226775, dtype=float32),\n",
       "  array(5.814875, dtype=float32)],\n",
       " 'test_loss': [array(587.8305, dtype=float32),\n",
       "  array(55.92846, dtype=float32),\n",
       "  array(21.672827, dtype=float32),\n",
       "  array(13.902408, dtype=float32),\n",
       "  array(12.460163, dtype=float32),\n",
       "  array(136.68062, dtype=float32),\n",
       "  array(30.101297, dtype=float32),\n",
       "  array(7.056503, dtype=float32),\n",
       "  array(4.1349535, dtype=float32),\n",
       "  array(2.7010703, dtype=float32),\n",
       "  array(35.44407, dtype=float32),\n",
       "  array(16.027979, dtype=float32),\n",
       "  array(8.987737, dtype=float32),\n",
       "  array(5.7962065, dtype=float32),\n",
       "  array(2.2280667, dtype=float32),\n",
       "  array(71.15035, dtype=float32),\n",
       "  array(21.533419, dtype=float32),\n",
       "  array(12.417028, dtype=float32),\n",
       "  array(7.6680956, dtype=float32),\n",
       "  array(5.6838207, dtype=float32)],\n",
       " 'reg': [array(0., dtype=float32),\n",
       "  array(0., dtype=float32),\n",
       "  array(0., dtype=float32),\n",
       "  array(0., dtype=float32),\n",
       "  array(0., dtype=float32),\n",
       "  array(0., dtype=float32),\n",
       "  array(0., dtype=float32),\n",
       "  array(0., dtype=float32),\n",
       "  array(0., dtype=float32),\n",
       "  array(0., dtype=float32),\n",
       "  array(0., dtype=float32),\n",
       "  array(0., dtype=float32),\n",
       "  array(0., dtype=float32),\n",
       "  array(0., dtype=float32),\n",
       "  array(0., dtype=float32),\n",
       "  array(0., dtype=float32),\n",
       "  array(0., dtype=float32),\n",
       "  array(0., dtype=float32),\n",
       "  array(0., dtype=float32),\n",
       "  array(260.6392, dtype=float32)]}"
      ]
     },
     "execution_count": 448,
     "metadata": {},
     "output_type": "execute_result"
    }
   ],
   "source": [
    "model = KAN([4,8,16,16,1], grid=10, k=5, seed=0)\n",
    "model.fit(dataset, steps = 20)"
   ]
  },
  {
   "cell_type": "code",
   "execution_count": 431,
   "metadata": {},
   "outputs": [
    {
     "name": "stdout",
     "output_type": "stream",
     "text": [
      "checkpoint directory created: ./model\n",
      "saving model version 0.0\n"
     ]
    },
    {
     "name": "stderr",
     "output_type": "stream",
     "text": [
      "| train_loss: 1.38e+01 | test_loss: 1.36e+01 | reg: 4.66e+02 | : 100%|█| 20/20 [00:56<00:00,  2.82s/"
     ]
    },
    {
     "name": "stdout",
     "output_type": "stream",
     "text": [
      "saving model version 0.1\n"
     ]
    },
    {
     "name": "stderr",
     "output_type": "stream",
     "text": [
      "\n"
     ]
    },
    {
     "data": {
      "text/plain": [
       "{'train_loss': [array(558.7567, dtype=float32),\n",
       "  array(541.6901, dtype=float32),\n",
       "  array(450.74017, dtype=float32),\n",
       "  array(388.74014, dtype=float32),\n",
       "  array(324.05386, dtype=float32),\n",
       "  array(178.02121, dtype=float32),\n",
       "  array(89.52296, dtype=float32),\n",
       "  array(61.37217, dtype=float32),\n",
       "  array(46.60342, dtype=float32),\n",
       "  array(33.75864, dtype=float32),\n",
       "  array(178.56017, dtype=float32),\n",
       "  array(41.869095, dtype=float32),\n",
       "  array(28.931997, dtype=float32),\n",
       "  array(25.109236, dtype=float32),\n",
       "  array(21.42811, dtype=float32),\n",
       "  array(139.55228, dtype=float32),\n",
       "  array(40.148537, dtype=float32),\n",
       "  array(23.184586, dtype=float32),\n",
       "  array(17.13073, dtype=float32),\n",
       "  array(13.790725, dtype=float32)],\n",
       " 'test_loss': [array(555.9233, dtype=float32),\n",
       "  array(537.3631, dtype=float32),\n",
       "  array(461.2693, dtype=float32),\n",
       "  array(394.0785, dtype=float32),\n",
       "  array(321.53415, dtype=float32),\n",
       "  array(188.9447, dtype=float32),\n",
       "  array(93.479706, dtype=float32),\n",
       "  array(63.610737, dtype=float32),\n",
       "  array(49.080856, dtype=float32),\n",
       "  array(34.88297, dtype=float32),\n",
       "  array(177.78574, dtype=float32),\n",
       "  array(43.61243, dtype=float32),\n",
       "  array(28.851862, dtype=float32),\n",
       "  array(26.25057, dtype=float32),\n",
       "  array(22.484022, dtype=float32),\n",
       "  array(149.6021, dtype=float32),\n",
       "  array(40.079044, dtype=float32),\n",
       "  array(22.353165, dtype=float32),\n",
       "  array(17.428617, dtype=float32),\n",
       "  array(13.580739, dtype=float32)],\n",
       " 'reg': [array(0., dtype=float32),\n",
       "  array(0., dtype=float32),\n",
       "  array(0., dtype=float32),\n",
       "  array(0., dtype=float32),\n",
       "  array(0., dtype=float32),\n",
       "  array(0., dtype=float32),\n",
       "  array(0., dtype=float32),\n",
       "  array(0., dtype=float32),\n",
       "  array(0., dtype=float32),\n",
       "  array(0., dtype=float32),\n",
       "  array(0., dtype=float32),\n",
       "  array(0., dtype=float32),\n",
       "  array(0., dtype=float32),\n",
       "  array(0., dtype=float32),\n",
       "  array(0., dtype=float32),\n",
       "  array(0., dtype=float32),\n",
       "  array(0., dtype=float32),\n",
       "  array(0., dtype=float32),\n",
       "  array(0., dtype=float32),\n",
       "  array(465.94177, dtype=float32)]}"
      ]
     },
     "execution_count": 431,
     "metadata": {},
     "output_type": "execute_result"
    }
   ],
   "source": [
    "model = KAN([4,8,16,1], grid=10, k=5, seed=0)\n",
    "model.fit(dataset, steps = 20)"
   ]
  },
  {
   "cell_type": "code",
   "execution_count": null,
   "metadata": {},
   "outputs": [],
   "source": [
    "model = KAN([4, 8, 16, 32, 1], grid=10, k=5, seed=0)\n",
    "model.fit(dataset, steps = 20)"
   ]
  },
  {
   "cell_type": "markdown",
   "metadata": {},
   "source": [
    "Здесь за 40 шагов лосс разошелся"
   ]
  },
  {
   "cell_type": "code",
   "execution_count": 432,
   "metadata": {},
   "outputs": [
    {
     "name": "stdout",
     "output_type": "stream",
     "text": [
      "checkpoint directory created: ./model\n",
      "saving model version 0.0\n"
     ]
    },
    {
     "name": "stderr",
     "output_type": "stream",
     "text": [
      "| train_loss: 5.47e+00 | test_loss: 5.79e+00 | reg: 4.77e+02 | : 100%|█| 20/20 [03:07<00:00,  9.39s/"
     ]
    },
    {
     "name": "stdout",
     "output_type": "stream",
     "text": [
      "saving model version 0.1\n"
     ]
    },
    {
     "name": "stderr",
     "output_type": "stream",
     "text": [
      "\n"
     ]
    },
    {
     "data": {
      "text/plain": [
       "{'train_loss': [array(8078.6567, dtype=float32),\n",
       "  array(1362.6766, dtype=float32),\n",
       "  array(326.53262, dtype=float32),\n",
       "  array(59.91637, dtype=float32),\n",
       "  array(23.227701, dtype=float32),\n",
       "  array(87.57231, dtype=float32),\n",
       "  array(37.06537, dtype=float32),\n",
       "  array(20.490881, dtype=float32),\n",
       "  array(14.017047, dtype=float32),\n",
       "  array(9.860078, dtype=float32),\n",
       "  array(23.35391, dtype=float32),\n",
       "  array(11.575264, dtype=float32),\n",
       "  array(9.059673, dtype=float32),\n",
       "  array(7.573085, dtype=float32),\n",
       "  array(6.6933002, dtype=float32),\n",
       "  array(27.757954, dtype=float32),\n",
       "  array(11.114049, dtype=float32),\n",
       "  array(7.080693, dtype=float32),\n",
       "  array(6.1363015, dtype=float32),\n",
       "  array(5.4658227, dtype=float32)],\n",
       " 'test_loss': [array(8119.3896, dtype=float32),\n",
       "  array(1445.6167, dtype=float32),\n",
       "  array(327.8284, dtype=float32),\n",
       "  array(62.056355, dtype=float32),\n",
       "  array(25.328768, dtype=float32),\n",
       "  array(101.93509, dtype=float32),\n",
       "  array(37.97333, dtype=float32),\n",
       "  array(21.517887, dtype=float32),\n",
       "  array(15.500301, dtype=float32),\n",
       "  array(10.590295, dtype=float32),\n",
       "  array(24.318384, dtype=float32),\n",
       "  array(12.8722725, dtype=float32),\n",
       "  array(9.5065775, dtype=float32),\n",
       "  array(7.9805994, dtype=float32),\n",
       "  array(7.036889, dtype=float32),\n",
       "  array(27.372438, dtype=float32),\n",
       "  array(9.809852, dtype=float32),\n",
       "  array(6.778279, dtype=float32),\n",
       "  array(6.358374, dtype=float32),\n",
       "  array(5.788587, dtype=float32)],\n",
       " 'reg': [array(0., dtype=float32),\n",
       "  array(0., dtype=float32),\n",
       "  array(0., dtype=float32),\n",
       "  array(0., dtype=float32),\n",
       "  array(0., dtype=float32),\n",
       "  array(0., dtype=float32),\n",
       "  array(0., dtype=float32),\n",
       "  array(0., dtype=float32),\n",
       "  array(0., dtype=float32),\n",
       "  array(0., dtype=float32),\n",
       "  array(0., dtype=float32),\n",
       "  array(0., dtype=float32),\n",
       "  array(0., dtype=float32),\n",
       "  array(0., dtype=float32),\n",
       "  array(0., dtype=float32),\n",
       "  array(0., dtype=float32),\n",
       "  array(0., dtype=float32),\n",
       "  array(0., dtype=float32),\n",
       "  array(0., dtype=float32),\n",
       "  array(476.61856, dtype=float32)]}"
      ]
     },
     "execution_count": 432,
     "metadata": {},
     "output_type": "execute_result"
    }
   ],
   "source": [
    "model = KAN([4, 8, 16, 36, 1], grid=10, k=5, seed=0)\n",
    "model.fit(dataset, steps = 20)"
   ]
  },
  {
   "cell_type": "code",
   "execution_count": 433,
   "metadata": {},
   "outputs": [
    {
     "data": {
      "text/plain": [
       "tensor([[0.1625, 0.1238, 0.2894, 0.2069],\n",
       "        [0.0500, 0.4950, 1.1574, 0.2069],\n",
       "        [0.0500, 0.9900, 0.4340, 0.7096],\n",
       "        ...,\n",
       "        [0.1063, 0.3713, 1.0127, 0.2069],\n",
       "        [0.4437, 0.3713, 0.1447, 0.7096],\n",
       "        [0.2750, 0.0000, 0.8681, 0.4080]])"
      ]
     },
     "execution_count": 433,
     "metadata": {},
     "output_type": "execute_result"
    }
   ],
   "source": [
    "dataset['train_input']"
   ]
  },
  {
   "cell_type": "markdown",
   "metadata": {},
   "source": [
    "307 — это минимальное значение test_loss, которое мне удалось получить для неверного рассчета градиента (на вход подавалась суточная добыча, а не в секунду).\n",
    "Те значения, которые приведены сейчас выше — это уже корректный рассчет.\n",
    "Возможно, можно было бы еще его снизить ручным подбором датасетов test и train, но врядли вышла бы качественная разница.\n",
    "Сделаем теперь валидационный датасет из промежуточных значений (чтобы не пересекаться с учебным)."
   ]
  },
  {
   "cell_type": "code",
   "execution_count": 449,
   "metadata": {},
   "outputs": [
    {
     "name": "stderr",
     "output_type": "stream",
     "text": [
      "100%|██████████| 4096/4096 [00:01<00:00, 4059.48it/s]\n"
     ]
    }
   ],
   "source": [
    "count = 8\n",
    "sec_p_day = 24 * 60 * 60   \n",
    "\n",
    "d_ = np.linspace(0.08, 0.47, count)\n",
    "wc_ = np.linspace(0.05, 0.9, count)\n",
    "delta_qg_ = np.linspace(50, 950, count) / sec_p_day            \n",
    "q0_ = np.linspace(50, 650, count) / sec_p_day \n",
    "\n",
    "constants = {'T' : 50,\n",
    "            'rho0' : 840.,\n",
    "            'rhog' : 700.,\n",
    "            'muo' : 0.07575,\n",
    "            'epsilon' : 0.000015,\n",
    "            'sigmao' : 0.02,\n",
    "            'theta' : 90,\n",
    "            'rs' : 20,\n",
    "            'p' : 1,\n",
    "            }\n",
    "\n",
    "iters_count = count ** 4\n",
    "DP_DZ_dict = []\n",
    "validation_data = []\n",
    "with tqdm(total=iters_count) as pbar:\n",
    "    for d_i, wc_i, delta_qg_i, q0_i in itertools.product(d_, wc_, delta_qg_, q0_):\n",
    "        pbar.update(1)\n",
    "        mode, grav, fric, hl, ll = calc_DP_DZ(**constants, wc = wc_i, d = d_i, delta_qg = delta_qg_i, q0 = q0_i)\n",
    "        if (grav > 0 and fric > 0 and hl > ll) and (mode == 0 or mode == 1):\n",
    "            DP_DZ = grav + fric\n",
    "            DP_DZ_dict.append(DP_DZ)\n",
    "            validation_data.append({'d' : d_i, 'wc' : wc_i, 'delta' : delta_qg_i * 1e2, 'q' : q0_i * 1e2})"
   ]
  },
  {
   "cell_type": "code",
   "execution_count": 450,
   "metadata": {},
   "outputs": [
    {
     "data": {
      "text/html": [
       "<div>\n",
       "<style scoped>\n",
       "    .dataframe tbody tr th:only-of-type {\n",
       "        vertical-align: middle;\n",
       "    }\n",
       "\n",
       "    .dataframe tbody tr th {\n",
       "        vertical-align: top;\n",
       "    }\n",
       "\n",
       "    .dataframe thead th {\n",
       "        text-align: right;\n",
       "    }\n",
       "</style>\n",
       "<table border=\"1\" class=\"dataframe\">\n",
       "  <thead>\n",
       "    <tr style=\"text-align: right;\">\n",
       "      <th></th>\n",
       "      <th>d</th>\n",
       "      <th>wc</th>\n",
       "      <th>delta</th>\n",
       "      <th>q</th>\n",
       "    </tr>\n",
       "  </thead>\n",
       "  <tbody>\n",
       "    <tr>\n",
       "      <th>0</th>\n",
       "      <td>0.08</td>\n",
       "      <td>0.05</td>\n",
       "      <td>0.05787</td>\n",
       "      <td>0.057870</td>\n",
       "    </tr>\n",
       "    <tr>\n",
       "      <th>1</th>\n",
       "      <td>0.08</td>\n",
       "      <td>0.05</td>\n",
       "      <td>0.05787</td>\n",
       "      <td>0.157077</td>\n",
       "    </tr>\n",
       "    <tr>\n",
       "      <th>2</th>\n",
       "      <td>0.08</td>\n",
       "      <td>0.05</td>\n",
       "      <td>0.05787</td>\n",
       "      <td>0.256283</td>\n",
       "    </tr>\n",
       "    <tr>\n",
       "      <th>3</th>\n",
       "      <td>0.08</td>\n",
       "      <td>0.05</td>\n",
       "      <td>0.05787</td>\n",
       "      <td>0.355489</td>\n",
       "    </tr>\n",
       "    <tr>\n",
       "      <th>4</th>\n",
       "      <td>0.08</td>\n",
       "      <td>0.05</td>\n",
       "      <td>0.05787</td>\n",
       "      <td>0.454696</td>\n",
       "    </tr>\n",
       "    <tr>\n",
       "      <th>...</th>\n",
       "      <td>...</td>\n",
       "      <td>...</td>\n",
       "      <td>...</td>\n",
       "      <td>...</td>\n",
       "    </tr>\n",
       "    <tr>\n",
       "      <th>2212</th>\n",
       "      <td>0.47</td>\n",
       "      <td>0.90</td>\n",
       "      <td>0.05787</td>\n",
       "      <td>0.454696</td>\n",
       "    </tr>\n",
       "    <tr>\n",
       "      <th>2213</th>\n",
       "      <td>0.47</td>\n",
       "      <td>0.90</td>\n",
       "      <td>0.05787</td>\n",
       "      <td>0.553902</td>\n",
       "    </tr>\n",
       "    <tr>\n",
       "      <th>2214</th>\n",
       "      <td>0.47</td>\n",
       "      <td>0.90</td>\n",
       "      <td>0.05787</td>\n",
       "      <td>0.653108</td>\n",
       "    </tr>\n",
       "    <tr>\n",
       "      <th>2215</th>\n",
       "      <td>0.47</td>\n",
       "      <td>0.90</td>\n",
       "      <td>0.05787</td>\n",
       "      <td>0.752315</td>\n",
       "    </tr>\n",
       "    <tr>\n",
       "      <th>2216</th>\n",
       "      <td>0.47</td>\n",
       "      <td>0.90</td>\n",
       "      <td>0.20668</td>\n",
       "      <td>0.752315</td>\n",
       "    </tr>\n",
       "  </tbody>\n",
       "</table>\n",
       "<p>2217 rows × 4 columns</p>\n",
       "</div>"
      ],
      "text/plain": [
       "         d    wc    delta         q\n",
       "0     0.08  0.05  0.05787  0.057870\n",
       "1     0.08  0.05  0.05787  0.157077\n",
       "2     0.08  0.05  0.05787  0.256283\n",
       "3     0.08  0.05  0.05787  0.355489\n",
       "4     0.08  0.05  0.05787  0.454696\n",
       "...    ...   ...      ...       ...\n",
       "2212  0.47  0.90  0.05787  0.454696\n",
       "2213  0.47  0.90  0.05787  0.553902\n",
       "2214  0.47  0.90  0.05787  0.653108\n",
       "2215  0.47  0.90  0.05787  0.752315\n",
       "2216  0.47  0.90  0.20668  0.752315\n",
       "\n",
       "[2217 rows x 4 columns]"
      ]
     },
     "execution_count": 450,
     "metadata": {},
     "output_type": "execute_result"
    }
   ],
   "source": [
    "pd.DataFrame(validation_data)"
   ]
  },
  {
   "cell_type": "code",
   "execution_count": 451,
   "metadata": {},
   "outputs": [],
   "source": [
    "KAN_results = model(torch.tensor(np.float32(pd.DataFrame(validation_data).values)))"
   ]
  },
  {
   "cell_type": "code",
   "execution_count": 452,
   "metadata": {},
   "outputs": [
    {
     "data": {
      "text/plain": [
       "0.35492739872061724"
      ]
     },
     "execution_count": 452,
     "metadata": {},
     "output_type": "execute_result"
    }
   ],
   "source": [
    "skm.mean_absolute_percentage_error(DP_DZ_dict, KAN_results.tolist())"
   ]
  },
  {
   "cell_type": "code",
   "execution_count": 453,
   "metadata": {},
   "outputs": [
    {
     "name": "stdout",
     "output_type": "stream",
     "text": [
      "saving model version 0.2\n"
     ]
    }
   ],
   "source": [
    "model = model.prune_node(threshold=1e-2)"
   ]
  },
  {
   "cell_type": "code",
   "execution_count": 454,
   "metadata": {},
   "outputs": [
    {
     "data": {
      "text/plain": [
       "0.3557752657705061"
      ]
     },
     "execution_count": 454,
     "metadata": {},
     "output_type": "execute_result"
    }
   ],
   "source": [
    "KAN_results = model(torch.tensor(np.float32(pd.DataFrame(validation_data).values)))\n",
    "skm.mean_absolute_percentage_error(DP_DZ_dict, KAN_results.tolist())"
   ]
  },
  {
   "cell_type": "markdown",
   "metadata": {},
   "source": [
    "Результат довольно печальный... 35% в среднем отклонение от реальных значений, рассчитаных по корреляции"
   ]
  },
  {
   "cell_type": "code",
   "execution_count": 455,
   "metadata": {},
   "outputs": [
    {
     "data": {
      "image/png": "[encoded data removed]",
      "text/plain": [
       "<Figure size 500x800 with 146 Axes>"
      ]
     },
     "metadata": {},
     "output_type": "display_data"
    }
   ],
   "source": [
    "model.plot()"
   ]
  },
  {
   "cell_type": "markdown",
   "metadata": {},
   "source": [
    "И тут я вспомнил, что вообще-то добычи должны передаваться в рассчет градиента в кубах в секунду, а не в сутки. И пересчитал все что было выше.\n",
    "Теперь предлагается в исходном датасете значение выходной переменной также привести к масштабу входных. Результаты сравнить."
   ]
  },
  {
   "cell_type": "code",
   "execution_count": 458,
   "metadata": {},
   "outputs": [
    {
     "name": "stderr",
     "output_type": "stream",
     "text": [
      "100%|██████████| 6561/6561 [00:01<00:00, 3757.43it/s]\n"
     ]
    }
   ],
   "source": [
    "count = 9\n",
    "sec_p_day = 24 * 60 * 60   \n",
    "\n",
    "d = np.linspace(0.05, 0.5, count)\n",
    "wc = np.linspace(0, 0.99, count)\n",
    "delta_qg = np.linspace(0, 1000, count) / sec_p_day\n",
    "q0 = np.linspace(5, 700, count) / sec_p_day\n",
    "\n",
    "\n",
    "constants = {'T' : 50,\n",
    "            'rho0' : 840.,\n",
    "            'rhog' : 700.,\n",
    "            'muo' : 0.07575,\n",
    "            'epsilon' : 0.000015,\n",
    "            'sigmao' : 0.02,\n",
    "            'theta' : 90,\n",
    "            'rs' : 20,\n",
    "            'p' : 1,\n",
    "            }\n",
    "\n",
    "iters_count = count ** 4\n",
    "data_dict = []\n",
    "with tqdm(total=iters_count) as pbar:\n",
    "    for d_i, wc_i, delta_qg_i, q0_i in itertools.product(d, wc, delta_qg, q0):\n",
    "        pbar.update(1)\n",
    "        mode, grav, fric, hl, ll = calc_DP_DZ(**constants, wc = wc_i, d = d_i, delta_qg = delta_qg_i, q0 = q0_i)\n",
    "        if (grav > 0 and fric > 0 and hl > ll) and (mode == 0 or mode == 1):\n",
    "            DP_DZ = grav + fric\n",
    "            data_dict.append({'d' : d_i,\n",
    "                              'wc' : wc_i,\n",
    "                              'delta_qg' : delta_qg_i,\n",
    "                              'q0' : q0_i,\n",
    "                              'DP_DZ' : DP_DZ,\n",
    "                              })\n",
    "            \n",
    "data = pd.DataFrame(data_dict)           \n",
    "            \n",
    "data['delta_qg'] = data['delta_qg'] * 1e2\n",
    "data['q0'] = data['q0'] * 1e2\n",
    "data['DP_DZ'] = data['DP_DZ'] * 1e-4"
   ]
  },
  {
   "cell_type": "code",
   "execution_count": 459,
   "metadata": {},
   "outputs": [
    {
     "data": {
      "text/html": [
       "<div>\n",
       "<style scoped>\n",
       "    .dataframe tbody tr th:only-of-type {\n",
       "        vertical-align: middle;\n",
       "    }\n",
       "\n",
       "    .dataframe tbody tr th {\n",
       "        vertical-align: top;\n",
       "    }\n",
       "\n",
       "    .dataframe thead th {\n",
       "        text-align: right;\n",
       "    }\n",
       "</style>\n",
       "<table border=\"1\" class=\"dataframe\">\n",
       "  <thead>\n",
       "    <tr style=\"text-align: right;\">\n",
       "      <th></th>\n",
       "      <th>d</th>\n",
       "      <th>wc</th>\n",
       "      <th>delta_qg</th>\n",
       "      <th>q0</th>\n",
       "      <th>DP_DZ</th>\n",
       "    </tr>\n",
       "  </thead>\n",
       "  <tbody>\n",
       "    <tr>\n",
       "      <th>0</th>\n",
       "      <td>0.05</td>\n",
       "      <td>0.00</td>\n",
       "      <td>0.0</td>\n",
       "      <td>0.005787</td>\n",
       "      <td>0.688421</td>\n",
       "    </tr>\n",
       "    <tr>\n",
       "      <th>1</th>\n",
       "      <td>0.05</td>\n",
       "      <td>0.00</td>\n",
       "      <td>0.0</td>\n",
       "      <td>0.106337</td>\n",
       "      <td>0.688416</td>\n",
       "    </tr>\n",
       "    <tr>\n",
       "      <th>2</th>\n",
       "      <td>0.05</td>\n",
       "      <td>0.00</td>\n",
       "      <td>0.0</td>\n",
       "      <td>0.206887</td>\n",
       "      <td>0.688411</td>\n",
       "    </tr>\n",
       "    <tr>\n",
       "      <th>3</th>\n",
       "      <td>0.05</td>\n",
       "      <td>0.00</td>\n",
       "      <td>0.0</td>\n",
       "      <td>0.307436</td>\n",
       "      <td>0.688406</td>\n",
       "    </tr>\n",
       "    <tr>\n",
       "      <th>4</th>\n",
       "      <td>0.05</td>\n",
       "      <td>0.00</td>\n",
       "      <td>0.0</td>\n",
       "      <td>0.407986</td>\n",
       "      <td>0.688401</td>\n",
       "    </tr>\n",
       "    <tr>\n",
       "      <th>...</th>\n",
       "      <td>...</td>\n",
       "      <td>...</td>\n",
       "      <td>...</td>\n",
       "      <td>...</td>\n",
       "      <td>...</td>\n",
       "    </tr>\n",
       "    <tr>\n",
       "      <th>3414</th>\n",
       "      <td>0.50</td>\n",
       "      <td>0.99</td>\n",
       "      <td>0.0</td>\n",
       "      <td>0.407986</td>\n",
       "      <td>0.978074</td>\n",
       "    </tr>\n",
       "    <tr>\n",
       "      <th>3415</th>\n",
       "      <td>0.50</td>\n",
       "      <td>0.99</td>\n",
       "      <td>0.0</td>\n",
       "      <td>0.508536</td>\n",
       "      <td>0.978074</td>\n",
       "    </tr>\n",
       "    <tr>\n",
       "      <th>3416</th>\n",
       "      <td>0.50</td>\n",
       "      <td>0.99</td>\n",
       "      <td>0.0</td>\n",
       "      <td>0.609086</td>\n",
       "      <td>0.978074</td>\n",
       "    </tr>\n",
       "    <tr>\n",
       "      <th>3417</th>\n",
       "      <td>0.50</td>\n",
       "      <td>0.99</td>\n",
       "      <td>0.0</td>\n",
       "      <td>0.709635</td>\n",
       "      <td>0.978074</td>\n",
       "    </tr>\n",
       "    <tr>\n",
       "      <th>3418</th>\n",
       "      <td>0.50</td>\n",
       "      <td>0.99</td>\n",
       "      <td>0.0</td>\n",
       "      <td>0.810185</td>\n",
       "      <td>0.978074</td>\n",
       "    </tr>\n",
       "  </tbody>\n",
       "</table>\n",
       "<p>3419 rows × 5 columns</p>\n",
       "</div>"
      ],
      "text/plain": [
       "         d    wc  delta_qg        q0     DP_DZ\n",
       "0     0.05  0.00       0.0  0.005787  0.688421\n",
       "1     0.05  0.00       0.0  0.106337  0.688416\n",
       "2     0.05  0.00       0.0  0.206887  0.688411\n",
       "3     0.05  0.00       0.0  0.307436  0.688406\n",
       "4     0.05  0.00       0.0  0.407986  0.688401\n",
       "...    ...   ...       ...       ...       ...\n",
       "3414  0.50  0.99       0.0  0.407986  0.978074\n",
       "3415  0.50  0.99       0.0  0.508536  0.978074\n",
       "3416  0.50  0.99       0.0  0.609086  0.978074\n",
       "3417  0.50  0.99       0.0  0.709635  0.978074\n",
       "3418  0.50  0.99       0.0  0.810185  0.978074\n",
       "\n",
       "[3419 rows x 5 columns]"
      ]
     },
     "execution_count": 459,
     "metadata": {},
     "output_type": "execute_result"
    }
   ],
   "source": [
    "data"
   ]
  },
  {
   "cell_type": "code",
   "execution_count": 460,
   "metadata": {},
   "outputs": [],
   "source": [
    "torch.set_default_dtype(torch.float32)\n",
    "labels_tensor = torch.tensor(np.float32(pd.DataFrame(data['DP_DZ']).values))\n",
    "data_tensor = torch.tensor(np.float32(pd.DataFrame(data[['d', 'wc', 'delta_qg', 'q0']]).values))\n",
    "dataset = create_dataset_from_data(data_tensor, labels_tensor)"
   ]
  },
  {
   "cell_type": "code",
   "execution_count": 461,
   "metadata": {},
   "outputs": [
    {
     "name": "stdout",
     "output_type": "stream",
     "text": [
      "checkpoint directory created: ./model\n",
      "saving model version 0.0\n"
     ]
    },
    {
     "name": "stderr",
     "output_type": "stream",
     "text": [
      "| train_loss: 7.38e-04 | test_loss: 2.12e-03 | reg: 4.84e+01 | : 100%|█| 20/20 [01:21<00:00,  4.06s/"
     ]
    },
    {
     "name": "stdout",
     "output_type": "stream",
     "text": [
      "saving model version 0.1\n"
     ]
    },
    {
     "name": "stderr",
     "output_type": "stream",
     "text": [
      "\n"
     ]
    },
    {
     "data": {
      "text/plain": [
       "{'train_loss': [array(0.01403714, dtype=float32),\n",
       "  array(0.00627875, dtype=float32),\n",
       "  array(0.00397253, dtype=float32),\n",
       "  array(0.00287588, dtype=float32),\n",
       "  array(0.00215213, dtype=float32),\n",
       "  array(0.00298308, dtype=float32),\n",
       "  array(0.00212703, dtype=float32),\n",
       "  array(0.00171506, dtype=float32),\n",
       "  array(0.00140261, dtype=float32),\n",
       "  array(0.00117388, dtype=float32),\n",
       "  array(0.0015418, dtype=float32),\n",
       "  array(0.00125278, dtype=float32),\n",
       "  array(0.00109418, dtype=float32),\n",
       "  array(0.00096083, dtype=float32),\n",
       "  array(0.0008622, dtype=float32),\n",
       "  array(0.00148136, dtype=float32),\n",
       "  array(0.00114091, dtype=float32),\n",
       "  array(0.00093369, dtype=float32),\n",
       "  array(0.00082, dtype=float32),\n",
       "  array(0.00073795, dtype=float32)],\n",
       " 'test_loss': [array(0.01695597, dtype=float32),\n",
       "  array(0.00900749, dtype=float32),\n",
       "  array(0.00635965, dtype=float32),\n",
       "  array(0.00522055, dtype=float32),\n",
       "  array(0.00427402, dtype=float32),\n",
       "  array(0.00431256, dtype=float32),\n",
       "  array(0.00353785, dtype=float32),\n",
       "  array(0.00317882, dtype=float32),\n",
       "  array(0.00280369, dtype=float32),\n",
       "  array(0.00249457, dtype=float32),\n",
       "  array(0.00285404, dtype=float32),\n",
       "  array(0.00262959, dtype=float32),\n",
       "  array(0.00247289, dtype=float32),\n",
       "  array(0.00234453, dtype=float32),\n",
       "  array(0.0022312, dtype=float32),\n",
       "  array(0.00285163, dtype=float32),\n",
       "  array(0.00256621, dtype=float32),\n",
       "  array(0.00230118, dtype=float32),\n",
       "  array(0.00222979, dtype=float32),\n",
       "  array(0.00211536, dtype=float32)],\n",
       " 'reg': [array(0., dtype=float32),\n",
       "  array(0., dtype=float32),\n",
       "  array(0., dtype=float32),\n",
       "  array(0., dtype=float32),\n",
       "  array(0., dtype=float32),\n",
       "  array(0., dtype=float32),\n",
       "  array(0., dtype=float32),\n",
       "  array(0., dtype=float32),\n",
       "  array(0., dtype=float32),\n",
       "  array(0., dtype=float32),\n",
       "  array(0., dtype=float32),\n",
       "  array(0., dtype=float32),\n",
       "  array(0., dtype=float32),\n",
       "  array(0., dtype=float32),\n",
       "  array(0., dtype=float32),\n",
       "  array(0., dtype=float32),\n",
       "  array(0., dtype=float32),\n",
       "  array(0., dtype=float32),\n",
       "  array(0., dtype=float32),\n",
       "  array(48.365925, dtype=float32)]}"
      ]
     },
     "execution_count": 461,
     "metadata": {},
     "output_type": "execute_result"
    }
   ],
   "source": [
    "model = KAN([4,8,16,16,1], grid=10, k=5, seed=0)\n",
    "model.fit(dataset, steps = 20)"
   ]
  },
  {
   "cell_type": "code",
   "execution_count": 462,
   "metadata": {},
   "outputs": [
    {
     "name": "stderr",
     "output_type": "stream",
     "text": [
      "100%|██████████| 4096/4096 [00:01<00:00, 3925.06it/s]\n"
     ]
    }
   ],
   "source": [
    "count = 8\n",
    "sec_p_day = 24 * 60 * 60   \n",
    "\n",
    "d_ = np.linspace(0.08, 0.47, count)\n",
    "wc_ = np.linspace(0.05, 0.9, count)\n",
    "delta_qg_ = np.linspace(50, 950, count) / sec_p_day            \n",
    "q0_ = np.linspace(50, 650, count) / sec_p_day \n",
    "\n",
    "constants = {'T' : 50,\n",
    "            'rho0' : 840.,\n",
    "            'rhog' : 700.,\n",
    "            'muo' : 0.07575,\n",
    "            'epsilon' : 0.000015,\n",
    "            'sigmao' : 0.02,\n",
    "            'theta' : 90,\n",
    "            'rs' : 20,\n",
    "            'p' : 1,\n",
    "            }\n",
    "\n",
    "iters_count = count ** 4\n",
    "DP_DZ_dict = []\n",
    "validation_data = []\n",
    "with tqdm(total=iters_count) as pbar:\n",
    "    for d_i, wc_i, delta_qg_i, q0_i in itertools.product(d_, wc_, delta_qg_, q0_):\n",
    "        pbar.update(1)\n",
    "        mode, grav, fric, hl, ll = calc_DP_DZ(**constants, wc = wc_i, d = d_i, delta_qg = delta_qg_i, q0 = q0_i)\n",
    "        if (grav > 0 and fric > 0 and hl > ll) and (mode == 0 or mode == 1):\n",
    "            DP_DZ = grav + fric\n",
    "            DP_DZ_dict.append(DP_DZ)\n",
    "            validation_data.append({'d' : d_i, 'wc' : wc_i, 'delta' : delta_qg_i * 1e2, 'q' : q0_i * 1e2})"
   ]
  },
  {
   "cell_type": "code",
   "execution_count": 465,
   "metadata": {},
   "outputs": [
    {
     "data": {
      "text/plain": [
       "0.021255244720412857"
      ]
     },
     "execution_count": 465,
     "metadata": {},
     "output_type": "execute_result"
    }
   ],
   "source": [
    "KAN_results = model(torch.tensor(np.float32(pd.DataFrame(validation_data).values))) * 1e4\n",
    "skm.mean_absolute_percentage_error(DP_DZ_dict, KAN_results.tolist())"
   ]
  },
  {
   "cell_type": "markdown",
   "metadata": {},
   "source": [
    "А вот это, скажу я вам, — совершенно другое дело!"
   ]
  },
  {
   "cell_type": "code",
   "execution_count": 466,
   "metadata": {},
   "outputs": [
    {
     "data": {
      "image/png": "[encoded data removed]",
      "text/plain": [
       "<Figure size 500x800 with 474 Axes>"
      ]
     },
     "metadata": {},
     "output_type": "display_data"
    }
   ],
   "source": [
    "model.plot()"
   ]
  },
  {
   "cell_type": "code",
   "execution_count": 467,
   "metadata": {},
   "outputs": [
    {
     "name": "stdout",
     "output_type": "stream",
     "text": [
      "saving model version 0.2\n"
     ]
    },
    {
     "data": {
      "text/plain": [
       "0.021255244720412857"
      ]
     },
     "execution_count": 467,
     "metadata": {},
     "output_type": "execute_result"
    }
   ],
   "source": [
    "model = model.prune_node(threshold=1e-2)\n",
    "KAN_results = model(torch.tensor(np.float32(pd.DataFrame(validation_data).values))) * 1e4\n",
    "skm.mean_absolute_percentage_error(DP_DZ_dict, KAN_results.tolist())"
   ]
  },
  {
   "cell_type": "markdown",
   "metadata": {},
   "source": [
    "Совершенно очевидно, что такой экспоненциальный рост времени расчета с Nпеременных мой i9 9880h вывозит с большим трудом. Однако, мы уже протестили модель и при N = 2 и при N = 4.\n",
    "Давайте же, вооружившись этим знанием, попробуем вернуться к исходной задаче."
   ]
  },
  {
   "cell_type": "code",
   "execution_count": 488,
   "metadata": {},
   "outputs": [],
   "source": [
    "count = 7\n",
    "sec_p_day = 24 * 60 * 60   \n",
    "\n",
    "\n",
    "# Чтобы избежать датасета размером в 100+ ярдов строк,\n",
    "# здесь я позволю себе зафиксировать только плотности нефти и газа, а также к-т поверх. наятж-я нефти\n",
    "# т.к. они меняется в незначительных пределах:\n",
    "rho0 = 850\n",
    "rhog = 1000\n",
    "sigmao = 20 * 1e-3\n",
    "\n",
    "T = np.linspace(10, 100, count)                         #температура гр.Ц.\n",
    "d = np.linspace(0.05, 0.5, count)                       #диаметры труб\n",
    "theta = np.linspace(10, 90, count)                      #уголы наклона\n",
    "q0 = np.linspace(5, 1000, count) / sec_p_day            #дебит нефти п.у. м**3/с\n",
    "delta_qg = np.linspace(0, 1000, count) / sec_p_day      #дельта к дебиту нефти, чтобы не получить отрицательные значения по расходу газа (для корректного рассчета коррелляции)\n",
    "rs = np.linspace(5, 40, count)                          #коэффициент растворимости газа в нефти (конденсации) или коэффициент выделения газа из нефти (выкипания)\n",
    "muo = np.linspace(1.5 * 1e-3, 150 * 1e-3, count)        #вязкость нефти\n",
    "epsilon = np.linspace(15 * 1e-6, 300 * 1e-6, count)     #шероховатость стенки трубы\n",
    "wc = np.linspace(0, 0.99, count)                        #коэффициент обводненности\n",
    "p = np.linspace(10, 100, count)\n",
    "\n",
    "N_var = 9 #число переменных"
   ]
  },
  {
   "cell_type": "code",
   "execution_count": 489,
   "metadata": {},
   "outputs": [
    {
     "name": "stderr",
     "output_type": "stream",
     "text": [
      "100%|██████████| 40353607/40353607 [2:34:07<00:00, 4363.71it/s]  \n"
     ]
    }
   ],
   "source": [
    "data_dict = []\n",
    "data_fp_2_3_dict = []\n",
    "with tqdm(total = count ** N_var) as pbar:\n",
    "    for T_i, d_i, theta_i, q0_i, delta_qg_i, rs_i, muo_i, epsilon_i, wc_i in itertools.product(T, d, theta, q0, delta_qg, rs, muo, epsilon, wc):\n",
    "        pbar.update(1)\n",
    "        mode, grav, fric, hl, ll = calc_DP_DZ(T = T_i, d = d_i, theta = theta_i, q0 = q0_i, delta_qg = delta_qg_i, rs = rs_i, muo = muo_i, epsilon = epsilon_i, wc = wc_i, p = 1, rho0 = 850, rhog = 1000, sigmao = 20 * 1e-3)\n",
    "        if (grav > 0 and fric > 0 and hl > ll) and (mode == 0 or mode == 1):\n",
    "            DP_DZ = grav + fric\n",
    "            data_dict.append({'T' : T_i, \n",
    "                              'd' : d_i,\n",
    "                              'theta' : theta_i,\n",
    "                              'q0' : q0_i,\n",
    "                              'delta_qg' : delta_qg_i,\n",
    "                              'rs' : rs_i,\n",
    "                              'muo' : muo_i,\n",
    "                              'epsilon' : epsilon_i,\n",
    "                              'wc' : wc_i,\n",
    "                              'DP_DZ' : DP_DZ,\n",
    "                              })\n",
    "        elif (grav > 0 and fric > 0 and hl > ll) and (mode == 2 or mode == 3):\n",
    "            for p_i in p:\n",
    "                mode, grav, fric, hl, ll = calc_DP_DZ(T = T_i, d = d_i, theta = theta_i, q0 = q0_i, delta_qg = delta_qg_i, rs = rs_i, muo = muo_i, epsilon = epsilon_i, wc = wc_i, p = p_i, rho0 = 850, rhog = 1000, sigmao = 20 * 1e-3)\n",
    "                DP_DZ = grav + fric\n",
    "                data_fp_2_3_dict.append({'T' : T_i, \n",
    "                                        'd' : d_i,\n",
    "                                        'theta' : theta_i,\n",
    "                                        'q0' : q0_i,\n",
    "                                        'delta_qg' : delta_qg_i,\n",
    "                                        'rs' : rs_i,\n",
    "                                        'muo' : muo_i,\n",
    "                                        'epsilon' : epsilon_i,\n",
    "                                        'wc' : wc_i,\n",
    "                                        'p' : p_i,                                        \n",
    "                                        'DP_DZ' : DP_DZ,\n",
    "                                        })"
   ]
  },
  {
   "cell_type": "code",
   "execution_count": 490,
   "metadata": {},
   "outputs": [],
   "source": [
    "data = pd.DataFrame(data_dict)\n",
    "data.to_csv('data.csv')"
   ]
  },
  {
   "cell_type": "markdown",
   "metadata": {},
   "source": [
    "Ну вот мы и стали обладателями скромного датасета объемом 3.5 Гб"
   ]
  },
  {
   "cell_type": "code",
   "execution_count": 3,
   "metadata": {},
   "outputs": [],
   "source": [
    "data = pd.read_csv('data.csv')\n",
    "data.drop('Unnamed: 0', axis=1, inplace = True)"
   ]
  },
  {
   "cell_type": "code",
   "execution_count": 5,
   "metadata": {},
   "outputs": [
    {
     "data": {
      "text/html": [
       "<div>\n",
       "<style scoped>\n",
       "    .dataframe tbody tr th:only-of-type {\n",
       "        vertical-align: middle;\n",
       "    }\n",
       "\n",
       "    .dataframe tbody tr th {\n",
       "        vertical-align: top;\n",
       "    }\n",
       "\n",
       "    .dataframe thead th {\n",
       "        text-align: right;\n",
       "    }\n",
       "</style>\n",
       "<table border=\"1\" class=\"dataframe\">\n",
       "  <thead>\n",
       "    <tr style=\"text-align: right;\">\n",
       "      <th></th>\n",
       "      <th>T</th>\n",
       "      <th>d</th>\n",
       "      <th>theta</th>\n",
       "      <th>q0</th>\n",
       "      <th>delta_qg</th>\n",
       "      <th>rs</th>\n",
       "      <th>muo</th>\n",
       "      <th>epsilon</th>\n",
       "      <th>wc</th>\n",
       "      <th>DP_DZ</th>\n",
       "    </tr>\n",
       "  </thead>\n",
       "  <tbody>\n",
       "    <tr>\n",
       "      <th>0</th>\n",
       "      <td>10.0</td>\n",
       "      <td>0.05</td>\n",
       "      <td>10.0</td>\n",
       "      <td>0.000058</td>\n",
       "      <td>0.000000</td>\n",
       "      <td>5.0</td>\n",
       "      <td>0.0015</td>\n",
       "      <td>0.000015</td>\n",
       "      <td>0.000</td>\n",
       "      <td>1209.661833</td>\n",
       "    </tr>\n",
       "    <tr>\n",
       "      <th>1</th>\n",
       "      <td>10.0</td>\n",
       "      <td>0.05</td>\n",
       "      <td>10.0</td>\n",
       "      <td>0.000058</td>\n",
       "      <td>0.000000</td>\n",
       "      <td>5.0</td>\n",
       "      <td>0.0015</td>\n",
       "      <td>0.000015</td>\n",
       "      <td>0.165</td>\n",
       "      <td>1291.143266</td>\n",
       "    </tr>\n",
       "    <tr>\n",
       "      <th>2</th>\n",
       "      <td>10.0</td>\n",
       "      <td>0.05</td>\n",
       "      <td>10.0</td>\n",
       "      <td>0.000058</td>\n",
       "      <td>0.000000</td>\n",
       "      <td>5.0</td>\n",
       "      <td>0.0015</td>\n",
       "      <td>0.000015</td>\n",
       "      <td>0.330</td>\n",
       "      <td>1372.624693</td>\n",
       "    </tr>\n",
       "    <tr>\n",
       "      <th>3</th>\n",
       "      <td>10.0</td>\n",
       "      <td>0.05</td>\n",
       "      <td>10.0</td>\n",
       "      <td>0.000058</td>\n",
       "      <td>0.000000</td>\n",
       "      <td>5.0</td>\n",
       "      <td>0.0015</td>\n",
       "      <td>0.000015</td>\n",
       "      <td>0.495</td>\n",
       "      <td>1454.106116</td>\n",
       "    </tr>\n",
       "    <tr>\n",
       "      <th>4</th>\n",
       "      <td>10.0</td>\n",
       "      <td>0.05</td>\n",
       "      <td>10.0</td>\n",
       "      <td>0.000058</td>\n",
       "      <td>0.000000</td>\n",
       "      <td>5.0</td>\n",
       "      <td>0.0015</td>\n",
       "      <td>0.000015</td>\n",
       "      <td>0.660</td>\n",
       "      <td>1535.587535</td>\n",
       "    </tr>\n",
       "    <tr>\n",
       "      <th>...</th>\n",
       "      <td>...</td>\n",
       "      <td>...</td>\n",
       "      <td>...</td>\n",
       "      <td>...</td>\n",
       "      <td>...</td>\n",
       "      <td>...</td>\n",
       "      <td>...</td>\n",
       "      <td>...</td>\n",
       "      <td>...</td>\n",
       "      <td>...</td>\n",
       "    </tr>\n",
       "    <tr>\n",
       "      <th>25194178</th>\n",
       "      <td>100.0</td>\n",
       "      <td>0.50</td>\n",
       "      <td>90.0</td>\n",
       "      <td>0.011574</td>\n",
       "      <td>0.011574</td>\n",
       "      <td>40.0</td>\n",
       "      <td>0.1500</td>\n",
       "      <td>0.000252</td>\n",
       "      <td>0.165</td>\n",
       "      <td>7435.361941</td>\n",
       "    </tr>\n",
       "    <tr>\n",
       "      <th>25194179</th>\n",
       "      <td>100.0</td>\n",
       "      <td>0.50</td>\n",
       "      <td>90.0</td>\n",
       "      <td>0.011574</td>\n",
       "      <td>0.011574</td>\n",
       "      <td>40.0</td>\n",
       "      <td>0.1500</td>\n",
       "      <td>0.000252</td>\n",
       "      <td>0.330</td>\n",
       "      <td>7904.596839</td>\n",
       "    </tr>\n",
       "    <tr>\n",
       "      <th>25194180</th>\n",
       "      <td>100.0</td>\n",
       "      <td>0.50</td>\n",
       "      <td>90.0</td>\n",
       "      <td>0.011574</td>\n",
       "      <td>0.011574</td>\n",
       "      <td>40.0</td>\n",
       "      <td>0.1500</td>\n",
       "      <td>0.000300</td>\n",
       "      <td>0.000</td>\n",
       "      <td>6966.126136</td>\n",
       "    </tr>\n",
       "    <tr>\n",
       "      <th>25194181</th>\n",
       "      <td>100.0</td>\n",
       "      <td>0.50</td>\n",
       "      <td>90.0</td>\n",
       "      <td>0.011574</td>\n",
       "      <td>0.011574</td>\n",
       "      <td>40.0</td>\n",
       "      <td>0.1500</td>\n",
       "      <td>0.000300</td>\n",
       "      <td>0.165</td>\n",
       "      <td>7435.361941</td>\n",
       "    </tr>\n",
       "    <tr>\n",
       "      <th>25194182</th>\n",
       "      <td>100.0</td>\n",
       "      <td>0.50</td>\n",
       "      <td>90.0</td>\n",
       "      <td>0.011574</td>\n",
       "      <td>0.011574</td>\n",
       "      <td>40.0</td>\n",
       "      <td>0.1500</td>\n",
       "      <td>0.000300</td>\n",
       "      <td>0.330</td>\n",
       "      <td>7904.596839</td>\n",
       "    </tr>\n",
       "  </tbody>\n",
       "</table>\n",
       "<p>25194183 rows × 10 columns</p>\n",
       "</div>"
      ],
      "text/plain": [
       "              T     d  theta        q0  delta_qg    rs     muo   epsilon  \\\n",
       "0          10.0  0.05   10.0  0.000058  0.000000   5.0  0.0015  0.000015   \n",
       "1          10.0  0.05   10.0  0.000058  0.000000   5.0  0.0015  0.000015   \n",
       "2          10.0  0.05   10.0  0.000058  0.000000   5.0  0.0015  0.000015   \n",
       "3          10.0  0.05   10.0  0.000058  0.000000   5.0  0.0015  0.000015   \n",
       "4          10.0  0.05   10.0  0.000058  0.000000   5.0  0.0015  0.000015   \n",
       "...         ...   ...    ...       ...       ...   ...     ...       ...   \n",
       "25194178  100.0  0.50   90.0  0.011574  0.011574  40.0  0.1500  0.000252   \n",
       "25194179  100.0  0.50   90.0  0.011574  0.011574  40.0  0.1500  0.000252   \n",
       "25194180  100.0  0.50   90.0  0.011574  0.011574  40.0  0.1500  0.000300   \n",
       "25194181  100.0  0.50   90.0  0.011574  0.011574  40.0  0.1500  0.000300   \n",
       "25194182  100.0  0.50   90.0  0.011574  0.011574  40.0  0.1500  0.000300   \n",
       "\n",
       "             wc        DP_DZ  \n",
       "0         0.000  1209.661833  \n",
       "1         0.165  1291.143266  \n",
       "2         0.330  1372.624693  \n",
       "3         0.495  1454.106116  \n",
       "4         0.660  1535.587535  \n",
       "...         ...          ...  \n",
       "25194178  0.165  7435.361941  \n",
       "25194179  0.330  7904.596839  \n",
       "25194180  0.000  6966.126136  \n",
       "25194181  0.165  7435.361941  \n",
       "25194182  0.330  7904.596839  \n",
       "\n",
       "[25194183 rows x 10 columns]"
      ]
     },
     "execution_count": 5,
     "metadata": {},
     "output_type": "execute_result"
    }
   ],
   "source": [
    "data"
   ]
  },
  {
   "cell_type": "code",
   "execution_count": 6,
   "metadata": {},
   "outputs": [
    {
     "name": "stdout",
     "output_type": "stream",
     "text": [
      "<class 'pandas.core.frame.DataFrame'>\n",
      "RangeIndex: 25194183 entries, 0 to 25194182\n",
      "Data columns (total 10 columns):\n",
      " #   Column    Non-Null Count     Dtype  \n",
      "---  ------    --------------     -----  \n",
      " 0   T         25194183 non-null  float64\n",
      " 1   d         25194183 non-null  float64\n",
      " 2   theta     25194183 non-null  float64\n",
      " 3   q0        25194183 non-null  float64\n",
      " 4   delta_qg  25194183 non-null  float64\n",
      " 5   rs        25194183 non-null  float64\n",
      " 6   muo       25194183 non-null  float64\n",
      " 7   epsilon   25194183 non-null  float64\n",
      " 8   wc        25194183 non-null  float64\n",
      " 9   DP_DZ     25194183 non-null  float64\n",
      "dtypes: float64(10)\n",
      "memory usage: 1.9 GB\n"
     ]
    }
   ],
   "source": [
    "data.info(show_counts = True)"
   ]
  },
  {
   "cell_type": "code",
   "execution_count": 7,
   "metadata": {},
   "outputs": [
    {
     "data": {
      "text/plain": [
       "T            100.000000\n",
       "d              0.500000\n",
       "theta         90.000000\n",
       "q0             0.011574\n",
       "delta_qg       0.011574\n",
       "rs            40.000000\n",
       "muo            0.150000\n",
       "epsilon        0.000300\n",
       "wc             0.990000\n",
       "DP_DZ       9781.561654\n",
       "dtype: float64"
      ]
     },
     "execution_count": 7,
     "metadata": {},
     "output_type": "execute_result"
    }
   ],
   "source": [
    "data.max()"
   ]
  },
  {
   "cell_type": "markdown",
   "metadata": {},
   "source": [
    "Сделаем нормализацию через матрицу"
   ]
  },
  {
   "cell_type": "code",
   "execution_count": 4,
   "metadata": {},
   "outputs": [],
   "source": [
    "normalization_matrix = np.diag([1e-2, 1, 1e-2, 1e2, 1e2, 1e-2, 1e1, 1e3, 1, 1e-4])"
   ]
  },
  {
   "cell_type": "code",
   "execution_count": 5,
   "metadata": {},
   "outputs": [],
   "source": [
    "mult = data.values @ normalization_matrix"
   ]
  },
  {
   "cell_type": "code",
   "execution_count": 6,
   "metadata": {},
   "outputs": [],
   "source": [
    "mult = pd.DataFrame(mult, columns = ['T','d','theta','q0','delta_qg','rs','muo','epsilon','wc','DP_DZ'])"
   ]
  },
  {
   "cell_type": "code",
   "execution_count": null,
   "metadata": {},
   "outputs": [],
   "source": [
    "torch.set_default_dtype(torch.float32)\n",
    "labels_tensor = torch.tensor(np.float32(mult['DP_DZ'].values))\n",
    "data_tensor = torch.tensor(np.float32(mult[['T','d','theta','q0','delta_qg','rs','muo','epsilon','wc']].values))\n",
    "dataset = create_dataset_from_data(data_tensor, labels_tensor)"
   ]
  },
  {
   "cell_type": "code",
   "execution_count": null,
   "metadata": {},
   "outputs": [
    {
     "name": "stdout",
     "output_type": "stream",
     "text": [
      "checkpoint directory created: ./model\n",
      "saving model version 0.0\n"
     ]
    },
    {
     "name": "stderr",
     "output_type": "stream",
     "text": [
      "description:   0%|                                                           | 0/20 [00:00<?, ?it/s]"
     ]
    }
   ],
   "source": [
    "model = KAN([9,18,48,48,48,1], grid=10, k=5, seed=0)\n",
    "model.fit(dataset, steps = 20)"
   ]
  },
  {
   "cell_type": "markdown",
   "metadata": {},
   "source": [
    "К сожалению на моем макбуке уже с таким датасетом ядро пайтон стабильно умирает. \n",
    "Попробую перенести задачу на стационарный комп с rtx3060 и запустить решатель на cuda."
   ]
  },
  {
   "cell_type": "markdown",
   "metadata": {},
   "source": [
    "Давайте теперь попробуем все то же самое, но с MLP.\n",
    "Вооружившись опытом KAN, также будем брать 3 внутренних слоя и гладкие функции активации. \n",
    "Есть гипотеза, что вид функции активации будет решать для этой конкретной задачи."
   ]
  },
  {
   "cell_type": "code",
   "execution_count": null,
   "metadata": {},
   "outputs": [],
   "source": [
    "class MyNN(nn.Module):\n",
    "    def __init__(self, n_variables = W):\n",
    "        # super позволяеть наследовать методы модуля nn\n",
    "        super(MyNN,self).__init__()\n",
    "        # создаем линейный слой\n",
    "        N = n_variables * (2 * n_variables + 1)\n",
    "        self.linear1 = nn.Linear(n_variables, N)\n",
    "        self.linear2 = nn.Linear(N,n_variables)\n",
    "        self.linear3 = nn.Linear(n_variables,n_variables)\n",
    "        self.linear4 = nn.Linear(n_variables,1)\n",
    "\n",
    "    def forward(self, x):\n",
    "        x = F.sigmoid(self.linear1(x))\n",
    "        x = F.sigmoid(self.linear2(x))\n",
    "        x = F.sigmoid(self.linear3(x))\n",
    "        x = self.linear4(x)\n",
    "        return x\n",
    "    \n",
    "model = MyNN()\n",
    "# инициализируем Adam для накопления импульса во время спуска\n",
    "optimizer = torch.optim.SGD(params=model.parameters(), lr=0.001)"
   ]
  },
  {
   "cell_type": "code",
   "execution_count": null,
   "metadata": {},
   "outputs": [],
   "source": [
    "N_EPOCHS = 150\n",
    "\n",
    "train_loss_history = []\n",
    "dev_loss_history = []\n",
    "ce = nn.CrossEntropyLoss()\n",
    "\n",
    "# Пройдемся 501 эпоху\n",
    "for i in tqdm(range(N_EPOCHS)):\n",
    "    # Прямой проход (предсказания)\n",
    "    predictions = model(tensor_data)\n",
    "    # Функция потерь\n",
    "    loss = ce(predictions, tensor_labels) # активация уже включена\n",
    "    # Градиенты\n",
    "    optimizer.zero_grad()\n",
    "    loss.backward()\n",
    "    # Шаг спуска\n",
    "    optimizer.step()\n",
    "    train_loss_history.append(loss.item())\n",
    "\n",
    "    # Валидируемся\n",
    "    if i % 10 == 0:\n",
    "        predictions = model(X_dev)\n",
    "        loss = ce(predictions, y_dev)\n",
    "        dev_loss_history.append(loss.item())"
   ]
  }
 ],
 "metadata": {
  "kernelspec": {
   "display_name": "Python 3",
   "language": "python",
   "name": "python3"
  },
  "language_info": {
   "codemirror_mode": {
    "name": "ipython",
    "version": 3
   },
   "file_extension": ".py",
   "mimetype": "text/x-python",
   "name": "python",
   "nbconvert_exporter": "python",
   "pygments_lexer": "ipython3",
   "version": "3.10.0"
  }
 },
 "nbformat": 4,
 "nbformat_minor": 2
}
