{
 "cells": [
  {
   "cell_type": "code",
   "execution_count": 1,
   "metadata": {},
   "outputs": [],
   "source": [
    "import _dunsros as DR\n",
    "\n",
    "import numpy as np\n",
    "import pandas as pd\n",
    "import matplotlib.pyplot as plt\n",
    "import seaborn as sns\n",
    "\n",
    "from kan import *\n",
    "import torch\n",
    "import torch.nn as nn\n",
    "\n",
    "device = torch.device('cuda' if torch.cuda.is_available() else 'cpu')"
   ]
  },
  {
   "cell_type": "code",
   "execution_count": null,
   "metadata": {},
   "outputs": [],
   "source": [
    "# условно константы\n",
    "k_og = 178                      #газовый фактор м.**3/ст.м.**3\n",
    "bo = 1.197                      #объемный коэффициент нефти\n",
    "bw = 1                          #объемный коэффициент воды\n",
    "bg = 9.1 * 1e-3                 #объемный коэффициент газа\n",
    "rhow = 1 * 1e3                  #плотность воды\n",
    "\n",
    "\n",
    "# условно переменные\n",
    "T = 10                          #температура гр.Ц.\n",
    "d = 0.1524                      #диаметр трубы\n",
    "theta = 90                      #угол наклона скважины\n",
    "q0 = 1.59 * 1e3                 #дебит нефти н.у.\n",
    "qg0 = 283 * 1e3                 #дебит газа н.у.\n",
    "rs = 50.6                       #коэффициент растворимости газа в нефти (конденсации) или коэффициент выделения газа из нефти (выкипания)\n",
    "rho0 = 8 * 1e2                  #плотность нефти\n",
    "rhog = 7 * 1e2                  #плотность газа\n",
    "mug = 0.016 * 1e-3              #вязкость газа\n",
    "muo = 0.97 * 1e-3               #вязкость нефти\n",
    "epsilon = 18.288 * 1e-6         #шероховатость стенки трубы\n",
    "sigmao = 8.41 * 1e-3            #коэффициент поверхностного натяжения нефти\n",
    "wc = 1 - qg0 / q0 / k_og        #коэффициент обводненности\n",
    "p = 180                         #давление (где?)\n",
    "\n",
    "\n",
    "\n",
    "# расчетные величины (кроме обводненности, которую удобно использовать как входную переменную)\n",
    "qo = q0 * (1 - wc) * bo                                 #объем нефти в пластовых условиях\n",
    "ql = ((1 - wc) * bo + wc * bw) * qo                     #объем жидкости в пластовых условиях\n",
    "qg = (qg0 - qo * rs * (1 - wc)) * bg                    #объем газа в пластовых условиях\n",
    "rho_lrc = rho0 * (1 - wc) / bo + rhow * wc / bw         #плотность жидкой фазы\n",
    "rho_grc = rhog / rs                                     #плотность газа\n",
    "                                                        #коэффициент поверхностного натяжения жидкость-газ\n",
    "                                                        #вязкость жидкости\n",
    "Sd = np.pi * d**2 / 4                                   #площадь сечения трубы\n",
    "\n",
    "sec_p_day = 24 * 60 * 60                                #переведем все в систему СИ\n",
    "qo = qo / sec_p_day\n",
    "ql = ql / sec_p_day\n",
    "qg = qg / sec_p_day\n",
    "\n",
    "args_params = {\n",
    "        \"d\": d,                         #диаметр в метрах\n",
    "        \"theta_deg\": theta,             #угол\n",
    "        \"ql_rc_m3day\": ql,              #дебит жидкости\n",
    "        \"qg_rc_m3day\": qg,              #расход газа\n",
    "        \"rho_lrc_kgm3\": rho_lrc,        #плотность жидкой фазы\n",
    "        \"rho_grc_kgm3\": rho_grc,        #плотность газа\n",
    "        \"p\": p,                         #давление (где?)\n",
    "        \"T\" : T,                        #температура смеси\n",
    "        \"wc\": wc,                       #заводнение\n",
    "        \"sigmao\": sigmao,               #коэффициент поверхностного натяжения нефти\n",
    "        \"muo\": muo,                     #вязкость нефти\n",
    "}\n",
    "\n",
    "calibr_C_grav = 1                       #коэффициент калибровки гравитационной компоненты градиента\n",
    "calibr_C_fric = 1                       #коэффициент калибровки фрикционной компоненты градиента\n",
    "\n",
    "args_grav_grad = {\n",
    "        \"theta_deg\": theta,\n",
    "        \"c_calibr_grav\": calibr_C_grav,\n",
    "}\n",
    "\n",
    "args_fric_grad = {\n",
    "        \"eps_m\": epsilon,\n",
    "        \"mug_rc_cp\": mug,\n",
    "        \"c_calibr_fric\": calibr_C_fric,\n",
    "        \"rho_lrc_kgm3\": rho_lrc,\n",
    "        \"rho_grc_kgm3\": rho_grc,\n",
    "        \"T\" : T,\n",
    "        \"wc\": wc,\n",
    "        \"sigmao\": sigmao,\n",
    "}"
   ]
  },
  {
   "cell_type": "code",
   "execution_count": 3,
   "metadata": {},
   "outputs": [
    {
     "ename": "NameError",
     "evalue": "name 'vsm' is not defined",
     "output_type": "error",
     "traceback": [
      "\u001b[0;31m---------------------------------------------------------------------------\u001b[0m",
      "\u001b[0;31mNameError\u001b[0m                                 Traceback (most recent call last)",
      "Cell \u001b[0;32mIn[3], line 3\u001b[0m\n\u001b[1;32m      1\u001b[0m \u001b[38;5;66;03m# протестируем работоспособность класса DunsRos()\u001b[39;00m\n\u001b[1;32m      2\u001b[0m dr_corr \u001b[38;5;241m=\u001b[39m DR\u001b[38;5;241m.\u001b[39mDunsRos()\n\u001b[0;32m----> 3\u001b[0m \u001b[43mdr_corr\u001b[49m\u001b[38;5;241;43m.\u001b[39;49m\u001b[43mcalc_params\u001b[49m\u001b[43m(\u001b[49m\u001b[38;5;241;43m*\u001b[39;49m\u001b[38;5;241;43m*\u001b[39;49m\u001b[43margs_params\u001b[49m\u001b[43m)\u001b[49m  \u001b[38;5;66;03m#класс подразумевает предварительный рассчет параметров данным методом, иначе работать не будет\u001b[39;00m\n\u001b[1;32m      4\u001b[0m dr_corr\u001b[38;5;241m.\u001b[39mcalc_grav(\u001b[38;5;241m*\u001b[39m\u001b[38;5;241m*\u001b[39margs_grav_grad) \u001b[38;5;241m+\u001b[39m dr_corr\u001b[38;5;241m.\u001b[39mcalc_fric(\u001b[38;5;241m*\u001b[39m\u001b[38;5;241m*\u001b[39margs_fric_grad), dr_corr\u001b[38;5;241m.\u001b[39mcalc_grav(\u001b[38;5;241m*\u001b[39m\u001b[38;5;241m*\u001b[39margs_grav_grad), dr_corr\u001b[38;5;241m.\u001b[39mcalc_fric(\u001b[38;5;241m*\u001b[39m\u001b[38;5;241m*\u001b[39margs_fric_grad)\n",
      "File \u001b[0;32m~/Documents/Pytorch KAN study/_dunsros.py:503\u001b[0m, in \u001b[0;36mDunsRos.calc_params\u001b[0;34m(self, d, theta_deg, ql_rc_m3day, qg_rc_m3day, rho_lrc_kgm3, rho_grc_kgm3, p, T, wc, sigmao, muo, **kwargs)\u001b[0m\n\u001b[1;32m    501\u001b[0m \u001b[38;5;66;03m# Определение истинного содержания жидкости\u001b[39;00m\n\u001b[1;32m    502\u001b[0m \u001b[38;5;28;01mif\u001b[39;00m \u001b[38;5;28mself\u001b[39m\u001b[38;5;241m.\u001b[39mfp \u001b[38;5;241m!=\u001b[39m \u001b[38;5;241m3\u001b[39m:\n\u001b[0;32m--> 503\u001b[0m     hl \u001b[38;5;241m=\u001b[39m \u001b[38;5;28;43mself\u001b[39;49m\u001b[38;5;241;43m.\u001b[39;49m\u001b[43m_calc_hl\u001b[49m\u001b[43m(\u001b[49m\n\u001b[1;32m    504\u001b[0m \u001b[43m        \u001b[49m\u001b[43mrho_lrc_kgm3\u001b[49m\u001b[43m,\u001b[49m\n\u001b[1;32m    505\u001b[0m \u001b[43m        \u001b[49m\u001b[43mn_gv\u001b[49m\u001b[43m,\u001b[49m\n\u001b[1;32m    506\u001b[0m \u001b[43m        \u001b[49m\u001b[43mn_lv\u001b[49m\u001b[43m,\u001b[49m\n\u001b[1;32m    507\u001b[0m \u001b[43m        \u001b[49m\u001b[43mn_l\u001b[49m\u001b[43m,\u001b[49m\n\u001b[1;32m    508\u001b[0m \u001b[43m        \u001b[49m\u001b[38;5;28;43mself\u001b[39;49m\u001b[38;5;241;43m.\u001b[39;49m\u001b[43mn_d\u001b[49m\u001b[43m,\u001b[49m\n\u001b[1;32m    509\u001b[0m \u001b[43m    \u001b[49m\u001b[43m)\u001b[49m\n\u001b[1;32m    510\u001b[0m     \u001b[38;5;28;01mif\u001b[39;00m \u001b[38;5;28mself\u001b[39m\u001b[38;5;241m.\u001b[39mfp \u001b[38;5;241m!=\u001b[39m \u001b[38;5;241m2\u001b[39m:\n\u001b[1;32m    511\u001b[0m         \u001b[38;5;28mself\u001b[39m\u001b[38;5;241m.\u001b[39mhl \u001b[38;5;241m=\u001b[39m hl\n",
      "File \u001b[0;32m~/Documents/Pytorch KAN study/_dunsros.py:189\u001b[0m, in \u001b[0;36mDunsRos._calc_hl\u001b[0;34m(self, rho_lrc_kgm3, n_gv, n_lv, n_l, n_d)\u001b[0m\n\u001b[1;32m    186\u001b[0m     s \u001b[38;5;241m=\u001b[39m (\u001b[38;5;241m1\u001b[39m \u001b[38;5;241m+\u001b[39m f5) \u001b[38;5;241m*\u001b[39m ((n_gv\u001b[38;5;241m*\u001b[39m\u001b[38;5;241m*\u001b[39m\u001b[38;5;241m0.982\u001b[39m \u001b[38;5;241m+\u001b[39m f6_hatch) \u001b[38;5;241m/\u001b[39m (\u001b[38;5;241m1\u001b[39m \u001b[38;5;241m+\u001b[39m f7 \u001b[38;5;241m*\u001b[39m n_lv) \u001b[38;5;241m*\u001b[39m\u001b[38;5;241m*\u001b[39m \u001b[38;5;241m2\u001b[39m)\n\u001b[1;32m    188\u001b[0m vs \u001b[38;5;241m=\u001b[39m s \u001b[38;5;241m/\u001b[39m (rho_lrc_kgm3 \u001b[38;5;241m/\u001b[39m (\u001b[38;5;241m9.81\u001b[39m \u001b[38;5;241m*\u001b[39m \u001b[38;5;28mself\u001b[39m\u001b[38;5;241m.\u001b[39msigma_l_nm)) \u001b[38;5;241m*\u001b[39m\u001b[38;5;241m*\u001b[39m \u001b[38;5;241m0.25\u001b[39m\n\u001b[0;32m--> 189\u001b[0m hl \u001b[38;5;241m=\u001b[39m (vs \u001b[38;5;241m-\u001b[39m \u001b[43mvsm\u001b[49m \u001b[38;5;241m+\u001b[39m ((vsm \u001b[38;5;241m-\u001b[39m vs) \u001b[38;5;241m*\u001b[39m\u001b[38;5;241m*\u001b[39m \u001b[38;5;241m2\u001b[39m \u001b[38;5;241m+\u001b[39m \u001b[38;5;241m4\u001b[39m \u001b[38;5;241m*\u001b[39m vs \u001b[38;5;241m*\u001b[39m vsl) \u001b[38;5;241m*\u001b[39m\u001b[38;5;241m*\u001b[39m \u001b[38;5;241m0.5\u001b[39m) \u001b[38;5;241m/\u001b[39m (\u001b[38;5;241m2\u001b[39m \u001b[38;5;241m*\u001b[39m vs)\n\u001b[1;32m    191\u001b[0m \u001b[38;5;28;01mreturn\u001b[39;00m hl\n",
      "\u001b[0;31mNameError\u001b[0m: name 'vsm' is not defined"
     ]
    }
   ],
   "source": [
    "# протестируем работоспособность класса DunsRos()\n",
    "dr_corr = DR.DunsRos()\n",
    "dr_corr.calc_params(**args_params)  #класс подразумевает предварительный рассчет параметров данным методом, иначе работать не будет\n",
    "dr_corr.calc_grav(**args_grav_grad) + dr_corr.calc_fric(**args_fric_grad), dr_corr.calc_grav(**args_grav_grad), dr_corr.calc_fric(**args_fric_grad)"
   ]
  },
  {
   "cell_type": "code",
   "execution_count": null,
   "metadata": {},
   "outputs": [],
   "source": [
    "# создадим функцию для вычисления градиента от аргументов (для более привычной записи)\n",
    "# PD_DZ = lambda args_grav_grad, args_fric_grad: dr_corr.calc_grav(**args_grav_grad) + dr_corr.calc_fric(**args_fric_grad)\n",
    "# list(args_fric_grad.values())"
   ]
  },
  {
   "cell_type": "code",
   "execution_count": null,
   "metadata": {},
   "outputs": [],
   "source": [
    "count = 5\n",
    "# Набираем диапазоны выбранных переменных для перебора. Диапазоны по длинне count короткие, т.к. при переборе будет n**count значений \n",
    "d = torch.tensor(np.linspace(0.11,0.32,count))                     #диаметры труб\n",
    "theta = torch.tensor(np.linspace(0,90,count))                      #уголы наклона\n",
    "q0 = torch.tensor(np.linspace(20,1000,count))                      #дебиты нефти н.у. м**3/сут.\n",
    "qg0 = 283 * 1e3                 #дебит газа н.у.\n",
    "rs = 50.6                       #коэффициент растворимости газа в нефти (конденсации) или коэффициент выделения газа из нефти (выкипания)\n",
    "rho0 = 8 * 1e2                  #плотность нефти\n",
    "rhog = 7 * 1e2                  #плотность газа\n",
    "mug = 0.016 * 1e-3              #вязкость газа\n",
    "muo = 0.97 * 1e-3               #вязкость нефти\n",
    "epsilon = 18.288 * 1e-6         #шероховатость стенки трубы\n",
    "sigmao = 8.41 * 1e-3            #коэффициент поверхностного натяжения нефти\n",
    "wc = torch.tensor(np.linspace(0.1,0.98,count))         #коэффициент обводненности\n",
    "p = torch.tensor(np.linspace(10,80,count))                         #давление (где?)\n",
    "\n"
   ]
  },
  {
   "cell_type": "code",
   "execution_count": 30,
   "metadata": {},
   "outputs": [
    {
     "data": {
      "text/plain": [
       "tensor([0.1000, 0.3200, 0.5400, 0.7600, 0.9800], dtype=torch.float64)"
      ]
     },
     "execution_count": 30,
     "metadata": {},
     "output_type": "execute_result"
    }
   ],
   "source": [
    "wc = torch.tensor(np.linspace(0.1,0.98,count))\n",
    "wc"
   ]
  },
  {
   "cell_type": "code",
   "execution_count": 13,
   "metadata": {},
   "outputs": [
    {
     "name": "stdout",
     "output_type": "stream",
     "text": [
      "checkpoint directory created: ./model\n",
      "saving model version 0.0\n"
     ]
    },
    {
     "name": "stderr",
     "output_type": "stream",
     "text": [
      "| train_loss: 4.47e-03 | test_loss: 4.23e-03 | reg: 4.17e+00 | : 100%|█| 40/40 [00:09<00:00,  4.34it"
     ]
    },
    {
     "name": "stdout",
     "output_type": "stream",
     "text": [
      "saving model version 0.1\n"
     ]
    },
    {
     "name": "stderr",
     "output_type": "stream",
     "text": [
      "\n"
     ]
    }
   ],
   "source": [
    "# let's construct a dataset\n",
    "f = lambda x: x[:,0]**2 + 0.3*x[:,1] + 0.1*x[:,2]**3 + 0.0*x[:,3]\n",
    "dataset = create_dataset(f, n_var=4, device=device)\n",
    "\n",
    "input_vars = [r'$x_'+str(i)+'$' for i in range(4)]\n",
    "\n",
    "model = KAN(width=[4,5,1], device=device)\n",
    "model.fit(dataset, steps=40, lamb=0.001);"
   ]
  },
  {
   "cell_type": "code",
   "execution_count": 22,
   "metadata": {},
   "outputs": [
    {
     "data": {
      "text/plain": [
       "tensor([0.1200, 0.1400, 0.1600, 0.1800, 0.2000], dtype=torch.float64)"
      ]
     },
     "execution_count": 22,
     "metadata": {},
     "output_type": "execute_result"
    }
   ],
   "source": [
    "d = torch.tensor(np.linspace(0.12,0.2,5))\n",
    "d"
   ]
  }
 ],
 "metadata": {
  "kernelspec": {
   "display_name": "Python 3",
   "language": "python",
   "name": "python3"
  },
  "language_info": {
   "codemirror_mode": {
    "name": "ipython",
    "version": 3
   },
   "file_extension": ".py",
   "mimetype": "text/x-python",
   "name": "python",
   "nbconvert_exporter": "python",
   "pygments_lexer": "ipython3",
   "version": "3.10.0"
  }
 },
 "nbformat": 4,
 "nbformat_minor": 2
}
