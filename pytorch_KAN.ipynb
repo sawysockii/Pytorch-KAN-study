{
 "cells": [
  {
   "cell_type": "code",
   "execution_count": 1,
   "metadata": {},
   "outputs": [
    {
     "ename": "ModuleNotFoundError",
     "evalue": "No module named '_dunsros'",
     "output_type": "error",
     "traceback": [
      "\u001b[0;31m---------------------------------------------------------------------------\u001b[0m",
      "\u001b[0;31mModuleNotFoundError\u001b[0m                       Traceback (most recent call last)",
      "Cell \u001b[0;32mIn[1], line 2\u001b[0m\n\u001b[1;32m      1\u001b[0m \u001b[38;5;28;01mimport\u001b[39;00m \u001b[38;5;21;01mnumpy\u001b[39;00m \u001b[38;5;28;01mas\u001b[39;00m \u001b[38;5;21;01mnp\u001b[39;00m\n\u001b[0;32m----> 2\u001b[0m \u001b[38;5;28;01mimport\u001b[39;00m \u001b[38;5;21;01m_dunsros\u001b[39;00m \u001b[38;5;28;01mas\u001b[39;00m \u001b[38;5;21;01mDR\u001b[39;00m\n\u001b[1;32m      3\u001b[0m \u001b[38;5;28;01mfrom\u001b[39;00m \u001b[38;5;21;01mkan\u001b[39;00m \u001b[38;5;28;01mimport\u001b[39;00m \u001b[38;5;241m*\u001b[39m\n\u001b[1;32m      4\u001b[0m \u001b[38;5;28;01mimport\u001b[39;00m \u001b[38;5;21;01mpandas\u001b[39;00m \u001b[38;5;28;01mas\u001b[39;00m \u001b[38;5;21;01mpd\u001b[39;00m\n",
      "\u001b[0;31mModuleNotFoundError\u001b[0m: No module named '_dunsros'"
     ]
    }
   ],
   "source": [
    "import numpy as np\n",
    "import _dunsros as DR\n",
    "from kan import *\n",
    "import pandas as pd\n",
    "import matplotlib.pyplot as plt\n",
    "import seaborn as sns\n",
    "\n",
    "import torch\n",
    "import torch.nn as nn\n",
    "\n",
    "device = torch.device('cuda' if torch.cuda.is_available() else 'cpu')\n",
    "print(device)"
   ]
  },
  {
   "cell_type": "code",
   "execution_count": null,
   "metadata": {},
   "outputs": [],
   "source": [
    "dr_corr = DR.DunsRos()"
   ]
  },
  {
   "cell_type": "code",
   "execution_count": null,
   "metadata": {},
   "outputs": [],
   "source": [
    "k_og = 178              #отношение добычи газа к нефти\n",
    "muw = 1.004 * 1e-3      #вязкость воды\n",
    "muo = 0.97 * 1e-3       #вязкость нефти\n",
    "d = 0.1524              #диаметр трубы\n",
    "theta = 90              #угол наклона скважины\n",
    "q0 = 1.59 * 1e3         #дебит нефти\n",
    "bo = 1.197              #объемный коэффициент нефти\n",
    "bw = 1                  #объемный коэффициент воды\n",
    "bg = 9.1 * 1e-3         #объемный коэффициент газа\n",
    "rs = 50.6               #астворимость газа в нефти (конденсации) или выделения газа из нефти (выкипания)\n",
    "rsw = 11.4              #растворимость газа в воде — зависит от пластовых температуры и давления, необходимо уточнять\n",
    "qg0 = 283 * 1e3         #дебит газа н.у.\n",
    "rho0 = 8 * 1e2          #плотность нефти\n",
    "rhog = 7 * 1e2          #плотность газ\n",
    "rhow = 1 * 1e3          #плотность воды\n",
    "sigmao = 8.41 * 1e-3    #коэффициент поверхностного натяжения нефти\n",
    "sigmaw = 58.9 * 1e-3    #коэффициент поверхностного натяжения воды при 100 гр.Ц.\n",
    "muo = 0.97 * 1e-3       #вязкость нефти\n",
    "muw = 0.28 * 1e-3       #вязкость воды при 100 гр.Ц.\n",
    "mug = 0.016 * 1e-3      #вязкость газа\n",
    "epsilon = 18.288 * 1e-6 #шероховатость стенки трубы\n",
    "\n",
    "wc = 1 - qg0 / q0 / k_og                                #коэффициент обводненности\n",
    "qo = q0 * (1 - wc) * bo                                 #объемный дебит нефти\n",
    "ql = ((1 - wc) * bo + wc * bw) * qo                     #дебит жидкости\n",
    "qg = (qg0 - qo * rs - qo * wc * rsw) * bg               #расход газа\n",
    "rho_lrc_kgm3 = rho0 * (1 - wc) / bo + rhow * wc / bw    #плотность жидкой фазы\n",
    "rho_grc_kgm3 = rhog / rs                                #плотность газа\n",
    "sigma_l_nm = sigmao * (1 - wc) + sigmaw * wc            #коэффициент поверхностного натяжения жидкость-газ\n",
    "p = 14                                                  #текущее давление\n",
    "mul_rc_cp = muo * (1 - wc)  + muw * wc                  #вязкость жидкости\n",
    "Sd = np.pi * d**2 / 4                                   #площадь сечения трубы\n",
    "\n",
    "sec_p_day = 24 * 60 * 60  #переведем все в систему СИ\n",
    "qo = qo / sec_p_day\n",
    "ql = ql / sec_p_day\n",
    "qg = qg / sec_p_day\n",
    "\n",
    "\n",
    "args_params = {\n",
    "        \"d\": d,                         #диаметр в метрах\n",
    "        \"theta_deg\": theta,             #угол\n",
    "        \"ql_rc_m3day\": ql,              #дебит жидкости\n",
    "        \"qg_rc_m3day\": qg,              #расход газа\n",
    "        \"rho_lrc_kgm3\": rho_lrc_kgm3,   #плотность жидкой фазы\n",
    "        \"rho_grc_kgm3\": rho_grc_kgm3,   #плотность газа\n",
    "        \"sigma_l_nm\": sigma_l_nm,       #коэффициент поверхностного натяжения жидкость-газ\n",
    "        \"p\": p,                         #текущее давление\n",
    "        \"mul_rc_cp\": mul_rc_cp,         #вязкость жидкости\n",
    "}\n",
    "\n"
   ]
  },
  {
   "cell_type": "code",
   "execution_count": null,
   "metadata": {},
   "outputs": [
    {
     "data": {
      "text/plain": [
       "(4246.693393278933, 4147.459405331203, 99.23398794773075)"
      ]
     },
     "execution_count": 22,
     "metadata": {},
     "output_type": "execute_result"
    }
   ],
   "source": [
    "calibr_C_grav = 1 #коэффициент калибровки гравитационной компоненты градиента\n",
    "calibr_C_fric = 1 #коэффициент калибровки фрикционной компоненты градиента\n",
    "\n",
    "dr_corr.calc_params(**args_params)\n",
    "\n",
    "args_fric_grad = {\n",
    "        \"eps_m\": epsilon,\n",
    "        \"mul_rc_cp\": mul_rc_cp,\n",
    "        \"mug_rc_cp\": mug,\n",
    "        \"c_calibr_fric\": calibr_C_fric,\n",
    "        \"rho_lrc_kgm3\": rho_lrc_kgm3,\n",
    "        \"rho_grc_kgm3\": rho_grc_kgm3,\n",
    "        \"sigma_l_nm\": sigma_l_nm,\n",
    "}\n",
    "\n",
    "dr_corr.calc_grav(theta, calibr_C_grav) + dr_corr.calc_fric(**args_fric_grad), dr_corr.calc_grav(theta, calibr_C_grav), dr_corr.calc_fric(**args_fric_grad)"
   ]
  },
  {
   "cell_type": "code",
   "execution_count": null,
   "metadata": {},
   "outputs": [
    {
     "ename": "NameError",
     "evalue": "name 'torch' is not defined",
     "output_type": "error",
     "traceback": [
      "\u001b[0;31m---------------------------------------------------------------------------\u001b[0m",
      "\u001b[0;31mNameError\u001b[0m                                 Traceback (most recent call last)",
      "Cell \u001b[0;32mIn[1], line 1\u001b[0m\n\u001b[0;32m----> 1\u001b[0m device \u001b[38;5;241m=\u001b[39m \u001b[43mtorch\u001b[49m\u001b[38;5;241m.\u001b[39mdevice(\u001b[38;5;124m'\u001b[39m\u001b[38;5;124mcuda\u001b[39m\u001b[38;5;124m'\u001b[39m \u001b[38;5;28;01mif\u001b[39;00m torch\u001b[38;5;241m.\u001b[39mcuda\u001b[38;5;241m.\u001b[39mis_available() \u001b[38;5;28;01melse\u001b[39;00m \u001b[38;5;124m'\u001b[39m\u001b[38;5;124mcpu\u001b[39m\u001b[38;5;124m'\u001b[39m)\n\u001b[1;32m      2\u001b[0m \u001b[38;5;28mprint\u001b[39m(device)\n\u001b[1;32m      4\u001b[0m \u001b[38;5;66;03m# let's construct a dataset\u001b[39;00m\n",
      "\u001b[0;31mNameError\u001b[0m: name 'torch' is not defined"
     ]
    }
   ],
   "source": [
    "device = torch.device('cuda' if torch.cuda.is_available() else 'cpu')\n",
    "print(device)\n",
    "\n",
    "# let's construct a dataset\n",
    "f = lambda x: x[:,0]**2 + 0.3*x[:,1] + 0.1*x[:,2]**3 + 0.0*x[:,3]\n",
    "dataset = create_dataset(f, n_var=4, device=device)\n",
    "\n",
    "input_vars = [r'$x_'+str(i)+'$' for i in range(4)]\n",
    "\n",
    "model = KAN(width=[4,5,1], device=device)\n",
    "model.fit(dataset, steps=40, lamb=0.001);"
   ]
  }
 ],
 "metadata": {
  "kernelspec": {
   "display_name": "Python 3",
   "language": "python",
   "name": "python3"
  },
  "language_info": {
   "codemirror_mode": {
    "name": "ipython",
    "version": 3
   },
   "file_extension": ".py",
   "mimetype": "text/x-python",
   "name": "python",
   "nbconvert_exporter": "python",
   "pygments_lexer": "ipython3",
   "version": "3.10.0"
  }
 },
 "nbformat": 4,
 "nbformat_minor": 2
}
