{
 "cells": [
  {
   "cell_type": "code",
   "execution_count": 21,
   "metadata": {},
   "outputs": [
    {
     "name": "stdout",
     "output_type": "stream",
     "text": [
      "cpu\n"
     ]
    }
   ],
   "source": [
    "import numpy as np\n",
    "import _dunsros as DR\n",
    "from kan import *\n",
    "import pandas as pd\n",
    "import matplotlib.pyplot as plt\n",
    "import seaborn as sns\n",
    "\n",
    "import torch\n",
    "import torch.nn as nn\n",
    "\n",
    "device = torch.device('cuda' if torch.cuda.is_available() else 'cpu')\n",
    "print(device)"
   ]
  },
  {
   "cell_type": "code",
   "execution_count": 2,
   "metadata": {},
   "outputs": [],
   "source": [
    "dr_corr = DR.DunsRos()"
   ]
  },
  {
   "cell_type": "code",
   "execution_count": null,
   "metadata": {},
   "outputs": [],
   "source": [
    "k_og = 178              #отношение добычи газа к нефти\n",
    "muw = 1.004 * 1e-3      #вязкость воды\n",
    "muo = 0.97 * 1e-3       #вязкость нефти\n",
    "d = 0.1524              #диаметр трубы\n",
    "theta = 90              #угол наклона скважины\n",
    "q0 = 1.59 * 1e3         #дебит нефти\n",
    "bo = 1.197              #объемный коэффициент нефти\n",
    "bw = 1                  #объемный коэффициент воды\n",
    "bg = 9.1 * 1e-3         #объемный коэффициент газа\n",
    "rs = 50.6               #астворимость газа в нефти (конденсации) или выделения газа из нефти (выкипания)\n",
    "rsw = 11.4              #растворимость газа в воде — зависит от пластовых температуры и давления, необходимо уточнять\n",
    "qg0 = 283 * 1e3         #дебит газа н.у.\n",
    "rho0 = 8 * 1e2          #плотность нефти\n",
    "rhog = 7 * 1e2          #плотность газ\n",
    "rhow = 1 * 1e3          #плотность воды\n",
    "sigmao = 8.41 * 1e-3    #коэффициент поверхностного натяжения нефти\n",
    "sigmaw = 58.9 * 1e-3    #коэффициент поверхностного натяжения воды при 100 гр.Ц.\n",
    "muo = 0.97 * 1e-3       #вязкость нефти\n",
    "muw = 0.28 * 1e-3       #вязкость воды при 100 гр.Ц.\n",
    "mug = 0.016 * 1e-3      #вязкость газа\n",
    "epsilon = 18.288 * 1e-6 #шероховатость стенки трубы\n",
    "\n",
    "wc = 1 - qg0 / q0 / k_og                                #коэффициент обводненности\n",
    "qo = q0 * (1 - wc) * bo                                 #объемный дебит нефти\n",
    "ql = ((1 - wc) * bo + wc * bw) * qo                     #дебит жидкости\n",
    "qg = (qg0 - qo * rs - qo * wc * rsw) * bg               #расход газа\n",
    "rho_lrc_kgm3 = rho0 * (1 - wc) / bo + rhow * wc / bw    #плотность жидкой фазы\n",
    "rho_grc_kgm3 = rhog / rs                                #плотность газа\n",
    "sigma_l_nm = sigmao * (1 - wc) + sigmaw * wc            #коэффициент поверхностного натяжения жидкость-газ\n",
    "p = 14                                                  #текущее давление\n",
    "mul_rc_cp = muo * (1 - wc)  + muw * wc                  #вязкость жидкости\n",
    "Sd = np.pi * d**2 / 4                                   #площадь сечения трубы\n",
    "\n",
    "sec_p_day = 24 * 60 * 60  #переведем все в систему СИ\n",
    "qo = qo / sec_p_day\n",
    "ql = ql / sec_p_day\n",
    "qg = qg / sec_p_day\n",
    "\n",
    "\n",
    "args_params = {\n",
    "        \"d\": d,                         #диаметр в метрах\n",
    "        \"theta_deg\": theta,             #угол\n",
    "        \"ql_rc_m3day\": ql,              #дебит жидкости\n",
    "        \"qg_rc_m3day\": qg,              #расход газа\n",
    "        \"rho_lrc_kgm3\": rho_lrc_kgm3,   #плотность жидкой фазы\n",
    "        \"rho_grc_kgm3\": rho_grc_kgm3,   #плотность газа\n",
    "        \"sigma_l_nm\": sigma_l_nm,       #коэффициент поверхностного натяжения жидкость-газ\n",
    "        \"p\": p,                         #текущее давление\n",
    "        \"mul_rc_cp\": mul_rc_cp,         #вязкость жидкости\n",
    "}\n",
    "\n"
   ]
  },
  {
   "cell_type": "code",
   "execution_count": 22,
   "metadata": {},
   "outputs": [
    {
     "data": {
      "text/plain": [
       "(4246.693393278933, 4147.459405331203, 99.23398794773075)"
      ]
     },
     "execution_count": 22,
     "metadata": {},
     "output_type": "execute_result"
    }
   ],
   "source": [
    "calibr_C_grav = 1 #коэффициент калибровки гравитационной компоненты градиента\n",
    "calibr_C_fric = 1 #коэффициент калибровки фрикционной компоненты градиента\n",
    "\n",
    "dr_corr.calc_params(**args_params)\n",
    "\n",
    "args_fric_grad = {\n",
    "        \"eps_m\": epsilon,\n",
    "        \"mul_rc_cp\": mul_rc_cp,\n",
    "        \"mug_rc_cp\": mug,\n",
    "        \"c_calibr_fric\": calibr_C_fric,\n",
    "        \"rho_lrc_kgm3\": rho_lrc_kgm3,\n",
    "        \"rho_grc_kgm3\": rho_grc_kgm3,\n",
    "        \"sigma_l_nm\": sigma_l_nm,\n",
    "}\n",
    "\n",
    "dr_corr.calc_grav(theta, calibr_C_grav) + dr_corr.calc_fric(**args_fric_grad), dr_corr.calc_grav(theta, calibr_C_grav), dr_corr.calc_fric(**args_fric_grad)"
   ]
  }
 ],
 "metadata": {
  "kernelspec": {
   "display_name": "Python 3",
   "language": "python",
   "name": "python3"
  },
  "language_info": {
   "codemirror_mode": {
    "name": "ipython",
    "version": 3
   },
   "file_extension": ".py",
   "mimetype": "text/x-python",
   "name": "python",
   "nbconvert_exporter": "python",
   "pygments_lexer": "ipython3",
   "version": "3.10.0"
  }
 },
 "nbformat": 4,
 "nbformat_minor": 2
}
