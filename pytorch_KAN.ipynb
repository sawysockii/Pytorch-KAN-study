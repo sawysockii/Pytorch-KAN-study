{
 "cells": [
  {
   "cell_type": "code",
   "execution_count": 1,
   "metadata": {},
   "outputs": [],
   "source": [
    "import _dunsros as DR\n",
    "\n",
    "import numpy as np\n",
    "import pandas as pd\n",
    "import matplotlib.pyplot as plt\n",
    "import seaborn as sns\n",
    "\n",
    "from kan import *\n",
    "import torch\n",
    "import torch.nn as nn\n",
    "\n",
    "device = torch.device('cuda' if torch.cuda.is_available() else 'cpu')"
   ]
  },
  {
   "cell_type": "code",
   "execution_count": null,
   "metadata": {},
   "outputs": [],
   "source": [
    "# условно константы\n",
    "bo = 1.197                      #объемный коэффициент нефти\n",
    "bw = 1                          #объемный коэффициент воды\n",
    "bg = 9.1 * 1e-3                 #объемный коэффициент газа\n",
    "rhow = 1 * 1e3                  #плотность воды\n",
    "muw = 0.28 * 1e-3               #вязкость воды при 100 гр.Ц.\n",
    "sigmaw = 58.9 * 1e-3            #коэффициент поверхностного натяжения воды при 100 гр.Ц.\n",
    "\n",
    "\n",
    "# условно переменные\n",
    "k_og = 178                      #газовый фактор м.**3/ст.м.**3\n",
    "d = 0.1524                      #диаметр трубы\n",
    "theta = 90                      #угол наклона скважины\n",
    "q0 = 1.59 * 1e3                 #дебит нефти н.у.\n",
    "qg0 = 283 * 1e3                 #дебит газа н.у.\n",
    "rs = 50.6                       #коэффициент растворимости газа в нефти (конденсации) или коэффициент выделения газа из нефти (выкипания)\n",
    "rho0 = 8 * 1e2                  #плотность нефти\n",
    "rhog = 7 * 1e2                  #плотность газа\n",
    "mug = 0.016 * 1e-3              #вязкость газа\n",
    "muo = 0.97 * 1e-3               #вязкость нефти\n",
    "epsilon = 18.288 * 1e-6         #шероховатость стенки трубы\n",
    "sigmao = 8.41 * 1e-3            #коэффициент поверхностного натяжения нефти\n",
    "wc = 1 - qg0 / q0 / k_og        #коэффициент обводненности\n",
    "\n",
    "\n",
    "# расчетные величины (кроме обводненности, которую удобно использовать как входную переменную)\n",
    "qo = q0 * (1 - wc) * bo                                 #объем нефти в пластовых условиях\n",
    "ql = ((1 - wc) * bo + wc * bw) * qo                     #объем жидкости в пластовых условиях\n",
    "qg = (qg0 - qo * rs * (1 - wc)) * bg                    #объем газа в пластовых условиях\n",
    "rho_lrc = rho0 * (1 - wc) / bo + rhow * wc / bw         #плотность жидкой фазы\n",
    "rho_grc = rhog / rs                                     #плотность газа\n",
    "sigma_l = sigmao * (1 - wc) + sigmaw * wc               #коэффициент поверхностного натяжения жидкость-газ\n",
    "p = 180                                                 #текущее давление (где?)\n",
    "mul_rc = muo * (1 - wc)  + muw * wc                     #вязкость жидкости\n",
    "Sd = np.pi * d**2 / 4                                   #площадь сечения трубы\n",
    "\n",
    "sec_p_day = 24 * 60 * 60                                #переведем все в систему СИ\n",
    "qo = qo / sec_p_day\n",
    "ql = ql / sec_p_day\n",
    "qg = qg / sec_p_day\n",
    "\n",
    "args_params = {\n",
    "        \"d\": d,                         #диаметр в метрах\n",
    "        \"theta_deg\": theta,             #угол\n",
    "        \"ql_rc_m3day\": ql,              #дебит жидкости\n",
    "        \"qg_rc_m3day\": qg,              #расход газа\n",
    "        \"rho_lrc_kgm3\": rho_lrc,        #плотность жидкой фазы\n",
    "        \"rho_grc_kgm3\": rho_grc,        #плотность газа\n",
    "        \"sigma_l_nm\": sigma_l,          #коэффициент поверхностного натяжения жидкость-газ\n",
    "        \"p\": p,                         #текущее давление\n",
    "        \"mul_rc_cp\": mul_rc,            #вязкость жидкости\n",
    "}\n",
    "\n",
    "calibr_C_grav = 1                       #коэффициент калибровки гравитационной компоненты градиента\n",
    "calibr_C_fric = 1                       #коэффициент калибровки фрикционной компоненты градиента\n",
    "\n",
    "args_grav_grad = {\n",
    "        \"theta_deg\": theta,\n",
    "        \"c_calibr_grav\": calibr_C_grav,\n",
    "}\n",
    "\n",
    "args_fric_grad = {\n",
    "        \"eps_m\": epsilon,\n",
    "        \"mul_rc_cp\": mul_rc,\n",
    "        \"mug_rc_cp\": mug,\n",
    "        \"c_calibr_fric\": calibr_C_fric,\n",
    "        \"rho_lrc_kgm3\": rho_lrc,\n",
    "        \"rho_grc_kgm3\": rho_grc,\n",
    "        \"sigma_l_nm\": sigma_l,\n",
    "}"
   ]
  },
  {
   "cell_type": "code",
   "execution_count": 68,
   "metadata": {},
   "outputs": [
    {
     "data": {
      "text/plain": [
       "(4246.625856792914, 4147.389976403376, 99.23588038953858)"
      ]
     },
     "execution_count": 68,
     "metadata": {},
     "output_type": "execute_result"
    }
   ],
   "source": [
    "# протестируем работоспособность класса DunsRos()\n",
    "dr_corr = DR.DunsRos()\n",
    "dr_corr.calc_params(**args_params)  #класс подразумевает предварительный рассчет параметров данным методом, иначе работать не будет\n",
    "dr_corr.calc_grav(**args_grav_grad) + dr_corr.calc_fric(**args_fric_grad), dr_corr.calc_grav(**args_grav_grad), dr_corr.calc_fric(**args_fric_grad)"
   ]
  },
  {
   "cell_type": "code",
   "execution_count": 47,
   "metadata": {},
   "outputs": [
    {
     "data": {
      "text/plain": [
       "5.874681149677324"
      ]
     },
     "execution_count": 47,
     "metadata": {},
     "output_type": "execute_result"
    }
   ],
   "source": [
    "dr_corr.vsm * dr_corr.vsg * dr_corr.rho_n_kgm3 / p"
   ]
  },
  {
   "cell_type": "code",
   "execution_count": null,
   "metadata": {},
   "outputs": [],
   "source": [
    "# создадим функцию для вычисления градиента от аргументов (для более привычной записи)\n",
    "# PD_DZ = lambda args_grav_grad, args_fric_grad: dr_corr.calc_grav(**args_grav_grad) + dr_corr.calc_fric(**args_fric_grad)\n",
    "# list(args_fric_grad.values())"
   ]
  },
  {
   "cell_type": "code",
   "execution_count": 13,
   "metadata": {},
   "outputs": [
    {
     "name": "stdout",
     "output_type": "stream",
     "text": [
      "checkpoint directory created: ./model\n",
      "saving model version 0.0\n"
     ]
    },
    {
     "name": "stderr",
     "output_type": "stream",
     "text": [
      "| train_loss: 4.47e-03 | test_loss: 4.23e-03 | reg: 4.17e+00 | : 100%|█| 40/40 [00:09<00:00,  4.34it"
     ]
    },
    {
     "name": "stdout",
     "output_type": "stream",
     "text": [
      "saving model version 0.1\n"
     ]
    },
    {
     "name": "stderr",
     "output_type": "stream",
     "text": [
      "\n"
     ]
    }
   ],
   "source": [
    "# let's construct a dataset\n",
    "f = lambda x: x[:,0]**2 + 0.3*x[:,1] + 0.1*x[:,2]**3 + 0.0*x[:,3]\n",
    "dataset = create_dataset(f, n_var=4, device=device)\n",
    "\n",
    "input_vars = [r'$x_'+str(i)+'$' for i in range(4)]\n",
    "\n",
    "model = KAN(width=[4,5,1], device=device)\n",
    "model.fit(dataset, steps=40, lamb=0.001);"
   ]
  }
 ],
 "metadata": {
  "kernelspec": {
   "display_name": "Python 3",
   "language": "python",
   "name": "python3"
  },
  "language_info": {
   "codemirror_mode": {
    "name": "ipython",
    "version": 3
   },
   "file_extension": ".py",
   "mimetype": "text/x-python",
   "name": "python",
   "nbconvert_exporter": "python",
   "pygments_lexer": "ipython3",
   "version": "3.10.0"
  }
 },
 "nbformat": 4,
 "nbformat_minor": 2
}
