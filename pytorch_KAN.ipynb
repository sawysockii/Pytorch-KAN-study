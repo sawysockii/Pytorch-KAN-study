{
 "cells": [
  {
   "cell_type": "code",
   "execution_count": 1,
   "metadata": {},
   "outputs": [],
   "source": [
    "import _dunsros as DR\n",
    "\n",
    "import numpy as np\n",
    "import pandas as pd\n",
    "import matplotlib.pyplot as plt\n",
    "import seaborn as sns\n",
    "import itertools\n",
    "from tqdm import tqdm\n",
    "\n",
    "from kan import *\n",
    "import torch\n",
    "import torch.nn as nn\n",
    "\n",
    "device = torch.device('cuda' if torch.cuda.is_available() else 'cpu')"
   ]
  },
  {
   "cell_type": "code",
   "execution_count": 60,
   "metadata": {},
   "outputs": [],
   "source": [
    "# условно константы\n",
    "k_og = 178                      #газовый фактор м.**3/ст.м.**3\n",
    "bo = 1.197                      #объемный коэффициент нефти\n",
    "bw = 1                          #объемный коэффициент воды\n",
    "bg = 9.1 * 1e-3                 #объемный коэффициент газа\n",
    "rhow = 1 * 1e3                  #плотность воды\n",
    "mug = 0.016 * 1e-3              #вязкость газа\n",
    "\n",
    "# условно переменные\n",
    "T = 50                          #температура гр.Ц.\n",
    "d = 0.154                       #диаметр трубы\n",
    "theta = 90                      #угол наклона скважины\n",
    "q0 = 1000                       #дебит нефти н.у.\n",
    "qg0 = 1 * 1e3                   #дебит газа н.у.\n",
    "rs = 5                          #газовый фактор — коэффициент растворимости газа в нефти (конденсации) или коэффициент выделения газа из нефти (выкипания)\n",
    "rho0 = 800                      #плотность нефти\n",
    "rhog = 700                      #плотность газа\n",
    "muo = 0.97 * 1e-3               #вязкость нефти\n",
    "epsilon = 18.288 * 1e-6         #шероховатость стенки трубы\n",
    "sigmao = 8.41 * 1e-3            #коэффициент поверхностного натяжения нефти\n",
    "# wc = 1 - qg0 / q0 / k_og        #коэффициент обводненности\n",
    "wc = 0.009\n",
    "p = 100                         #давление (где?)\n",
    "\n",
    "\n",
    "\n",
    "# расчетные величины (кроме обводненности, которую удобно использовать как входную переменную)\n",
    "qo = q0 * (1 - wc) * bo                                 #объем нефти в пластовых условиях\n",
    "ql = ((1 - wc) * bo + wc * bw) * qo                     #объем жидкости в пластовых условиях\n",
    "qg = (qg0 - q0 * rs * (1 - wc)) * bg                    #объем газа в пластовых условиях\n",
    "rho_lrc = rho0 * (1 - wc) / bo + rhow * wc / bw         #плотность жидкой фазы\n",
    "rho_grc = rhog / rs                                     #плотность газа\n",
    "\n",
    "delta_qg = 1000\n",
    "\n",
    "sec_p_day = 24 * 60 * 60                                #переведем все в систему СИ\n",
    "ql = ql / sec_p_day\n",
    "qg = (qo * rs * bg * (1 - wc) + delta_qg)  / sec_p_day\n",
    "\n",
    "args_params = {\n",
    "        \"d\": d,                         #диаметр в метрах\n",
    "        \"theta_deg\": theta,             #угол\n",
    "        \"ql_rc_m3day\": ql,              #дебит жидкости\n",
    "        \"qg_rc_m3day\": qg,              #расход газа\n",
    "        \"rho_lrc_kgm3\": rho_lrc,        #плотность жидкой фазы\n",
    "        \"rho_grc_kgm3\": rho_grc,        #плотность газа\n",
    "        \"p\": p,                         #давление (где?)\n",
    "        \"T\" : T,                        #температура смеси\n",
    "        \"wc\": wc,                       #коэффициент заводнения\n",
    "        \"sigmao\": sigmao,               #коэффициент поверхностного натяжения нефти\n",
    "        \"muo\": muo,                     #вязкость нефти\n",
    "}\n",
    "\n",
    "calibr_C_grav = 1                       #коэффициент калибровки гравитационной компоненты градиента\n",
    "calibr_C_fric = 1                       #коэффициент калибровки фрикционной компоненты градиента\n",
    "\n",
    "args_grav_grad = {\n",
    "        \"theta_deg\": theta,\n",
    "        \"c_calibr_grav\": calibr_C_grav,\n",
    "}\n",
    "\n",
    "args_fric_grad = {\n",
    "        \"eps_m\": epsilon,\n",
    "        \"mug_rc_cp\": mug,\n",
    "        \"c_calibr_fric\": calibr_C_fric,\n",
    "        \"rho_lrc_kgm3\": rho_lrc,\n",
    "        \"rho_grc_kgm3\": rho_grc,\n",
    "        \"T\" : T,\n",
    "        \"wc\": wc,\n",
    "        \"sigmao\": sigmao,\n",
    "        \"muo\" : muo,\n",
    "}"
   ]
  },
  {
   "cell_type": "code",
   "execution_count": 61,
   "metadata": {},
   "outputs": [
    {
     "data": {
      "text/plain": [
       "(0.8366611530696679, 1.345825599526718)"
      ]
     },
     "execution_count": 61,
     "metadata": {},
     "output_type": "execute_result"
    }
   ],
   "source": [
    "qo /sec_p_day / ql, ql / qg"
   ]
  },
  {
   "cell_type": "code",
   "execution_count": 62,
   "metadata": {},
   "outputs": [
    {
     "data": {
      "text/plain": [
       "(4727.0176265215705, 4690.482685789894, 36.53494073167611)"
      ]
     },
     "execution_count": 62,
     "metadata": {},
     "output_type": "execute_result"
    }
   ],
   "source": [
    "# протестируем работоспособность класса DunsRos()\n",
    "dr_corr = DR.DunsRos()\n",
    "dr_corr.calc_params(**args_params)  #класс подразумевает предварительный рассчет параметров данным методом, иначе работать не будет\n",
    "dr_corr.calc_grav(**args_grav_grad) + dr_corr.calc_fric(**args_fric_grad), dr_corr.calc_grav(**args_grav_grad), dr_corr.calc_fric(**args_fric_grad)"
   ]
  },
  {
   "cell_type": "code",
   "execution_count": 63,
   "metadata": {},
   "outputs": [
    {
     "data": {
      "text/plain": [
       "(0.6363984376696892, 0.5737108503710783, True)"
      ]
     },
     "execution_count": 63,
     "metadata": {},
     "output_type": "execute_result"
    }
   ],
   "source": [
    "dr_corr.hl, dr_corr.ll, dr_corr.hl > dr_corr.ll"
   ]
  },
  {
   "cell_type": "code",
   "execution_count": 64,
   "metadata": {},
   "outputs": [],
   "source": [
    "# создадим функцию для вычисления градиента\n",
    "def calc_DP_DZ(\n",
    "        T: float,                       #температура смеси\n",
    "        d: float,                       #диаметр в метрах\n",
    "        theta: float,                   #угол\n",
    "        q0: float,                        \n",
    "        delta_qg: float,\n",
    "        rs: float,                        \n",
    "        rho0: float,                    #плотность нефти\n",
    "        rhog: float,                    #плотность газа\n",
    "        muo: float,                       \n",
    "        epsilon : float,                #шероховатость стенки трубы\n",
    "        sigmao: float,                  #коэффициент поверхностного натяжения нефти\n",
    "        wc: float,                      #коэффициент заводнени\n",
    "        p: float,\n",
    "):\n",
    "    \n",
    "    mug = 0.016 * 1e-3                                      #вязкость газа\n",
    "    qo = q0 * (1 - wc) * bo                                 #объем нефти в пластовых условиях\n",
    "    ql = ((1 - wc) * bo + wc * bw) * qo                     #объем жидкости в пластовых условиях\n",
    "    qg = qo * rs * bg * (1 - wc) + delta_qg                 #объем газа в пластовых условиях\n",
    "    rho_lrc = rho0 * (1 - wc) / bo + rhow * wc / bw         #плотность жидкой фазы\n",
    "    rho_grc = rhog / rs                                     #плотность газа (?) \n",
    "    \n",
    "    sec_p_day = 24 * 60 * 60                                #переведем все в систему СИ\n",
    "    ql = ql / sec_p_day\n",
    "    qg = qg  / sec_p_day\n",
    "    \n",
    "    args_params = {\n",
    "        \"d\": d,                         #диаметр в метрах\n",
    "        \"theta_deg\": theta,             #угол\n",
    "        \"ql_rc_m3day\": ql,              #дебит жидкости\n",
    "        \"qg_rc_m3day\": qg,              #расход газа\n",
    "        \"rho_lrc_kgm3\": rho_lrc,        #плотность жидкой фазы\n",
    "        \"rho_grc_kgm3\": rho_grc,        #плотность газа\n",
    "        \"p\": p,                         #давление (где?)\n",
    "        \"T\" : T,                        #температура смеси\n",
    "        \"wc\": wc,                       #коэффициент заводнения\n",
    "        \"sigmao\": sigmao,               #коэффициент поверхностного натяжения нефти\n",
    "        \"muo\": muo,                     #вязкость нефти\n",
    "        }\n",
    "    \n",
    "    calibr_C_grav = 1                   #коэффициент калибровки гравитационной компоненты градиента\n",
    "    calibr_C_fric = 1                   #коэффициент калибровки фрикционной компоненты градиента\n",
    "    \n",
    "    args_grav_grad = {\n",
    "        \"theta_deg\": theta,\n",
    "        \"c_calibr_grav\": calibr_C_grav,\n",
    "        }\n",
    "    \n",
    "    args_fric_grad = {\n",
    "        \"eps_m\": epsilon,\n",
    "        \"mug_rc_cp\": mug,\n",
    "        \"c_calibr_fric\": calibr_C_fric,\n",
    "        \"rho_lrc_kgm3\": rho_lrc,\n",
    "        \"rho_grc_kgm3\": rho_grc,\n",
    "        \"T\" : T,\n",
    "        \"wc\": wc,\n",
    "        \"sigmao\": sigmao,\n",
    "        \"muo\" : muo,\n",
    "        }\n",
    "    \n",
    "    dr_corr = DR.DunsRos()\n",
    "    dr_corr.calc_params(**args_params)\n",
    "    if dr_corr.hl > dr_corr.ll:\n",
    "        DP_DZ = dr_corr.calc_grav(**args_grav_grad) + dr_corr.calc_fric(**args_fric_grad)\n",
    "        return DP_DZ, dr_corr.fp\n",
    "    else:\n",
    "        return None\n"
   ]
  },
  {
   "cell_type": "code",
   "execution_count": 67,
   "metadata": {},
   "outputs": [
    {
     "data": {
      "text/plain": [
       "(4727.0176265215705, 0)"
      ]
     },
     "execution_count": 67,
     "metadata": {},
     "output_type": "execute_result"
    }
   ],
   "source": [
    "T = 50                          #температура гр.Ц.\n",
    "d = 0.154                       #диаметр трубы\n",
    "theta = 90                      #угол наклона скважины\n",
    "q0 = 1000                       #дебит нефти н.у.\n",
    "delta_qg = 1000\n",
    "rs = 5                          #газовый фактор — коэффициент растворимости газа в нефти (конденсации) или коэффициент выделения газа из нефти (выкипания)\n",
    "rho0 = 800                      #плотность нефти\n",
    "rhog = 700                      #плотность газа\n",
    "muo = 0.97 * 1e-3               #вязкость нефти\n",
    "epsilon = 18.288 * 1e-6         #шероховатость стенки трубы\n",
    "sigmao = 8.41 * 1e-3            #коэффициент поверхностного натяжения нефти\n",
    "wc = 0.009\n",
    "\n",
    "calc_DP_DZ(T, d, theta, q0, delta_qg, rs, rho0, rhog, muo, epsilon, sigmao, wc, 1)"
   ]
  },
  {
   "cell_type": "code",
   "execution_count": 68,
   "metadata": {},
   "outputs": [],
   "source": [
    "count = 5\n",
    "count_min = 3\n",
    "\n",
    "# Набираем диапазоны выбранных переменных для перебора. Диапазоны короткие, т.к. при переборе будет count**13 значений (у нас 13 входных параметров)\n",
    "T = np.linspace(10, 100, count_min)                    #температура гр.Ц.\n",
    "d = np.linspace(0.11, 0.32, count)                     #диаметры труб\n",
    "theta = np.linspace(0, 90, count_min)                  #уголы наклона\n",
    "q0 = np.linspace(5, 1000, count)                       #дебит нефти п.у. м**3/с\n",
    "delta_qg = np.linspace(0, 1000, count)                 #дельта к дебиту нефти, чтобы не получить отрицательные значения по расходу газа (для корректного рассчета коррелляции)\n",
    "rs = np.linspace(5, 30, count)                         #коэффициент растворимости газа в нефти (конденсации) или коэффициент выделения газа из нефти (выкипания)\n",
    "rho0 = np.linspace(780, 900, count_min)                #плотность нефти\n",
    "rhog = np.linspace(700, 1300, count)                   #плотность газа\n",
    "muo = np.linspace(1.5 * 1e-3, 150 * 1e-3, count)       #вязкость нефти\n",
    "epsilon = np.linspace(15 * 1e-6, 300 * 1e-6, count)    #шероховатость стенки трубы\n",
    "sigmao = np.linspace(10 * 1e-3, 30 * 1e-3, count_min)  #коэффициент поверхностного натяжения нефти\n",
    "wc = np.linspace(0.05,0.98,count)                      #коэффициент обводненности\n",
    "p = np.linspace(10,100,count)                          #давление (где?)"
   ]
  },
  {
   "cell_type": "code",
   "execution_count": 69,
   "metadata": {},
   "outputs": [
    {
     "data": {
      "text/plain": [
       "31640625"
      ]
     },
     "execution_count": 69,
     "metadata": {},
     "output_type": "execute_result"
    }
   ],
   "source": [
    "iters_count = 0\n",
    "for T_i, d_i, theta_i, q0_i, delta_qg_i, rs_i, rho0_i, rhog_i, muo_i, epsilon_i, sigmao_i, wc_i in itertools.product(T, d, theta, q0, delta_qg, rs, rho0, rhog, muo, epsilon, sigmao, wc): iters_count += 1\n",
    "iters_count"
   ]
  },
  {
   "cell_type": "code",
   "execution_count": 70,
   "metadata": {},
   "outputs": [
    {
     "name": "stderr",
     "output_type": "stream",
     "text": [
      " 96%|█████████▋| 31640625/32822625 [2:14:49<05:02, 3911.48it/s]  \n"
     ]
    }
   ],
   "source": [
    "iters_count = 32822625\n",
    "data_fp_0_1_dict = []\n",
    "data_fp_2_3_dict = []\n",
    "with tqdm(total=iters_count) as pbar:\n",
    "    for T_i, d_i, theta_i, q0_i, delta_qg_i, rs_i, rho0_i, rhog_i, muo_i, epsilon_i, sigmao_i, wc_i in itertools.product(T, d, theta, q0, delta_qg, rs, rho0, rhog, muo, epsilon, sigmao, wc):\n",
    "        pbar.update(1)\n",
    "        DP_DZ, mode = calc_DP_DZ(T_i, d_i, theta_i, q0_i, delta_qg_i, rs_i, rho0_i, rhog_i, muo_i, epsilon_i, sigmao_i, wc_i, 1)\n",
    "        if (DP_DZ != None) and (DP_DZ >= 0) and (mode == 0 or mode == 1):\n",
    "            data_fp_0_1_dict.append({'T' : T_i, \n",
    "                                     'd' : d_i,\n",
    "                                     'theta' : theta_i,\n",
    "                                     'q0' : q0_i,\n",
    "                                     'delta_qg' : delta_qg_i,\n",
    "                                     'rs' : rs_i,\n",
    "                                     'rho0' : rho0_i,\n",
    "                                     'rhog' : rhog_i,\n",
    "                                     'muo' : muo_i,\n",
    "                                     'epsilon' : epsilon_i,\n",
    "                                     'sigmao' : sigmao_i,\n",
    "                                     'wc' : wc_i,\n",
    "                                     'DP_DZ' : DP_DZ,\n",
    "                                     'mode': mode,\n",
    "                                    })\n",
    "        elif (DP_DZ != None) and (DP_DZ >= 0) and (mode == 2 or mode == 3):\n",
    "            for p_i in p:\n",
    "                DP_DZ, mode = calc_DP_DZ(T_i, d_i, theta_i, q0_i, delta_qg_i, rs_i, rho0_i, rhog_i, muo_i, epsilon_i, sigmao_i, wc_i, p_i)\n",
    "                data_fp_2_3_dict.append({'T' : T_i, \n",
    "                                        'd' : d_i,\n",
    "                                        'theta' : theta_i,\n",
    "                                        'q0' : q0_i,\n",
    "                                        'delta_qg' : delta_qg_i,\n",
    "                                        'rs' : rs_i,\n",
    "                                        'rho0' : rho0_i,\n",
    "                                        'rhog' : rhog_i,\n",
    "                                        'muo' : muo_i,\n",
    "                                        'epsilon' : epsilon_i,\n",
    "                                        'sigmao' : sigmao_i,\n",
    "                                        'wc' : wc_i,\n",
    "                                        'p' : p_i,                                        \n",
    "                                        'DP_DZ' : DP_DZ,\n",
    "                                        'mode': mode,\n",
    "                                        })\n"
   ]
  },
  {
   "cell_type": "code",
   "execution_count": 72,
   "metadata": {},
   "outputs": [],
   "source": [
    "data_0_1 = pd.DataFrame(data_fp_0_1_dict)\n",
    "# data_2_3 = pd.DataFrame(data_fp_2_3_dict)\n",
    "data_0_1.to_csv('data_0_1.csv')\n",
    "# data_2_3.to_csv('data_2_3.csv')"
   ]
  },
  {
   "cell_type": "code",
   "execution_count": 79,
   "metadata": {},
   "outputs": [
    {
     "data": {
      "text/html": [
       "<div>\n",
       "<style scoped>\n",
       "    .dataframe tbody tr th:only-of-type {\n",
       "        vertical-align: middle;\n",
       "    }\n",
       "\n",
       "    .dataframe tbody tr th {\n",
       "        vertical-align: top;\n",
       "    }\n",
       "\n",
       "    .dataframe thead th {\n",
       "        text-align: right;\n",
       "    }\n",
       "</style>\n",
       "<table border=\"1\" class=\"dataframe\">\n",
       "  <thead>\n",
       "    <tr style=\"text-align: right;\">\n",
       "      <th></th>\n",
       "      <th>T</th>\n",
       "      <th>d</th>\n",
       "      <th>theta</th>\n",
       "      <th>q0</th>\n",
       "      <th>delta_qg</th>\n",
       "      <th>rs</th>\n",
       "      <th>rho0</th>\n",
       "      <th>rhog</th>\n",
       "      <th>muo</th>\n",
       "      <th>epsilon</th>\n",
       "      <th>sigmao</th>\n",
       "      <th>wc</th>\n",
       "      <th>DP_DZ</th>\n",
       "      <th>mode</th>\n",
       "    </tr>\n",
       "  </thead>\n",
       "  <tbody>\n",
       "    <tr>\n",
       "      <th>0</th>\n",
       "      <td>10.0</td>\n",
       "      <td>0.11</td>\n",
       "      <td>0.0</td>\n",
       "      <td>5.0</td>\n",
       "      <td>0.0</td>\n",
       "      <td>5.0</td>\n",
       "      <td>780.0</td>\n",
       "      <td>700.0</td>\n",
       "      <td>0.0015</td>\n",
       "      <td>0.000015</td>\n",
       "      <td>0.01</td>\n",
       "      <td>0.0500</td>\n",
       "      <td>0.003231</td>\n",
       "      <td>0</td>\n",
       "    </tr>\n",
       "    <tr>\n",
       "      <th>1</th>\n",
       "      <td>10.0</td>\n",
       "      <td>0.11</td>\n",
       "      <td>0.0</td>\n",
       "      <td>5.0</td>\n",
       "      <td>0.0</td>\n",
       "      <td>5.0</td>\n",
       "      <td>780.0</td>\n",
       "      <td>700.0</td>\n",
       "      <td>0.0015</td>\n",
       "      <td>0.000015</td>\n",
       "      <td>0.01</td>\n",
       "      <td>0.2825</td>\n",
       "      <td>0.001936</td>\n",
       "      <td>0</td>\n",
       "    </tr>\n",
       "    <tr>\n",
       "      <th>2</th>\n",
       "      <td>10.0</td>\n",
       "      <td>0.11</td>\n",
       "      <td>0.0</td>\n",
       "      <td>5.0</td>\n",
       "      <td>0.0</td>\n",
       "      <td>5.0</td>\n",
       "      <td>780.0</td>\n",
       "      <td>700.0</td>\n",
       "      <td>0.0015</td>\n",
       "      <td>0.000015</td>\n",
       "      <td>0.01</td>\n",
       "      <td>0.5150</td>\n",
       "      <td>0.000932</td>\n",
       "      <td>0</td>\n",
       "    </tr>\n",
       "    <tr>\n",
       "      <th>3</th>\n",
       "      <td>10.0</td>\n",
       "      <td>0.11</td>\n",
       "      <td>0.0</td>\n",
       "      <td>5.0</td>\n",
       "      <td>0.0</td>\n",
       "      <td>5.0</td>\n",
       "      <td>780.0</td>\n",
       "      <td>700.0</td>\n",
       "      <td>0.0015</td>\n",
       "      <td>0.000015</td>\n",
       "      <td>0.01</td>\n",
       "      <td>0.7475</td>\n",
       "      <td>0.000275</td>\n",
       "      <td>0</td>\n",
       "    </tr>\n",
       "    <tr>\n",
       "      <th>4</th>\n",
       "      <td>10.0</td>\n",
       "      <td>0.11</td>\n",
       "      <td>0.0</td>\n",
       "      <td>5.0</td>\n",
       "      <td>0.0</td>\n",
       "      <td>5.0</td>\n",
       "      <td>780.0</td>\n",
       "      <td>700.0</td>\n",
       "      <td>0.0015</td>\n",
       "      <td>0.000015</td>\n",
       "      <td>0.01</td>\n",
       "      <td>0.9800</td>\n",
       "      <td>0.000003</td>\n",
       "      <td>0</td>\n",
       "    </tr>\n",
       "    <tr>\n",
       "      <th>5</th>\n",
       "      <td>10.0</td>\n",
       "      <td>0.11</td>\n",
       "      <td>0.0</td>\n",
       "      <td>5.0</td>\n",
       "      <td>0.0</td>\n",
       "      <td>5.0</td>\n",
       "      <td>780.0</td>\n",
       "      <td>700.0</td>\n",
       "      <td>0.0015</td>\n",
       "      <td>0.000015</td>\n",
       "      <td>0.02</td>\n",
       "      <td>0.0500</td>\n",
       "      <td>0.003231</td>\n",
       "      <td>0</td>\n",
       "    </tr>\n",
       "    <tr>\n",
       "      <th>6</th>\n",
       "      <td>10.0</td>\n",
       "      <td>0.11</td>\n",
       "      <td>0.0</td>\n",
       "      <td>5.0</td>\n",
       "      <td>0.0</td>\n",
       "      <td>5.0</td>\n",
       "      <td>780.0</td>\n",
       "      <td>700.0</td>\n",
       "      <td>0.0015</td>\n",
       "      <td>0.000015</td>\n",
       "      <td>0.02</td>\n",
       "      <td>0.2825</td>\n",
       "      <td>0.001936</td>\n",
       "      <td>0</td>\n",
       "    </tr>\n",
       "    <tr>\n",
       "      <th>7</th>\n",
       "      <td>10.0</td>\n",
       "      <td>0.11</td>\n",
       "      <td>0.0</td>\n",
       "      <td>5.0</td>\n",
       "      <td>0.0</td>\n",
       "      <td>5.0</td>\n",
       "      <td>780.0</td>\n",
       "      <td>700.0</td>\n",
       "      <td>0.0015</td>\n",
       "      <td>0.000015</td>\n",
       "      <td>0.02</td>\n",
       "      <td>0.5150</td>\n",
       "      <td>0.000932</td>\n",
       "      <td>0</td>\n",
       "    </tr>\n",
       "    <tr>\n",
       "      <th>8</th>\n",
       "      <td>10.0</td>\n",
       "      <td>0.11</td>\n",
       "      <td>0.0</td>\n",
       "      <td>5.0</td>\n",
       "      <td>0.0</td>\n",
       "      <td>5.0</td>\n",
       "      <td>780.0</td>\n",
       "      <td>700.0</td>\n",
       "      <td>0.0015</td>\n",
       "      <td>0.000015</td>\n",
       "      <td>0.02</td>\n",
       "      <td>0.7475</td>\n",
       "      <td>0.000275</td>\n",
       "      <td>0</td>\n",
       "    </tr>\n",
       "    <tr>\n",
       "      <th>9</th>\n",
       "      <td>10.0</td>\n",
       "      <td>0.11</td>\n",
       "      <td>0.0</td>\n",
       "      <td>5.0</td>\n",
       "      <td>0.0</td>\n",
       "      <td>5.0</td>\n",
       "      <td>780.0</td>\n",
       "      <td>700.0</td>\n",
       "      <td>0.0015</td>\n",
       "      <td>0.000015</td>\n",
       "      <td>0.02</td>\n",
       "      <td>0.9800</td>\n",
       "      <td>0.000003</td>\n",
       "      <td>0</td>\n",
       "    </tr>\n",
       "  </tbody>\n",
       "</table>\n",
       "</div>"
      ],
      "text/plain": [
       "      T     d  theta   q0  delta_qg   rs   rho0   rhog     muo   epsilon  \\\n",
       "0  10.0  0.11    0.0  5.0       0.0  5.0  780.0  700.0  0.0015  0.000015   \n",
       "1  10.0  0.11    0.0  5.0       0.0  5.0  780.0  700.0  0.0015  0.000015   \n",
       "2  10.0  0.11    0.0  5.0       0.0  5.0  780.0  700.0  0.0015  0.000015   \n",
       "3  10.0  0.11    0.0  5.0       0.0  5.0  780.0  700.0  0.0015  0.000015   \n",
       "4  10.0  0.11    0.0  5.0       0.0  5.0  780.0  700.0  0.0015  0.000015   \n",
       "5  10.0  0.11    0.0  5.0       0.0  5.0  780.0  700.0  0.0015  0.000015   \n",
       "6  10.0  0.11    0.0  5.0       0.0  5.0  780.0  700.0  0.0015  0.000015   \n",
       "7  10.0  0.11    0.0  5.0       0.0  5.0  780.0  700.0  0.0015  0.000015   \n",
       "8  10.0  0.11    0.0  5.0       0.0  5.0  780.0  700.0  0.0015  0.000015   \n",
       "9  10.0  0.11    0.0  5.0       0.0  5.0  780.0  700.0  0.0015  0.000015   \n",
       "\n",
       "   sigmao      wc     DP_DZ  mode  \n",
       "0    0.01  0.0500  0.003231     0  \n",
       "1    0.01  0.2825  0.001936     0  \n",
       "2    0.01  0.5150  0.000932     0  \n",
       "3    0.01  0.7475  0.000275     0  \n",
       "4    0.01  0.9800  0.000003     0  \n",
       "5    0.02  0.0500  0.003231     0  \n",
       "6    0.02  0.2825  0.001936     0  \n",
       "7    0.02  0.5150  0.000932     0  \n",
       "8    0.02  0.7475  0.000275     0  \n",
       "9    0.02  0.9800  0.000003     0  "
      ]
     },
     "execution_count": 79,
     "metadata": {},
     "output_type": "execute_result"
    }
   ],
   "source": [
    "data_0_1.head(10)"
   ]
  },
  {
   "cell_type": "code",
   "execution_count": 83,
   "metadata": {},
   "outputs": [
    {
     "data": {
      "text/plain": [
       "(1.724929631691617e-09, 9761.318266811797)"
      ]
     },
     "execution_count": 83,
     "metadata": {},
     "output_type": "execute_result"
    }
   ],
   "source": [
    "data_0_1['DP_DZ'].min(), data_0_1['DP_DZ'].max()"
   ]
  },
  {
   "cell_type": "code",
   "execution_count": 84,
   "metadata": {},
   "outputs": [
    {
     "data": {
      "text/plain": [
       "(9748225, 21596900)"
      ]
     },
     "execution_count": 84,
     "metadata": {},
     "output_type": "execute_result"
    }
   ],
   "source": [
    "data_0_1[data_0_1['mode'] == 1].count()['mode'], data_0_1[data_0_1['mode'] == 0].count()['mode']"
   ]
  },
  {
   "cell_type": "code",
   "execution_count": null,
   "metadata": {},
   "outputs": [],
   "source": [
    "# let's construct a dataset\n",
    "f = lambda x: x[:,0]**2 + 0.3*x[:,1] + 0.1*x[:,2]**3 + 0.0*x[:,3]\n",
    "dataset = create_dataset(f, n_var=4, device=device)\n",
    "\n",
    "input_vars = [r'$x_'+str(i)+'$' for i in range(4)]\n",
    "\n",
    "model = KAN(width=[4,5,1], device=device)\n",
    "model.fit(dataset, steps=40, lamb=0.001);"
   ]
  },
  {
   "cell_type": "code",
   "execution_count": 2,
   "metadata": {},
   "outputs": [],
   "source": [
    "data = pd.read_csv('data_0_1.csv')"
   ]
  },
  {
   "cell_type": "code",
   "execution_count": 10,
   "metadata": {},
   "outputs": [
    {
     "name": "stdout",
     "output_type": "stream",
     "text": [
      "<class 'pandas.core.frame.DataFrame'>\n",
      "RangeIndex: 31345125 entries, 0 to 31345124\n",
      "Data columns (total 15 columns):\n",
      " #   Column      Non-Null Count     Dtype  \n",
      "---  ------      --------------     -----  \n",
      " 0   Unnamed: 0  31345125 non-null  int64  \n",
      " 1   T           31345125 non-null  float64\n",
      " 2   d           31345125 non-null  float64\n",
      " 3   theta       31345125 non-null  float64\n",
      " 4   q0          31345125 non-null  float64\n",
      " 5   delta_qg    31345125 non-null  float64\n",
      " 6   rs          31345125 non-null  float64\n",
      " 7   rho0        31345125 non-null  float64\n",
      " 8   rhog        31345125 non-null  float64\n",
      " 9   muo         31345125 non-null  float64\n",
      " 10  epsilon     31345125 non-null  float64\n",
      " 11  sigmao      31345125 non-null  float64\n",
      " 12  wc          31345125 non-null  float64\n",
      " 13  DP_DZ       31345125 non-null  float64\n",
      " 14  mode        31345125 non-null  int64  \n",
      "dtypes: float64(13), int64(2)\n",
      "memory usage: 3.5 GB\n"
     ]
    }
   ],
   "source": [
    "data.info(show_counts = True)"
   ]
  },
  {
   "cell_type": "code",
   "execution_count": 11,
   "metadata": {},
   "outputs": [
    {
     "data": {
      "text/plain": [
       "0"
      ]
     },
     "execution_count": 11,
     "metadata": {},
     "output_type": "execute_result"
    }
   ],
   "source": [
    "len(data.index)-len(data.drop_duplicates().index)"
   ]
  },
  {
   "cell_type": "code",
   "execution_count": 12,
   "metadata": {},
   "outputs": [
    {
     "data": {
      "text/plain": [
       "Unnamed: 0    0\n",
       "T             0\n",
       "d             0\n",
       "theta         0\n",
       "q0            0\n",
       "delta_qg      0\n",
       "rs            0\n",
       "rho0          0\n",
       "rhog          0\n",
       "muo           0\n",
       "epsilon       0\n",
       "sigmao        0\n",
       "wc            0\n",
       "DP_DZ         0\n",
       "mode          0\n",
       "dtype: int64"
      ]
     },
     "execution_count": 12,
     "metadata": {},
     "output_type": "execute_result"
    }
   ],
   "source": [
    "data.isna().sum()"
   ]
  },
  {
   "cell_type": "code",
   "execution_count": 18,
   "metadata": {},
   "outputs": [
    {
     "data": {
      "text/plain": [
       "0"
      ]
     },
     "execution_count": 18,
     "metadata": {},
     "output_type": "execute_result"
    }
   ],
   "source": [
    "data[data['DP_DZ'] == 0].count()['DP_DZ']"
   ]
  }
 ],
 "metadata": {
  "kernelspec": {
   "display_name": "Python 3",
   "language": "python",
   "name": "python3"
  },
  "language_info": {
   "codemirror_mode": {
    "name": "ipython",
    "version": 3
   },
   "file_extension": ".py",
   "mimetype": "text/x-python",
   "name": "python",
   "nbconvert_exporter": "python",
   "pygments_lexer": "ipython3",
   "version": "3.10.0"
  }
 },
 "nbformat": 4,
 "nbformat_minor": 2
}
